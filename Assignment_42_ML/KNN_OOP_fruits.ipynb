{
 "cells": [
  {
   "cell_type": "code",
   "execution_count": 749,
   "metadata": {},
   "outputs": [],
   "source": [
    "import numpy as np \n",
    "import pandas as pd \n",
    "import matplotlib.pyplot as plt \n",
    "from matplotlib.colors import ListedColormap"
   ]
  },
  {
   "cell_type": "code",
   "execution_count": 750,
   "metadata": {},
   "outputs": [],
   "source": [
    "# in func , yek bar dataye test , va yek bar dataye train tolid mikone \n",
    "# yek bar X va Y train tolid mikone \n",
    "# yek bar X va Y test  tolid mikone \n",
    "\n",
    "\n",
    "def generate_dataset(n)  :\n",
    "\n",
    "    apple_width = np.random.normal(6 , 1  , n)\n",
    "    apple_length = np.random.normal(6 , 1  , n)\n",
    "\n",
    "    banana_width = np.random.normal(4 , 1  , n )\n",
    "    banana_length = np.random.normal(8 , 1  , n) # tedad = 1000 parakendegi beine 6 , ba 1 adad var \n",
    "    \n",
    "    width = np.concatenate((apple_width , banana_width))\n",
    "    length = np.concatenate((apple_length , banana_length))\n",
    "    X = np.array([width , length]).transpose()\n",
    "\n",
    "    Y_apples  = np.zeros(n , dtype=int)\n",
    "    Y_bananas = np.ones(n , dtype=int)\n",
    "    Y = np.concatenate((Y_apples , Y_bananas))\n",
    "\n",
    "\n",
    "    return X , Y \n",
    "\n",
    "\n",
    "\n"
   ]
  },
  {
   "cell_type": "code",
   "execution_count": 751,
   "metadata": {},
   "outputs": [],
   "source": [
    "# 100 , yani 100 ta sib va 100 ta moz tolid koneh\n",
    "# inja dataye train tolid mikone aval \n",
    "\n",
    "X_train , Y_train = generate_dataset(100)"
   ]
  },
  {
   "cell_type": "code",
   "execution_count": 752,
   "metadata": {},
   "outputs": [
    {
     "data": {
      "text/plain": [
       "array([[ 7.50150236,  7.82864492],\n",
       "       [ 3.83332339,  6.65247695],\n",
       "       [ 6.01058185,  4.91030064],\n",
       "       [ 5.35354046,  6.19092784],\n",
       "       [ 5.75496623,  6.97204167],\n",
       "       [ 7.2566575 ,  4.20521572],\n",
       "       [ 7.94879405,  7.24669678],\n",
       "       [ 6.31269821,  5.69463425],\n",
       "       [ 6.41386717,  5.71321793],\n",
       "       [ 5.69998652,  6.15661467],\n",
       "       [ 6.39466819,  5.8547008 ],\n",
       "       [ 4.13241145,  5.37003713],\n",
       "       [ 6.29775285,  5.8458801 ],\n",
       "       [ 5.02410018,  7.51923279],\n",
       "       [ 5.45773377,  6.81008639],\n",
       "       [ 5.62428343,  5.90698053],\n",
       "       [ 8.61891879,  6.77415997],\n",
       "       [ 5.86923627,  5.77674529],\n",
       "       [ 5.37483053,  7.76022504],\n",
       "       [ 5.43016818,  4.97956544],\n",
       "       [ 5.6299631 ,  6.43543698],\n",
       "       [ 7.27366764,  4.88957027],\n",
       "       [ 6.3259037 ,  5.39818656],\n",
       "       [ 5.27053405,  5.44545816],\n",
       "       [ 5.16128532,  7.74862661],\n",
       "       [ 6.47599799,  4.91736407],\n",
       "       [ 7.23877228,  6.70655613],\n",
       "       [ 7.61153056,  5.38427305],\n",
       "       [ 5.1544886 ,  6.4812915 ],\n",
       "       [ 5.19550229,  6.16371418],\n",
       "       [ 5.73281264,  5.61388724],\n",
       "       [ 4.23991602,  7.22632044],\n",
       "       [ 6.96643886,  4.68887597],\n",
       "       [ 6.27625529,  5.85210243],\n",
       "       [ 5.23826707,  5.86710556],\n",
       "       [ 5.02529582,  7.10287342],\n",
       "       [ 6.86705932,  5.92518731],\n",
       "       [ 6.53275774,  6.65904229],\n",
       "       [ 6.97115209,  4.34567967],\n",
       "       [ 7.29128181,  5.92387491],\n",
       "       [ 5.12221198,  6.1759841 ],\n",
       "       [ 8.37187064,  5.97143776],\n",
       "       [ 6.47846225,  5.58211983],\n",
       "       [ 6.74299495,  6.26154092],\n",
       "       [ 6.33465867,  5.23510121],\n",
       "       [ 6.34179681,  6.53146639],\n",
       "       [ 5.12039059,  7.34595094],\n",
       "       [ 6.85572734,  6.41269549],\n",
       "       [ 5.51612906,  6.13798594],\n",
       "       [ 5.23357619,  5.73899089],\n",
       "       [ 5.65921344,  4.23043175],\n",
       "       [ 4.94461041,  5.67232717],\n",
       "       [ 6.04367498,  5.66741235],\n",
       "       [ 7.36128241,  5.78444621],\n",
       "       [ 7.63691476,  4.95870545],\n",
       "       [ 6.29478565,  9.29308333],\n",
       "       [ 6.10129813,  7.27265426],\n",
       "       [ 4.96085944,  5.00125076],\n",
       "       [ 4.31546537,  5.94940252],\n",
       "       [ 6.70241822,  4.5388856 ],\n",
       "       [ 5.5383594 ,  6.87721963],\n",
       "       [ 6.18148648,  7.78215824],\n",
       "       [ 5.43584765,  4.56198558],\n",
       "       [ 8.06627653,  5.44885977],\n",
       "       [ 5.53284047,  5.1056587 ],\n",
       "       [ 6.7376486 ,  6.1505091 ],\n",
       "       [ 4.54827494,  5.41267242],\n",
       "       [ 5.65392326,  6.63048105],\n",
       "       [ 5.29770436,  5.09360107],\n",
       "       [ 6.81384293,  5.73596876],\n",
       "       [ 5.60664805,  6.64130157],\n",
       "       [ 5.35608455,  3.862888  ],\n",
       "       [ 5.70950933,  5.89776467],\n",
       "       [ 5.80523472,  4.88590597],\n",
       "       [ 5.19803921,  6.25692961],\n",
       "       [ 6.67621589,  5.61687064],\n",
       "       [ 5.52393815,  4.61087993],\n",
       "       [ 8.62046809,  7.458536  ],\n",
       "       [ 8.46211576,  7.38811569],\n",
       "       [ 6.35795585,  6.59523973],\n",
       "       [ 5.53875155,  5.6083726 ],\n",
       "       [ 5.01850025,  4.39016777],\n",
       "       [ 6.37252058,  6.34742153],\n",
       "       [ 7.15644682,  7.0605869 ],\n",
       "       [ 6.28576739,  7.30117237],\n",
       "       [ 7.00514348,  6.30893805],\n",
       "       [ 5.84056753,  6.24910423],\n",
       "       [ 5.40309214,  6.51675327],\n",
       "       [ 6.58656828,  7.40292798],\n",
       "       [ 6.22261932,  4.99351227],\n",
       "       [ 8.16140956,  5.91748643],\n",
       "       [ 7.65341616,  6.9693201 ],\n",
       "       [ 6.30488294,  6.40910259],\n",
       "       [ 7.82286518,  7.13598146],\n",
       "       [ 5.58396512,  6.14400864],\n",
       "       [ 6.81025517,  5.41856963],\n",
       "       [ 3.221067  ,  5.47723286],\n",
       "       [ 4.97337571,  5.60786416],\n",
       "       [ 5.2271524 ,  6.88089697],\n",
       "       [ 5.31808797,  6.93224244],\n",
       "       [ 4.51496609,  6.9493381 ],\n",
       "       [ 5.02518878,  7.52611988],\n",
       "       [ 4.53708763,  7.07985025],\n",
       "       [ 5.57801835,  8.39502238],\n",
       "       [ 4.17536368,  6.65085539],\n",
       "       [ 5.76637412,  9.94660924],\n",
       "       [ 3.76107222,  9.00792252],\n",
       "       [ 4.26667724,  8.38891807],\n",
       "       [ 3.10155621,  7.87338026],\n",
       "       [ 3.67146358,  9.2159139 ],\n",
       "       [ 3.44603309,  8.05242331],\n",
       "       [ 5.14704335,  9.48664623],\n",
       "       [ 4.55957714,  7.61727887],\n",
       "       [ 3.59087754,  7.40785838],\n",
       "       [ 4.03770383,  8.78311836],\n",
       "       [ 3.6446531 ,  7.78796156],\n",
       "       [ 4.74027629,  8.36640526],\n",
       "       [ 4.86055844,  7.84659129],\n",
       "       [ 3.7018288 ,  6.71563331],\n",
       "       [ 3.00541468,  7.72620917],\n",
       "       [ 3.73864685,  6.06422179],\n",
       "       [ 1.92595092, 10.56581592],\n",
       "       [ 3.13221302,  7.39599208],\n",
       "       [ 4.55188523,  9.22919969],\n",
       "       [ 4.51222481,  8.7893413 ],\n",
       "       [ 3.30658753,  6.8353381 ],\n",
       "       [ 0.19724176,  8.95052645],\n",
       "       [ 4.31684754,  8.16801863],\n",
       "       [ 4.6532932 ,  6.35364442],\n",
       "       [ 3.68072277,  8.05776391],\n",
       "       [ 2.99954362,  7.85275759],\n",
       "       [ 4.93902489,  6.57128471],\n",
       "       [ 4.83942864,  8.14359074],\n",
       "       [ 4.53366904,  7.32200202],\n",
       "       [ 3.97515635,  8.6852983 ],\n",
       "       [ 5.49323525,  6.35768872],\n",
       "       [ 3.08289698,  7.63447931],\n",
       "       [ 3.08419337,  7.62878675],\n",
       "       [ 4.54629863,  6.67177909],\n",
       "       [ 3.22784242,  8.95367202],\n",
       "       [ 4.26823544,  7.80128047],\n",
       "       [ 2.82448654,  6.9525768 ],\n",
       "       [ 4.28375876,  8.8428293 ],\n",
       "       [ 4.84619915,  7.93358714],\n",
       "       [ 4.96918318,  9.2688517 ],\n",
       "       [ 3.88550747,  8.17501029],\n",
       "       [ 4.96545971,  7.59292797],\n",
       "       [ 3.52973886,  7.53563188],\n",
       "       [ 3.43833326,  7.72762486],\n",
       "       [ 5.08344128,  6.24335403],\n",
       "       [ 5.90141487,  9.58456573],\n",
       "       [ 5.09080588,  6.33642815],\n",
       "       [ 3.79522611,  6.59183204],\n",
       "       [ 4.55951976,  8.2632818 ],\n",
       "       [ 5.63446911,  7.10467018],\n",
       "       [ 4.69507481,  7.88079161],\n",
       "       [ 4.79037864,  8.87847326],\n",
       "       [ 4.69790768,  8.23130624],\n",
       "       [ 4.53627229,  7.78793286],\n",
       "       [ 4.23353018,  7.83601001],\n",
       "       [ 3.82225059,  7.90717182],\n",
       "       [ 3.20664108,  8.32466102],\n",
       "       [ 3.4383316 ,  6.689433  ],\n",
       "       [ 3.63600055,  9.57308926],\n",
       "       [ 4.95776017,  7.90765598],\n",
       "       [ 4.43064063, 10.66121483],\n",
       "       [ 4.24064061,  9.49564328],\n",
       "       [ 2.51172795, 10.86208915],\n",
       "       [ 3.95508183,  6.4932837 ],\n",
       "       [ 3.55289853,  7.89501241],\n",
       "       [ 3.15346247,  6.36727813],\n",
       "       [ 4.6119154 ,  7.69692232],\n",
       "       [ 4.05694436,  6.30516058],\n",
       "       [ 3.59407797,  7.66777317],\n",
       "       [ 3.52821539,  6.6763804 ],\n",
       "       [ 5.68024251,  7.32442973],\n",
       "       [ 5.05499475,  7.75671881],\n",
       "       [ 4.14046012,  7.97256066],\n",
       "       [ 5.05493064,  8.56229079],\n",
       "       [ 3.5490445 ,  8.94184512],\n",
       "       [ 4.67474877,  8.05650965],\n",
       "       [ 4.40472047,  7.79276012],\n",
       "       [ 3.2017881 , 10.62462261],\n",
       "       [ 4.92135042,  7.98321725],\n",
       "       [ 5.64559376,  7.9992582 ],\n",
       "       [ 4.85491077,  7.82310059],\n",
       "       [ 4.01825975,  6.97279863],\n",
       "       [ 4.93210904,  8.44140497],\n",
       "       [ 3.92915621,  8.25463199],\n",
       "       [ 3.43853317,  6.69146278],\n",
       "       [ 3.22063325,  7.33725605],\n",
       "       [ 4.96370802,  9.90563751],\n",
       "       [ 5.09452175,  6.9468912 ],\n",
       "       [ 4.02156562,  6.0986768 ],\n",
       "       [ 2.96928205,  5.83697468],\n",
       "       [ 3.85376451,  8.95957249],\n",
       "       [ 5.14214802,  7.97365025],\n",
       "       [ 4.70163501,  9.28680139],\n",
       "       [ 4.80044543,  8.0447613 ],\n",
       "       [ 3.53640166,  7.14293765]])"
      ]
     },
     "execution_count": 752,
     "metadata": {},
     "output_type": "execute_result"
    }
   ],
   "source": [
    "X_train\n",
    "\n",
    "# har satr neshan dahande yek mive ast \n",
    "# har sotoon neshhon dahande yek vijegi hast : width & length \n",
    "\n",
    "# ⛔⛔⛔⛔⛔⛔\n",
    "# first  column == x axis \n",
    "# second column == y axis "
   ]
  },
  {
   "cell_type": "code",
   "execution_count": 753,
   "metadata": {},
   "outputs": [
    {
     "data": {
      "text/plain": [
       "<matplotlib.collections.PathCollection at 0x269f956b550>"
      ]
     },
     "execution_count": 753,
     "metadata": {},
     "output_type": "execute_result"
    },
    {
     "data": {
      "image/png": "[encoded data removed]",
      "text/plain": [
       "<Figure size 640x480 with 1 Axes>"
      ]
     },
     "metadata": {},
     "output_type": "display_data"
    }
   ],
   "source": [
    "# ⛔⛔⛔⛔⛔⛔\n",
    "# first  column == x axis == X_train[: , 0]\n",
    "# second column == y axis == X_train[: , 1]\n",
    "# c = Y_train   ---> yani baraye tamayoze rang ha az label ha shoon estefade kon \n",
    "\n",
    "plt.scatter(X_train[:, 0] , X_train[: , 1] , c= Y_train , cmap= ListedColormap(['red' , 'orange' ]), marker='o' , alpha= 0.5)\n",
    "\n"
   ]
  },
  {
   "cell_type": "code",
   "execution_count": 754,
   "metadata": {},
   "outputs": [
    {
     "data": {
      "text/plain": [
       "'\\nclass KNN :\\n    def __init__(self , k ) :\\n        self.k = k \\n\\n\\n    # KNN training stage \\n    def fit(self , X , Y): \\n        self.X_train = X\\n        self.Y_train = Y\\n\\n\\n    # predict & GIVE NEW FRUIT label (y) ---> apple or banana\\n    # gets fruits FEATURE\\n    def predict(self , list_of_new_datas): \\n        Y_list = []\\n        for x in list_of_new_datas :\\n            \\n            distances = []\\n            for x_train in self.X_train :\\n                d = self.euclidean_distance(x , x_train) # euclidean_distance between new data & each of the TRAIN DATA\\n                distances.append(d)\\n\\n            nearest_neighbour = np.argsort(distances)[0 : self.k]\\n            result = np.bincount(self.Y_train[nearest_neighbour])\\n            y = np.argmax(result)\\n            Y_list.append(y)\\n\\n            \\n        # we must return a list of y\\'s ,, not only a one y \\n        return Y_list \\n\\n\\n\\n    def euclidean_distance(self , x1 , x2) :\\n        return np.sqrt(np.sum((x1 - x2)**2 ))\\n    \\n\\n\\n    # khode in tabe javabo midoone (x & y az ghabl moshakhas hast), va mikhad az ma beporse va test begire\\n    # x == questions \\n    # y == answers\\n    # goal = compareing  our answers ,, with their true results \\n    def evaluate(self , X , Y ) : \\n\\n        Y_predicted = self.predict(X)     # our answers     # COMPARE ((( Y == real answer))) and  (((( Y_predicted == our prediction)))\\n        accuracy = np.sum(Y_predicted == Y)  / len(Y)               # CHECK \"how many\" of (((Y_predicted))) are equal to  (((( Y ))))\\n        return accuracy\\n\\n'"
      ]
     },
     "execution_count": 754,
     "metadata": {},
     "output_type": "execute_result"
    }
   ],
   "source": [
    "# we can import this class from its module named knn.py\n",
    "from knn import KNN\n",
    "\n",
    "# or below part :\n",
    "'''\n",
    "class KNN :\n",
    "    def __init__(self , k ) :\n",
    "        self.k = k \n",
    "\n",
    "\n",
    "    # KNN training stage \n",
    "    def fit(self , X , Y): \n",
    "        self.X_train = X\n",
    "        self.Y_train = Y\n",
    "\n",
    "\n",
    "    # predict & GIVE NEW FRUIT label (y) ---> apple or banana\n",
    "    # gets fruits FEATURE\n",
    "    def predict(self , list_of_new_datas): \n",
    "        Y_list = []\n",
    "        for x in list_of_new_datas :\n",
    "            \n",
    "            distances = []\n",
    "            for x_train in self.X_train :\n",
    "                d = self.euclidean_distance(x , x_train) # euclidean_distance between new data & each of the TRAIN DATA\n",
    "                distances.append(d)\n",
    "\n",
    "            nearest_neighbour = np.argsort(distances)[0 : self.k]\n",
    "            result = np.bincount(self.Y_train[nearest_neighbour])\n",
    "            y = np.argmax(result)\n",
    "            Y_list.append(y)\n",
    "\n",
    "            \n",
    "        # we must return a list of y's ,, not only a one y \n",
    "        return Y_list \n",
    "\n",
    "\n",
    "\n",
    "    def euclidean_distance(self , x1 , x2) :\n",
    "        return np.sqrt(np.sum((x1 - x2)**2 ))\n",
    "    \n",
    "\n",
    "\n",
    "    # khode in tabe javabo midoone (x & y az ghabl moshakhas hast), va mikhad az ma beporse va test begire\n",
    "    # x == questions \n",
    "    # y == answers\n",
    "    # goal = compareing  our answers ,, with their true results \n",
    "    def evaluate(self , X , Y ) : \n",
    "\n",
    "        Y_predicted = self.predict(X)     # our answers     # COMPARE ((( Y == real answer))) and  (((( Y_predicted == our prediction)))\n",
    "        accuracy = np.sum(Y_predicted == Y)  / len(Y)               # CHECK \"how many\" of (((Y_predicted))) are equal to  (((( Y ))))\n",
    "        return accuracy\n",
    "\n",
    "'''"
   ]
  },
  {
   "attachments": {},
   "cell_type": "markdown",
   "metadata": {},
   "source": [
    "# Learning phase : (fitting)"
   ]
  },
  {
   "cell_type": "code",
   "execution_count": 755,
   "metadata": {},
   "outputs": [],
   "source": [
    "# create object from calss \n",
    "knn = KNN(5)\n",
    "\n",
    "#learning\n",
    "knn.fit(X_train , Y_train)"
   ]
  },
  {
   "cell_type": "code",
   "execution_count": 756,
   "metadata": {},
   "outputs": [
    {
     "data": {
      "text/plain": [
       "[0, 1, 0, 1]"
      ]
     },
     "execution_count": 756,
     "metadata": {},
     "output_type": "execute_result"
    }
   ],
   "source": [
    "# its ready to get new data to predict \n",
    "\n",
    "new_fruit  = np.array([6 , 5])\n",
    "new_fruit2 = np.array([4.5 , 14])\n",
    "new_fruit3 = np.array([5  , 5])\n",
    "new_fruit4 = np.array([3  , 17])\n",
    "\n",
    "# OUTPUT = knn.predict(new_fruit2) # this function only get 1 new_fruit  , not a list of all new fruits \n",
    "\n",
    "listof_all_new_fruits  = [new_fruit , new_fruit2 , new_fruit3 , new_fruit4]\n",
    "OUTPUTS = knn.predict(listof_all_new_fruits)\n",
    "OUTPUTS"
   ]
  },
  {
   "cell_type": "code",
   "execution_count": 757,
   "metadata": {},
   "outputs": [
    {
     "name": "stdout",
     "output_type": "stream",
     "text": [
      "🍎\n",
      "🍌\n",
      "🍎\n",
      "🍌\n"
     ]
    }
   ],
   "source": [
    "for output in OUTPUTS :\n",
    "    if output == 0 :\n",
    "        print(\"🍎\")\n",
    "    elif output == 1 :\n",
    "        print(\"🍌\")"
   ]
  },
  {
   "cell_type": "code",
   "execution_count": null,
   "metadata": {},
   "outputs": [],
   "source": []
  },
  {
   "attachments": {},
   "cell_type": "markdown",
   "metadata": {},
   "source": [
    "# TEST PHASE :"
   ]
  },
  {
   "cell_type": "code",
   "execution_count": 758,
   "metadata": {},
   "outputs": [
    {
     "data": {
      "text/plain": [
       "array([[ 6.43636949,  6.42926754],\n",
       "       [ 5.62606748,  6.79613734],\n",
       "       [ 4.78480653,  6.20493464],\n",
       "       [ 6.50162621,  6.08309178],\n",
       "       [ 5.10488542,  6.55577866],\n",
       "       [ 5.27980575,  5.35267763],\n",
       "       [ 6.28004859,  5.49188236],\n",
       "       [ 6.19854099,  5.11021425],\n",
       "       [ 5.64417736,  6.84021536],\n",
       "       [ 6.82776939,  7.01323143],\n",
       "       [ 5.15940006,  5.39730568],\n",
       "       [ 3.88416435,  4.11712722],\n",
       "       [ 5.69036097,  5.00348075],\n",
       "       [ 4.97674241,  6.51003958],\n",
       "       [ 5.99623997,  5.86529824],\n",
       "       [ 6.58982973,  5.41038213],\n",
       "       [ 5.94775906,  5.30036789],\n",
       "       [ 5.69743449,  6.11578445],\n",
       "       [ 6.3844304 ,  5.96488738],\n",
       "       [ 7.7391856 ,  6.65311641],\n",
       "       [ 7.03912508,  5.71110948],\n",
       "       [ 4.52187602,  6.54194745],\n",
       "       [ 6.01414163,  5.95321292],\n",
       "       [ 7.48137258,  7.08697088],\n",
       "       [ 4.98000521,  5.59079743],\n",
       "       [ 5.18250477,  6.8092395 ],\n",
       "       [ 6.27875969,  6.40957368],\n",
       "       [ 4.98994466,  6.20429264],\n",
       "       [ 5.71250942,  7.90546659],\n",
       "       [ 4.80684619,  6.27438731],\n",
       "       [ 5.35660641,  5.67112601],\n",
       "       [ 4.29444594,  6.1063887 ],\n",
       "       [ 6.58366451,  4.54443077],\n",
       "       [ 5.34607175,  7.63445964],\n",
       "       [ 4.38699157,  6.28948704],\n",
       "       [ 7.10996601,  6.04749164],\n",
       "       [ 6.29213467,  5.18062008],\n",
       "       [ 5.9607152 ,  5.23138785],\n",
       "       [ 5.12003068,  4.88699061],\n",
       "       [ 4.94043139,  6.86768959],\n",
       "       [ 4.72987685,  8.17092058],\n",
       "       [ 5.31154041,  5.6321393 ],\n",
       "       [ 4.77291018,  6.30416841],\n",
       "       [ 6.79438616,  5.61183947],\n",
       "       [ 4.55533091,  4.25462605],\n",
       "       [ 8.20731442,  5.86396813],\n",
       "       [ 5.33204968,  6.40305967],\n",
       "       [ 7.0758647 ,  4.28764989],\n",
       "       [ 6.34140734,  6.69840814],\n",
       "       [ 5.86686027,  6.5789623 ],\n",
       "       [ 3.38988297,  6.33748471],\n",
       "       [ 4.68804023,  8.19748745],\n",
       "       [ 4.52726587,  7.87577166],\n",
       "       [ 1.99567502,  8.31891909],\n",
       "       [ 3.57065707,  8.65432879],\n",
       "       [ 6.56417028,  9.34025818],\n",
       "       [ 4.63634619,  6.68067903],\n",
       "       [ 4.4728949 ,  9.30328099],\n",
       "       [ 3.05191015,  8.49456   ],\n",
       "       [ 3.82368943,  7.45882973],\n",
       "       [ 4.06680615,  9.89251194],\n",
       "       [ 4.98708743,  7.48086254],\n",
       "       [ 3.7575159 ,  6.17752519],\n",
       "       [ 3.04026012,  6.98675471],\n",
       "       [ 2.240133  ,  7.3932896 ],\n",
       "       [ 4.45600503,  9.70980578],\n",
       "       [ 4.77280504,  8.9563126 ],\n",
       "       [ 4.33141609,  8.71069688],\n",
       "       [ 2.65345068,  8.35270554],\n",
       "       [ 3.03185982,  8.18788592],\n",
       "       [ 2.91564298,  7.55122182],\n",
       "       [ 4.58286919,  7.46061322],\n",
       "       [ 2.97444065,  8.41051003],\n",
       "       [ 4.8750373 ,  7.58987479],\n",
       "       [ 5.51074199,  7.60007872],\n",
       "       [ 3.65940983,  8.17874735],\n",
       "       [ 1.86100405,  6.87026032],\n",
       "       [ 4.97064427,  5.94550978],\n",
       "       [ 4.16333657,  7.54430647],\n",
       "       [ 4.3866748 ,  7.998409  ],\n",
       "       [ 4.2898182 ,  8.60804509],\n",
       "       [ 4.37853974,  7.78144378],\n",
       "       [ 4.23518463,  6.25188719],\n",
       "       [ 4.11475985,  7.49102065],\n",
       "       [ 3.82502003,  7.89329923],\n",
       "       [ 5.32329586,  9.23462536],\n",
       "       [ 3.99199378,  8.43364569],\n",
       "       [ 4.85587016,  7.82268261],\n",
       "       [ 2.61940215,  6.69144743],\n",
       "       [ 3.08454647,  7.06346641],\n",
       "       [ 3.19708706, 10.30286037],\n",
       "       [ 2.89551368,  9.51376647],\n",
       "       [ 3.59564906,  8.00987763],\n",
       "       [ 2.65067464,  7.63207508],\n",
       "       [ 6.18361398,  6.28583743],\n",
       "       [ 4.1287582 ,  8.95875827],\n",
       "       [ 2.42157939,  5.93898613],\n",
       "       [ 4.44931809,  8.29951309],\n",
       "       [ 4.3366268 ,  8.44189842],\n",
       "       [ 1.70984011,  7.60233239]])"
      ]
     },
     "execution_count": 758,
     "metadata": {},
     "output_type": "execute_result"
    }
   ],
   "source": [
    "# Again we use from ((( generate_dataset ))) function ,  to generate (( X_test ))  and ((  Y_test  ))\n",
    "\n",
    "# 50 apple , 50 banana\n",
    "# generate ((( new 100 data )))  which algorithm has not seen yet \n",
    "X_test , Y_test = generate_dataset(50)\n",
    "X_test"
   ]
  },
  {
   "cell_type": "code",
   "execution_count": 759,
   "metadata": {},
   "outputs": [
    {
     "data": {
      "text/plain": [
       "array([0, 0, 0, 0, 0, 0, 0, 0, 0, 0, 0, 0, 0, 0, 0, 0, 0, 0, 0, 0, 0, 0,\n",
       "       0, 0, 0, 0, 0, 0, 0, 0, 0, 0, 0, 0, 0, 0, 0, 0, 0, 0, 0, 0, 0, 0,\n",
       "       0, 0, 0, 0, 0, 0, 1, 1, 1, 1, 1, 1, 1, 1, 1, 1, 1, 1, 1, 1, 1, 1,\n",
       "       1, 1, 1, 1, 1, 1, 1, 1, 1, 1, 1, 1, 1, 1, 1, 1, 1, 1, 1, 1, 1, 1,\n",
       "       1, 1, 1, 1, 1, 1, 1, 1, 1, 1, 1, 1])"
      ]
     },
     "execution_count": 759,
     "metadata": {},
     "output_type": "execute_result"
    }
   ],
   "source": [
    "Y_test"
   ]
  },
  {
   "cell_type": "code",
   "execution_count": 760,
   "metadata": {},
   "outputs": [
    {
     "data": {
      "text/plain": [
       "0.89"
      ]
     },
     "execution_count": 760,
     "metadata": {},
     "output_type": "execute_result"
    }
   ],
   "source": [
    "# WE GIVE REAL X AND Y TO EVALUATE FUNCTION , AND WE RECIEVE \"\"\"ACCURACY\"\"\" OF OUR ALGORITHM FROM IT \n",
    "\n",
    "knn.evaluate(X_test , Y_test)\n",
    "\n",
    "\n",
    "# output number meaning :\n",
    "# we gave 50 apple , and 50 banana , from this 100 total fruit , it predict 93 correcltly  , and 7 data wrong , yani moz boode pishbini karde sibe \n",
    "\n",
    "\n"
   ]
  },
  {
   "cell_type": "code",
   "execution_count": 761,
   "metadata": {},
   "outputs": [
    {
     "data": {
      "text/plain": [
       "0.9055555555555556"
      ]
     },
     "execution_count": 761,
     "metadata": {},
     "output_type": "execute_result"
    }
   ],
   "source": [
    "X_test , Y_test = generate_dataset(90) # generate 180 fruit \n",
    "knn.evaluate(X_test , Y_test)\n",
    "\n",
    "# 164 predicted true \n",
    "# 16 predicted wrong "
   ]
  },
  {
   "attachments": {},
   "cell_type": "markdown",
   "metadata": {},
   "source": [
    "# Accuracy of algorithm : 89 %"
   ]
  },
  {
   "attachments": {},
   "cell_type": "markdown",
   "metadata": {},
   "source": [
    "# confusion matrix :"
   ]
  },
  {
   "cell_type": "code",
   "execution_count": 762,
   "metadata": {},
   "outputs": [],
   "source": [
    "# بررسی میوه هایی که اشتباه تشخیص داده شده اند "
   ]
  },
  {
   "cell_type": "code",
   "execution_count": 763,
   "metadata": {},
   "outputs": [
    {
     "data": {
      "text/plain": [
       "[0,\n",
       " 0,\n",
       " 0,\n",
       " 1,\n",
       " 1,\n",
       " 0,\n",
       " 0,\n",
       " 0,\n",
       " 0,\n",
       " 0,\n",
       " 0,\n",
       " 0,\n",
       " 0,\n",
       " 0,\n",
       " 0,\n",
       " 0,\n",
       " 0,\n",
       " 0,\n",
       " 0,\n",
       " 1,\n",
       " 0,\n",
       " 0,\n",
       " 0,\n",
       " 0,\n",
       " 0,\n",
       " 0,\n",
       " 0,\n",
       " 0,\n",
       " 0,\n",
       " 0,\n",
       " 0,\n",
       " 0,\n",
       " 0,\n",
       " 0,\n",
       " 1,\n",
       " 0,\n",
       " 0,\n",
       " 0,\n",
       " 0,\n",
       " 0,\n",
       " 0,\n",
       " 0,\n",
       " 0,\n",
       " 0,\n",
       " 0,\n",
       " 0,\n",
       " 0,\n",
       " 0,\n",
       " 0,\n",
       " 0,\n",
       " 1,\n",
       " 0,\n",
       " 0,\n",
       " 0,\n",
       " 0,\n",
       " 0,\n",
       " 0,\n",
       " 1,\n",
       " 0,\n",
       " 1,\n",
       " 0,\n",
       " 0,\n",
       " 0,\n",
       " 0,\n",
       " 0,\n",
       " 0,\n",
       " 0,\n",
       " 0,\n",
       " 0,\n",
       " 0,\n",
       " 0,\n",
       " 0,\n",
       " 0,\n",
       " 0,\n",
       " 0,\n",
       " 0,\n",
       " 0,\n",
       " 1,\n",
       " 0,\n",
       " 0,\n",
       " 0,\n",
       " 0,\n",
       " 0,\n",
       " 0,\n",
       " 0,\n",
       " 0,\n",
       " 0,\n",
       " 0,\n",
       " 0,\n",
       " 0,\n",
       " 1,\n",
       " 1,\n",
       " 1,\n",
       " 1,\n",
       " 1,\n",
       " 1,\n",
       " 1,\n",
       " 1,\n",
       " 1,\n",
       " 1,\n",
       " 1,\n",
       " 1,\n",
       " 1,\n",
       " 1,\n",
       " 1,\n",
       " 0,\n",
       " 0,\n",
       " 0,\n",
       " 1,\n",
       " 1,\n",
       " 1,\n",
       " 1,\n",
       " 1,\n",
       " 1,\n",
       " 1,\n",
       " 1,\n",
       " 1,\n",
       " 1,\n",
       " 1,\n",
       " 1,\n",
       " 1,\n",
       " 1,\n",
       " 1,\n",
       " 1,\n",
       " 1,\n",
       " 1,\n",
       " 1,\n",
       " 0,\n",
       " 1,\n",
       " 1,\n",
       " 1,\n",
       " 1,\n",
       " 1,\n",
       " 1,\n",
       " 1,\n",
       " 1,\n",
       " 1,\n",
       " 1,\n",
       " 1,\n",
       " 1,\n",
       " 1,\n",
       " 1,\n",
       " 1,\n",
       " 1,\n",
       " 1,\n",
       " 1,\n",
       " 1,\n",
       " 0,\n",
       " 1,\n",
       " 1,\n",
       " 1,\n",
       " 1,\n",
       " 1,\n",
       " 1,\n",
       " 1,\n",
       " 1,\n",
       " 1,\n",
       " 1,\n",
       " 1,\n",
       " 0,\n",
       " 1,\n",
       " 1,\n",
       " 1,\n",
       " 1,\n",
       " 1,\n",
       " 1,\n",
       " 1,\n",
       " 1,\n",
       " 1,\n",
       " 1,\n",
       " 1,\n",
       " 1,\n",
       " 1,\n",
       " 1,\n",
       " 1,\n",
       " 1,\n",
       " 0,\n",
       " 0,\n",
       " 0,\n",
       " 1]"
      ]
     },
     "execution_count": 763,
     "metadata": {},
     "output_type": "execute_result"
    }
   ],
   "source": [
    "# Y_test = لیبل های واقعی \n",
    "\n",
    "# inja X_test ro midim be func predict \n",
    "Y_prediction = knn.predict(X_test)\n",
    "Y_prediction\n",
    "\n",
    "# oon 1 e vasate 0 ha eshtebah tashkhis dade shode \n",
    "# sib boode (0) ,  moz(1) tashkis dade "
   ]
  },
  {
   "cell_type": "code",
   "execution_count": 764,
   "metadata": {},
   "outputs": [
    {
     "data": {
      "text/plain": [
       "array([[82.,  8.],\n",
       "       [ 9., 81.]])"
      ]
     },
     "execution_count": 764,
     "metadata": {},
     "output_type": "execute_result"
    }
   ],
   "source": [
    "# chera 2dar2 ? chon 2 class darim \n",
    "\n",
    "confusion_matrix = np.zeros((2,2))\n",
    "\n",
    "for i in range(180): # 90 moz + 90 sib \n",
    "    if Y_test[i] == 0 and Y_prediction[i] == 0 :  # sib boode / prediction ma ham sib boode \n",
    "        confusion_matrix[0][0] += 1\n",
    "    elif Y_test[i] == 0 and Y_prediction[i] == 1 :     # sib boode / ma goftim moze \n",
    "        confusion_matrix[0][1] += 1\n",
    "    elif Y_test[i] == 1 and Y_prediction[i] == 0  :    # moz boode / ma goftim sibe\n",
    "        confusion_matrix[1][0] += 1\n",
    "    elif Y_test[i] == 1 and Y_prediction[i] == 1 :     # moz boode / ma goftim moze \n",
    "        confusion_matrix[1][1] += 1 \n",
    "\n",
    "confusion_matrix"
   ]
  },
  {
   "cell_type": "code",
   "execution_count": 765,
   "metadata": {},
   "outputs": [],
   "source": [
    " #  اگر قطر اصلی کانفیوژن ماتریس عدد های بزرگی باشن یعنی اکثر میوه ها رو درست تشخیص داده ایم "
   ]
  },
  {
   "cell_type": "code",
   "execution_count": 766,
   "metadata": {},
   "outputs": [
    {
     "data": {
      "text/plain": [
       "<matplotlib.colorbar.Colorbar at 0x269f9609690>"
      ]
     },
     "execution_count": 766,
     "metadata": {},
     "output_type": "execute_result"
    },
    {
     "data": {
      "image/png": "[encoded data removed]",
      "text/plain": [
       "<Figure size 640x480 with 2 Axes>"
      ]
     },
     "metadata": {},
     "output_type": "display_data"
    }
   ],
   "source": [
    "plt.imshow(confusion_matrix)\n",
    "plt.colorbar()\n",
    "\n",
    "# ghotre asli zarde == yani adad ha bozorg and  == correct ones \n",
    "# ghotr faree banafshe == yani adad ha koochikan == wrong ones "
   ]
  },
  {
   "cell_type": "code",
   "execution_count": null,
   "metadata": {},
   "outputs": [],
   "source": []
  },
  {
   "attachments": {},
   "cell_type": "markdown",
   "metadata": {},
   "source": [
    "# same above code , but here we wana implement with scikit-learn"
   ]
  },
  {
   "cell_type": "code",
   "execution_count": 767,
   "metadata": {},
   "outputs": [],
   "source": [
    "from sklearn.neighbors import KNeighborsClassifier"
   ]
  },
  {
   "cell_type": "code",
   "execution_count": 768,
   "metadata": {},
   "outputs": [
    {
     "data": {
      "text/plain": [
       "array([0, 1, 0, 1])"
      ]
     },
     "execution_count": 768,
     "metadata": {},
     "output_type": "execute_result"
    }
   ],
   "source": [
    "knn = KNeighborsClassifier(n_neighbors= 5)\n",
    "\n",
    "knn.fit(X_train , Y_train)\n",
    "\n",
    "knn.predict(listof_all_new_fruits)"
   ]
  },
  {
   "cell_type": "code",
   "execution_count": 769,
   "metadata": {},
   "outputs": [
    {
     "data": {
      "text/plain": [
       "0.9055555555555556"
      ]
     },
     "execution_count": 769,
     "metadata": {},
     "output_type": "execute_result"
    }
   ],
   "source": [
    "# evaluation ---> using score func \n",
    "\n",
    "knn.score(X_test , Y_test)"
   ]
  }
 ],
 "metadata": {
  "kernelspec": {
   "display_name": "Python 3",
   "language": "python",
   "name": "python3"
  },
  "language_info": {
   "codemirror_mode": {
    "name": "ipython",
    "version": 3
   },
   "file_extension": ".py",
   "mimetype": "text/x-python",
   "name": "python",
   "nbconvert_exporter": "python",
   "pygments_lexer": "ipython3",
   "version": "3.10.1"
  },
  "orig_nbformat": 4
 },
 "nbformat": 4,
 "nbformat_minor": 2
}
