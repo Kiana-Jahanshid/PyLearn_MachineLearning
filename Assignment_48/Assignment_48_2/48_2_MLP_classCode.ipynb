{
 "cells": [
  {
   "cell_type": "code",
   "execution_count": 2,
   "metadata": {},
   "outputs": [],
   "source": [
    "import numpy as np\n",
    "import pandas as pd\n",
    "from sklearn.datasets import load_digits\n",
    "import matplotlib.pyplot as plt\n",
    "from sklearn.model_selection import train_test_split"
   ]
  },
  {
   "cell_type": "code",
   "execution_count": 3,
   "metadata": {},
   "outputs": [],
   "source": [
    "# 64 ta pixel = 64 ta feature voroodi darim = ax 8*8\n",
    "# number of classes = 10\n"
   ]
  },
  {
   "cell_type": "code",
   "execution_count": 4,
   "metadata": {},
   "outputs": [
    {
     "data": {
      "text/plain": [
       "{'data': array([[ 0.,  0.,  5., ...,  0.,  0.,  0.],\n",
       "        [ 0.,  0.,  0., ..., 10.,  0.,  0.],\n",
       "        [ 0.,  0.,  0., ..., 16.,  9.,  0.],\n",
       "        ...,\n",
       "        [ 0.,  0.,  1., ...,  6.,  0.,  0.],\n",
       "        [ 0.,  0.,  2., ..., 12.,  0.,  0.],\n",
       "        [ 0.,  0., 10., ..., 12.,  1.,  0.]]),\n",
       " 'target': array([0, 1, 2, ..., 8, 9, 8]),\n",
       " 'frame': None,\n",
       " 'feature_names': ['pixel_0_0',\n",
       "  'pixel_0_1',\n",
       "  'pixel_0_2',\n",
       "  'pixel_0_3',\n",
       "  'pixel_0_4',\n",
       "  'pixel_0_5',\n",
       "  'pixel_0_6',\n",
       "  'pixel_0_7',\n",
       "  'pixel_1_0',\n",
       "  'pixel_1_1',\n",
       "  'pixel_1_2',\n",
       "  'pixel_1_3',\n",
       "  'pixel_1_4',\n",
       "  'pixel_1_5',\n",
       "  'pixel_1_6',\n",
       "  'pixel_1_7',\n",
       "  'pixel_2_0',\n",
       "  'pixel_2_1',\n",
       "  'pixel_2_2',\n",
       "  'pixel_2_3',\n",
       "  'pixel_2_4',\n",
       "  'pixel_2_5',\n",
       "  'pixel_2_6',\n",
       "  'pixel_2_7',\n",
       "  'pixel_3_0',\n",
       "  'pixel_3_1',\n",
       "  'pixel_3_2',\n",
       "  'pixel_3_3',\n",
       "  'pixel_3_4',\n",
       "  'pixel_3_5',\n",
       "  'pixel_3_6',\n",
       "  'pixel_3_7',\n",
       "  'pixel_4_0',\n",
       "  'pixel_4_1',\n",
       "  'pixel_4_2',\n",
       "  'pixel_4_3',\n",
       "  'pixel_4_4',\n",
       "  'pixel_4_5',\n",
       "  'pixel_4_6',\n",
       "  'pixel_4_7',\n",
       "  'pixel_5_0',\n",
       "  'pixel_5_1',\n",
       "  'pixel_5_2',\n",
       "  'pixel_5_3',\n",
       "  'pixel_5_4',\n",
       "  'pixel_5_5',\n",
       "  'pixel_5_6',\n",
       "  'pixel_5_7',\n",
       "  'pixel_6_0',\n",
       "  'pixel_6_1',\n",
       "  'pixel_6_2',\n",
       "  'pixel_6_3',\n",
       "  'pixel_6_4',\n",
       "  'pixel_6_5',\n",
       "  'pixel_6_6',\n",
       "  'pixel_6_7',\n",
       "  'pixel_7_0',\n",
       "  'pixel_7_1',\n",
       "  'pixel_7_2',\n",
       "  'pixel_7_3',\n",
       "  'pixel_7_4',\n",
       "  'pixel_7_5',\n",
       "  'pixel_7_6',\n",
       "  'pixel_7_7'],\n",
       " 'target_names': array([0, 1, 2, 3, 4, 5, 6, 7, 8, 9]),\n",
       " 'images': array([[[ 0.,  0.,  5., ...,  1.,  0.,  0.],\n",
       "         [ 0.,  0., 13., ..., 15.,  5.,  0.],\n",
       "         [ 0.,  3., 15., ..., 11.,  8.,  0.],\n",
       "         ...,\n",
       "         [ 0.,  4., 11., ..., 12.,  7.,  0.],\n",
       "         [ 0.,  2., 14., ..., 12.,  0.,  0.],\n",
       "         [ 0.,  0.,  6., ...,  0.,  0.,  0.]],\n",
       " \n",
       "        [[ 0.,  0.,  0., ...,  5.,  0.,  0.],\n",
       "         [ 0.,  0.,  0., ...,  9.,  0.,  0.],\n",
       "         [ 0.,  0.,  3., ...,  6.,  0.,  0.],\n",
       "         ...,\n",
       "         [ 0.,  0.,  1., ...,  6.,  0.,  0.],\n",
       "         [ 0.,  0.,  1., ...,  6.,  0.,  0.],\n",
       "         [ 0.,  0.,  0., ..., 10.,  0.,  0.]],\n",
       " \n",
       "        [[ 0.,  0.,  0., ..., 12.,  0.,  0.],\n",
       "         [ 0.,  0.,  3., ..., 14.,  0.,  0.],\n",
       "         [ 0.,  0.,  8., ..., 16.,  0.,  0.],\n",
       "         ...,\n",
       "         [ 0.,  9., 16., ...,  0.,  0.,  0.],\n",
       "         [ 0.,  3., 13., ..., 11.,  5.,  0.],\n",
       "         [ 0.,  0.,  0., ..., 16.,  9.,  0.]],\n",
       " \n",
       "        ...,\n",
       " \n",
       "        [[ 0.,  0.,  1., ...,  1.,  0.,  0.],\n",
       "         [ 0.,  0., 13., ...,  2.,  1.,  0.],\n",
       "         [ 0.,  0., 16., ..., 16.,  5.,  0.],\n",
       "         ...,\n",
       "         [ 0.,  0., 16., ..., 15.,  0.,  0.],\n",
       "         [ 0.,  0., 15., ..., 16.,  0.,  0.],\n",
       "         [ 0.,  0.,  2., ...,  6.,  0.,  0.]],\n",
       " \n",
       "        [[ 0.,  0.,  2., ...,  0.,  0.,  0.],\n",
       "         [ 0.,  0., 14., ..., 15.,  1.,  0.],\n",
       "         [ 0.,  4., 16., ..., 16.,  7.,  0.],\n",
       "         ...,\n",
       "         [ 0.,  0.,  0., ..., 16.,  2.,  0.],\n",
       "         [ 0.,  0.,  4., ..., 16.,  2.,  0.],\n",
       "         [ 0.,  0.,  5., ..., 12.,  0.,  0.]],\n",
       " \n",
       "        [[ 0.,  0., 10., ...,  1.,  0.,  0.],\n",
       "         [ 0.,  2., 16., ...,  1.,  0.,  0.],\n",
       "         [ 0.,  0., 15., ..., 15.,  0.,  0.],\n",
       "         ...,\n",
       "         [ 0.,  4., 16., ..., 16.,  6.,  0.],\n",
       "         [ 0.,  8., 16., ..., 16.,  8.,  0.],\n",
       "         [ 0.,  1.,  8., ..., 12.,  1.,  0.]]]),\n",
       " 'DESCR': \".. _digits_dataset:\\n\\nOptical recognition of handwritten digits dataset\\n--------------------------------------------------\\n\\n**Data Set Characteristics:**\\n\\n    :Number of Instances: 1797\\n    :Number of Attributes: 64\\n    :Attribute Information: 8x8 image of integer pixels in the range 0..16.\\n    :Missing Attribute Values: None\\n    :Creator: E. Alpaydin (alpaydin '@' boun.edu.tr)\\n    :Date: July; 1998\\n\\nThis is a copy of the test set of the UCI ML hand-written digits datasets\\nhttps://archive.ics.uci.edu/ml/datasets/Optical+Recognition+of+Handwritten+Digits\\n\\nThe data set contains images of hand-written digits: 10 classes where\\neach class refers to a digit.\\n\\nPreprocessing programs made available by NIST were used to extract\\nnormalized bitmaps of handwritten digits from a preprinted form. From a\\ntotal of 43 people, 30 contributed to the training set and different 13\\nto the test set. 32x32 bitmaps are divided into nonoverlapping blocks of\\n4x4 and the number of on pixels are counted in each block. This generates\\nan input matrix of 8x8 where each element is an integer in the range\\n0..16. This reduces dimensionality and gives invariance to small\\ndistortions.\\n\\nFor info on NIST preprocessing routines, see M. D. Garris, J. L. Blue, G.\\nT. Candela, D. L. Dimmick, J. Geist, P. J. Grother, S. A. Janet, and C.\\nL. Wilson, NIST Form-Based Handprint Recognition System, NISTIR 5469,\\n1994.\\n\\n.. topic:: References\\n\\n  - C. Kaynak (1995) Methods of Combining Multiple Classifiers and Their\\n    Applications to Handwritten Digit Recognition, MSc Thesis, Institute of\\n    Graduate Studies in Science and Engineering, Bogazici University.\\n  - E. Alpaydin, C. Kaynak (1998) Cascading Classifiers, Kybernetika.\\n  - Ken Tang and Ponnuthurai N. Suganthan and Xi Yao and A. Kai Qin.\\n    Linear dimensionalityreduction using relevance weighted LDA. School of\\n    Electrical and Electronic Engineering Nanyang Technological University.\\n    2005.\\n  - Claudio Gentile. A New Approximate Maximal Margin Classification\\n    Algorithm. NIPS. 2000.\\n\"}"
      ]
     },
     "execution_count": 4,
     "metadata": {},
     "output_type": "execute_result"
    }
   ],
   "source": [
    "dataset = load_digits()\n",
    "dataset"
   ]
  },
  {
   "cell_type": "code",
   "execution_count": 5,
   "metadata": {},
   "outputs": [
    {
     "data": {
      "text/plain": [
       "(1797, 64)"
      ]
     },
     "execution_count": 5,
     "metadata": {},
     "output_type": "execute_result"
    }
   ],
   "source": [
    "dataset.data.shape"
   ]
  },
  {
   "cell_type": "code",
   "execution_count": 6,
   "metadata": {},
   "outputs": [
    {
     "data": {
      "text/plain": [
       "(1797,)"
      ]
     },
     "execution_count": 6,
     "metadata": {},
     "output_type": "execute_result"
    }
   ],
   "source": [
    "dataset.target.shape"
   ]
  },
  {
   "cell_type": "code",
   "execution_count": 7,
   "metadata": {},
   "outputs": [
    {
     "data": {
      "text/plain": [
       "(1797, 8, 8)"
      ]
     },
     "execution_count": 7,
     "metadata": {},
     "output_type": "execute_result"
    }
   ],
   "source": [
    "dataset.images.shape\n",
    "# 1797 ta axe be abaade 8 dar 8 "
   ]
  },
  {
   "cell_type": "code",
   "execution_count": 8,
   "metadata": {},
   "outputs": [
    {
     "data": {
      "text/plain": [
       "array([ 0.,  0.,  0.,  2., 13.,  0.,  0.,  0.,  0.,  0.,  0.,  8., 15.,\n",
       "        0.,  0.,  0.,  0.,  0.,  5., 16.,  5.,  2.,  0.,  0.,  0.,  0.,\n",
       "       15., 12.,  1., 16.,  4.,  0.,  0.,  4., 16.,  2.,  9., 16.,  8.,\n",
       "        0.,  0.,  0., 10., 14., 16., 16.,  4.,  0.,  0.,  0.,  0.,  0.,\n",
       "       13.,  8.,  0.,  0.,  0.,  0.,  0.,  0., 13.,  6.,  0.,  0.])"
      ]
     },
     "execution_count": 8,
     "metadata": {},
     "output_type": "execute_result"
    }
   ],
   "source": [
    "dataset.data[100] # == dataset.images[100]\n",
    "# 1 * 64\n",
    "# yek array 1 bodi hast"
   ]
  },
  {
   "cell_type": "code",
   "execution_count": 9,
   "metadata": {},
   "outputs": [
    {
     "data": {
      "text/plain": [
       "array([[ 0.,  0.,  0.,  2., 13.,  0.,  0.,  0.],\n",
       "       [ 0.,  0.,  0.,  8., 15.,  0.,  0.,  0.],\n",
       "       [ 0.,  0.,  5., 16.,  5.,  2.,  0.,  0.],\n",
       "       [ 0.,  0., 15., 12.,  1., 16.,  4.,  0.],\n",
       "       [ 0.,  4., 16.,  2.,  9., 16.,  8.,  0.],\n",
       "       [ 0.,  0., 10., 14., 16., 16.,  4.,  0.],\n",
       "       [ 0.,  0.,  0.,  0., 13.,  8.,  0.,  0.],\n",
       "       [ 0.,  0.,  0.,  0., 13.,  6.,  0.,  0.]])"
      ]
     },
     "execution_count": 9,
     "metadata": {},
     "output_type": "execute_result"
    }
   ],
   "source": [
    "dataset.images[100] # 8 * 8"
   ]
  },
  {
   "cell_type": "code",
   "execution_count": 10,
   "metadata": {},
   "outputs": [
    {
     "data": {
      "text/plain": [
       "4"
      ]
     },
     "execution_count": 10,
     "metadata": {},
     "output_type": "execute_result"
    }
   ],
   "source": [
    "dataset.target[100]\n",
    "# array bala neshoon dahande adade 4 hast "
   ]
  },
  {
   "cell_type": "code",
   "execution_count": 11,
   "metadata": {},
   "outputs": [
    {
     "data": {
      "text/plain": [
       "<matplotlib.image.AxesImage at 0x23496c6b670>"
      ]
     },
     "execution_count": 11,
     "metadata": {},
     "output_type": "execute_result"
    },
    {
     "data": {
      "image/png": "[encoded data removed]",
      "text/plain": [
       "<Figure size 640x480 with 1 Axes>"
      ]
     },
     "metadata": {},
     "output_type": "display_data"
    }
   ],
   "source": [
    "plt.imshow(dataset.images[100] , cmap=\"gray\")"
   ]
  },
  {
   "cell_type": "code",
   "execution_count": 12,
   "metadata": {},
   "outputs": [
    {
     "data": {
      "text/plain": [
       "((1437, 64), (360, 64), (1437, 10), (360, 10))"
      ]
     },
     "execution_count": 12,
     "metadata": {},
     "output_type": "execute_result"
    }
   ],
   "source": [
    "X = dataset.data\n",
    "Y = dataset.target\n",
    "\n",
    "# one-hot Y\n",
    "Y = np.eye(10)[Y]\n",
    "\n",
    "\n",
    "X_train , X_test , Y_train , Y_test = train_test_split(X , Y , test_size= 0.2 , shuffle=True)\n",
    "X_train.shape , X_test.shape , Y_train.shape , Y_test.shape\n"
   ]
  },
  {
   "cell_type": "markdown",
   "metadata": {},
   "source": [
    "# one-hot Y_train"
   ]
  },
  {
   "cell_type": "code",
   "execution_count": 13,
   "metadata": {},
   "outputs": [
    {
     "data": {
      "text/plain": [
       "array([[1., 0., 0., 0., 0.],\n",
       "       [0., 1., 0., 0., 0.],\n",
       "       [0., 0., 1., 0., 0.],\n",
       "       [0., 0., 0., 1., 0.],\n",
       "       [0., 0., 0., 0., 1.]])"
      ]
     },
     "execution_count": 13,
     "metadata": {},
     "output_type": "execute_result"
    }
   ],
   "source": [
    "np.eye(5)"
   ]
  },
  {
   "cell_type": "code",
   "execution_count": 14,
   "metadata": {},
   "outputs": [],
   "source": [
    "# Y_train"
   ]
  },
  {
   "cell_type": "code",
   "execution_count": 15,
   "metadata": {},
   "outputs": [],
   "source": [
    "# Y_train = np.eye(10)[Y_train]\n",
    "# Y_train"
   ]
  },
  {
   "cell_type": "code",
   "execution_count": 16,
   "metadata": {},
   "outputs": [],
   "source": [
    "# 64 ta feature voroodi darim \n",
    "# 1 adad khorooji \n",
    "\n",
    "# Y_groundtruth = y vagheei\n",
    "\n",
    "\n",
    "def sigmoid(X):\n",
    "   return  1 / (1 + np.exp(-X))\n",
    "\n",
    "def softmax(X):\n",
    "   return np.exp(X) / np.sum(np.exp(X))\n",
    "    # chon khorooji ehtemalati hast , az softmax rafte\n",
    "\n",
    "def root_mean_squared_error(Y_groundtruth , Y_pred):\n",
    "   return np.sqrt(np.mean((Y_groundtruth - Y_pred)**2 ))\n",
    "\n"
   ]
  },
  {
   "cell_type": "markdown",
   "metadata": {},
   "source": [
    "# dar MLP , va dar taske classification : \n",
    "# baraye activation function laye akhar , az SOFTMAX estefade konim behtare  "
   ]
  },
  {
   "cell_type": "code",
   "execution_count": null,
   "metadata": {},
   "outputs": [],
   "source": [
    "\n",
    "\n"
   ]
  },
  {
   "cell_type": "markdown",
   "metadata": {},
   "source": [
    "# DESIGN NETWORK STAGES\n",
    "\n",
    "## 1- TEDADE LAYE HA ??? \n",
    "\n",
    "\n",
    "## 2- HAR LAYE CHAND NEURON DASHTE BASHE ??\n",
    "\n",
    "###  NUMBER OF NEURON IN INPUT LAYER = NUMBER OF FEATURES = \n",
    "\n",
    "### 🟡--- INJA 64 TA NEURON  \n",
    "\n",
    "### NUMBER OF NEURONS IN OUTPUT LAYER == NUMBER OF CLASSES \n",
    "\n",
    "### 🟡--- INJA 10 TA CLASS DARIM\n",
    "\n",
    "### NUMBER OF NEURONS IN HIDDEN LAYERS \n",
    "\n",
    "### 🟡--- DELKHAH\n",
    "\n",
    "\n",
    "## 3- CHAND TA HIDDEN LAYER ??\n",
    "### 🟡--- DELKHAH"
   ]
  },
  {
   "cell_type": "markdown",
   "metadata": {},
   "source": []
  },
  {
   "cell_type": "markdown",
   "metadata": {},
   "source": [
    "# FULLY CONNECTED :\n",
    "\n",
    "### HAME NEURON HA HAYE DO LAYE MOTEVALI BE HAM VASL BASHAN -----> DENSE"
   ]
  },
  {
   "cell_type": "code",
   "execution_count": 17,
   "metadata": {},
   "outputs": [],
   "source": [
    "epochs = 200\n",
    "lr = 0.001\n",
    "input_layer_dimension = X_train.shape[1] # 64\n",
    "\n",
    "first_hidden_layer_neurons = 128 # delkhah\n",
    "second_hidden_layer_neurons = 32 # delkhah\n",
    "\n",
    "output_layer_dimension = Y_train.shape[1] # 10\n",
    "# number of classes = number of neurons in output layer \n"
   ]
  },
  {
   "cell_type": "markdown",
   "metadata": {},
   "source": [
    "<img src=\"Untitled.png\" alt=\"Alternative text\" width=\"600\" />"
   ]
  },
  {
   "cell_type": "code",
   "execution_count": null,
   "metadata": {},
   "outputs": [],
   "source": []
  },
  {
   "cell_type": "markdown",
   "metadata": {},
   "source": [
    "# هر نرون یک بایاس دارد "
   ]
  },
  {
   "cell_type": "code",
   "execution_count": 18,
   "metadata": {},
   "outputs": [
    {
     "data": {
      "text/plain": [
       "array([0., 1.])"
      ]
     },
     "execution_count": 18,
     "metadata": {},
     "output_type": "execute_result"
    }
   ],
   "source": [
    "np.unique(Y_train)"
   ]
  },
  {
   "cell_type": "code",
   "execution_count": 19,
   "metadata": {},
   "outputs": [],
   "source": [
    "# weights\n",
    "w1 = np.random.randn( input_layer_dimension       , first_hidden_layer_neurons)\n",
    "w2 = np.random.randn( first_hidden_layer_neurons  , second_hidden_layer_neurons)\n",
    "w3 = np.random.randn( second_hidden_layer_neurons , output_layer_dimension)\n",
    "\n"
   ]
  },
  {
   "cell_type": "markdown",
   "metadata": {},
   "source": [
    "# biases\n",
    "### NUMBER OF BIASES IN EACH LAYER == NUMBER OF NEURONS IN THAT LAYER \n"
   ]
  },
  {
   "cell_type": "code",
   "execution_count": 20,
   "metadata": {},
   "outputs": [],
   "source": [
    "b1 = np.random.rand(1,first_hidden_layer_neurons) # inja = 1 * 128 hast abaade matris\n",
    "b2 = np.random.rand(1,second_hidden_layer_neurons)# inja = 1 * 32 \n",
    "b3 = np.random.rand(1,output_layer_dimension)     # inja = 1 * 10"
   ]
  },
  {
   "cell_type": "markdown",
   "metadata": {},
   "source": [
    "#  آیا لایه ورودی نیاز به بایاس ندارد ؟\n",
    "### لایه ورودی را عموما لایه درنظر نمیگیرند و اصلا یک لایه نیست و فقط ایکس ترین هست \n",
    "### پس چون لایه نیست بایاس هم نمیخواهند چون درواقع اصلا نرون نیستند  \n",
    "### و فقط اعداد ورودی هستند \n",
    "### پس نیاز به اکتیویشن فانکشن هم ندارند \n",
    "###  در محاسبه تعداد لایه های شبکه ٬ لایه اول را درنظر نمیگیریم"
   ]
  },
  {
   "cell_type": "markdown",
   "metadata": {},
   "source": [
    "## اینجا چون ۳ لایه داریم ٬ پس ۳ تا دبلیو و ۳ تا بایاس داریم"
   ]
  },
  {
   "cell_type": "markdown",
   "metadata": {},
   "source": [
    "# TRAIN PHASE"
   ]
  },
  {
   "cell_type": "code",
   "execution_count": 21,
   "metadata": {},
   "outputs": [
    {
     "name": "stdout",
     "output_type": "stream",
     "text": [
      "TRAIN ACC:  0.1370911621433542\n",
      "TEST ACC: 0.2222222222222222\n",
      "TRAIN ACC:  0.33194154488517746\n",
      "TEST ACC: 0.37222222222222223\n",
      "TRAIN ACC:  0.43910925539318024\n",
      "TEST ACC: 0.42777777777777776\n",
      "TRAIN ACC:  0.535142658315936\n",
      "TEST ACC: 0.49722222222222223\n",
      "TRAIN ACC:  0.592205984690327\n",
      "TEST ACC: 0.5388888888888889\n",
      "TRAIN ACC:  0.6409185803757829\n",
      "TEST ACC: 0.5888888888888889\n",
      "TRAIN ACC:  0.6868475991649269\n",
      "TEST ACC: 0.6305555555555555\n",
      "TRAIN ACC:  0.7230340988169798\n",
      "TEST ACC: 0.6472222222222223\n",
      "TRAIN ACC:  0.7466945024356297\n",
      "TEST ACC: 0.6694444444444444\n",
      "TRAIN ACC:  0.7703549060542797\n",
      "TEST ACC: 0.6888888888888889\n",
      "TRAIN ACC:  0.791231732776618\n",
      "TEST ACC: 0.7055555555555556\n",
      "TRAIN ACC:  0.8065414057063326\n",
      "TEST ACC: 0.7138888888888889\n",
      "TRAIN ACC:  0.8204592901878914\n",
      "TEST ACC: 0.725\n",
      "TRAIN ACC:  0.837160751565762\n",
      "TEST ACC: 0.7388888888888889\n",
      "TRAIN ACC:  0.8496868475991649\n",
      "TEST ACC: 0.7555555555555555\n",
      "TRAIN ACC:  0.8573416840640222\n",
      "TEST ACC: 0.7722222222222223\n",
      "TRAIN ACC:  0.8643006263048016\n",
      "TEST ACC: 0.7722222222222223\n",
      "TRAIN ACC:  0.8712595685455811\n",
      "TEST ACC: 0.7833333333333333\n",
      "TRAIN ACC:  0.8775226165622826\n",
      "TEST ACC: 0.7888888888888889\n",
      "TRAIN ACC:  0.8844815588030619\n",
      "TEST ACC: 0.7944444444444444\n",
      "TRAIN ACC:  0.8935281837160751\n",
      "TEST ACC: 0.8055555555555556\n",
      "TRAIN ACC:  0.8977035490605428\n",
      "TEST ACC: 0.8083333333333333\n",
      "TRAIN ACC:  0.9018789144050104\n",
      "TEST ACC: 0.8111111111111111\n",
      "TRAIN ACC:  0.9081419624217119\n",
      "TEST ACC: 0.8194444444444444\n",
      "TRAIN ACC:  0.9081419624217119\n",
      "TEST ACC: 0.8333333333333334\n",
      "TRAIN ACC:  0.9151009046624913\n",
      "TEST ACC: 0.8305555555555556\n",
      "TRAIN ACC:  0.919276270006959\n",
      "TEST ACC: 0.8305555555555556\n",
      "TRAIN ACC:  0.9213639526791928\n",
      "TEST ACC: 0.8361111111111111\n",
      "TRAIN ACC:  0.9262352122477383\n",
      "TEST ACC: 0.8361111111111111\n",
      "TRAIN ACC:  0.9290187891440501\n",
      "TEST ACC: 0.8444444444444444\n",
      "TRAIN ACC:  0.9331941544885177\n",
      "TEST ACC: 0.8444444444444444\n",
      "TRAIN ACC:  0.9359777313848295\n",
      "TEST ACC: 0.8472222222222222\n",
      "TRAIN ACC:  0.940848990953375\n",
      "TEST ACC: 0.85\n",
      "TRAIN ACC:  0.942936673625609\n",
      "TEST ACC: 0.85\n",
      "TRAIN ACC:  0.9457202505219207\n",
      "TEST ACC: 0.8583333333333333\n",
      "TRAIN ACC:  0.9498956158663883\n",
      "TEST ACC: 0.8611111111111112\n",
      "TRAIN ACC:  0.9512874043145442\n",
      "TEST ACC: 0.8638888888888889\n",
      "TRAIN ACC:  0.9554627696590118\n",
      "TEST ACC: 0.8666666666666667\n",
      "TRAIN ACC:  0.9582463465553236\n",
      "TEST ACC: 0.8694444444444445\n",
      "TRAIN ACC:  0.9603340292275574\n",
      "TEST ACC: 0.875\n",
      "TRAIN ACC:  0.9596381350034795\n",
      "TEST ACC: 0.8805555555555555\n",
      "TRAIN ACC:  0.9617258176757133\n",
      "TEST ACC: 0.8833333333333333\n",
      "TRAIN ACC:  0.9631176061238692\n",
      "TEST ACC: 0.8888888888888888\n",
      "TRAIN ACC:  0.9659011830201809\n",
      "TEST ACC: 0.8888888888888888\n",
      "TRAIN ACC:  0.9659011830201809\n",
      "TEST ACC: 0.8916666666666667\n",
      "TRAIN ACC:  0.9686847599164927\n",
      "TEST ACC: 0.8916666666666667\n",
      "TRAIN ACC:  0.9693806541405706\n",
      "TEST ACC: 0.8888888888888888\n",
      "TRAIN ACC:  0.9707724425887265\n",
      "TEST ACC: 0.8888888888888888\n",
      "TRAIN ACC:  0.9714683368128044\n",
      "TEST ACC: 0.8888888888888888\n",
      "TRAIN ACC:  0.9721642310368824\n",
      "TEST ACC: 0.8944444444444445\n",
      "TRAIN ACC:  0.9728601252609603\n",
      "TEST ACC: 0.8944444444444445\n",
      "TRAIN ACC:  0.9742519137091162\n",
      "TEST ACC: 0.8972222222222223\n",
      "TRAIN ACC:  0.9756437021572721\n",
      "TEST ACC: 0.8972222222222223\n",
      "TRAIN ACC:  0.97633959638135\n",
      "TEST ACC: 0.8972222222222223\n",
      "TRAIN ACC:  0.9770354906054279\n",
      "TEST ACC: 0.9\n",
      "TRAIN ACC:  0.9791231732776617\n",
      "TEST ACC: 0.9027777777777778\n",
      "TRAIN ACC:  0.9798190675017397\n",
      "TEST ACC: 0.9055555555555556\n",
      "TRAIN ACC:  0.9798190675017397\n",
      "TEST ACC: 0.9055555555555556\n",
      "TRAIN ACC:  0.9798190675017397\n",
      "TEST ACC: 0.9055555555555556\n",
      "TRAIN ACC:  0.9819067501739736\n",
      "TEST ACC: 0.9055555555555556\n",
      "TRAIN ACC:  0.9819067501739736\n",
      "TEST ACC: 0.9055555555555556\n",
      "TRAIN ACC:  0.9819067501739736\n",
      "TEST ACC: 0.9055555555555556\n",
      "TRAIN ACC:  0.9819067501739736\n",
      "TEST ACC: 0.9027777777777778\n",
      "TRAIN ACC:  0.9832985386221295\n",
      "TEST ACC: 0.9027777777777778\n",
      "TRAIN ACC:  0.9832985386221295\n",
      "TEST ACC: 0.9055555555555556\n",
      "TRAIN ACC:  0.9839944328462074\n",
      "TEST ACC: 0.9055555555555556\n",
      "TRAIN ACC:  0.9846903270702854\n",
      "TEST ACC: 0.9055555555555556\n",
      "TRAIN ACC:  0.9846903270702854\n",
      "TEST ACC: 0.9055555555555556\n",
      "TRAIN ACC:  0.9846903270702854\n",
      "TEST ACC: 0.9055555555555556\n",
      "TRAIN ACC:  0.9846903270702854\n",
      "TEST ACC: 0.9055555555555556\n",
      "TRAIN ACC:  0.9846903270702854\n",
      "TEST ACC: 0.9083333333333333\n",
      "TRAIN ACC:  0.9846903270702854\n",
      "TEST ACC: 0.9083333333333333\n",
      "TRAIN ACC:  0.9846903270702854\n",
      "TEST ACC: 0.9083333333333333\n",
      "TRAIN ACC:  0.9846903270702854\n",
      "TEST ACC: 0.9083333333333333\n",
      "TRAIN ACC:  0.9846903270702854\n",
      "TEST ACC: 0.9083333333333333\n",
      "TRAIN ACC:  0.9846903270702854\n",
      "TEST ACC: 0.9083333333333333\n",
      "TRAIN ACC:  0.9853862212943633\n",
      "TEST ACC: 0.9083333333333333\n",
      "TRAIN ACC:  0.9853862212943633\n",
      "TEST ACC: 0.9083333333333333\n",
      "TRAIN ACC:  0.9860821155184412\n",
      "TEST ACC: 0.9083333333333333\n",
      "TRAIN ACC:  0.9867780097425192\n",
      "TEST ACC: 0.9083333333333333\n",
      "TRAIN ACC:  0.9867780097425192\n",
      "TEST ACC: 0.9083333333333333\n",
      "TRAIN ACC:  0.9874739039665971\n",
      "TEST ACC: 0.9083333333333333\n",
      "TRAIN ACC:  0.988169798190675\n",
      "TEST ACC: 0.9083333333333333\n",
      "TRAIN ACC:  0.988169798190675\n",
      "TEST ACC: 0.9083333333333333\n",
      "TRAIN ACC:  0.988169798190675\n",
      "TEST ACC: 0.9083333333333333\n",
      "TRAIN ACC:  0.988169798190675\n",
      "TEST ACC: 0.9083333333333333\n",
      "TRAIN ACC:  0.988169798190675\n",
      "TEST ACC: 0.9083333333333333\n",
      "TRAIN ACC:  0.988169798190675\n",
      "TEST ACC: 0.9083333333333333\n",
      "TRAIN ACC:  0.988169798190675\n",
      "TEST ACC: 0.9083333333333333\n",
      "TRAIN ACC:  0.988865692414753\n",
      "TEST ACC: 0.9083333333333333\n",
      "TRAIN ACC:  0.988865692414753\n",
      "TEST ACC: 0.9083333333333333\n",
      "TRAIN ACC:  0.988865692414753\n",
      "TEST ACC: 0.9083333333333333\n",
      "TRAIN ACC:  0.988865692414753\n",
      "TEST ACC: 0.9083333333333333\n",
      "TRAIN ACC:  0.988865692414753\n",
      "TEST ACC: 0.9083333333333333\n",
      "TRAIN ACC:  0.988865692414753\n",
      "TEST ACC: 0.9111111111111111\n",
      "TRAIN ACC:  0.988865692414753\n",
      "TEST ACC: 0.9111111111111111\n",
      "TRAIN ACC:  0.9902574808629089\n",
      "TEST ACC: 0.9111111111111111\n",
      "TRAIN ACC:  0.9909533750869868\n",
      "TEST ACC: 0.9111111111111111\n",
      "TRAIN ACC:  0.9909533750869868\n",
      "TEST ACC: 0.9111111111111111\n",
      "TRAIN ACC:  0.9909533750869868\n",
      "TEST ACC: 0.9111111111111111\n",
      "TRAIN ACC:  0.9909533750869868\n",
      "TEST ACC: 0.9111111111111111\n",
      "TRAIN ACC:  0.9909533750869868\n",
      "TEST ACC: 0.9111111111111111\n",
      "TRAIN ACC:  0.9916492693110647\n",
      "TEST ACC: 0.9111111111111111\n",
      "TRAIN ACC:  0.9916492693110647\n",
      "TEST ACC: 0.9111111111111111\n",
      "TRAIN ACC:  0.9916492693110647\n",
      "TEST ACC: 0.9083333333333333\n",
      "TRAIN ACC:  0.9916492693110647\n",
      "TEST ACC: 0.9083333333333333\n",
      "TRAIN ACC:  0.9916492693110647\n",
      "TEST ACC: 0.9083333333333333\n",
      "TRAIN ACC:  0.9916492693110647\n",
      "TEST ACC: 0.9111111111111111\n",
      "TRAIN ACC:  0.9916492693110647\n",
      "TEST ACC: 0.9111111111111111\n",
      "TRAIN ACC:  0.9923451635351427\n",
      "TEST ACC: 0.9111111111111111\n",
      "TRAIN ACC:  0.9923451635351427\n",
      "TEST ACC: 0.9083333333333333\n",
      "TRAIN ACC:  0.9923451635351427\n",
      "TEST ACC: 0.9083333333333333\n",
      "TRAIN ACC:  0.9923451635351427\n",
      "TEST ACC: 0.9083333333333333\n",
      "TRAIN ACC:  0.9923451635351427\n",
      "TEST ACC: 0.9083333333333333\n",
      "TRAIN ACC:  0.9923451635351427\n",
      "TEST ACC: 0.9055555555555556\n",
      "TRAIN ACC:  0.9923451635351427\n",
      "TEST ACC: 0.9055555555555556\n",
      "TRAIN ACC:  0.9930410577592206\n",
      "TEST ACC: 0.9055555555555556\n",
      "TRAIN ACC:  0.9930410577592206\n",
      "TEST ACC: 0.9055555555555556\n",
      "TRAIN ACC:  0.9937369519832986\n",
      "TEST ACC: 0.9055555555555556\n",
      "TRAIN ACC:  0.9937369519832986\n",
      "TEST ACC: 0.9055555555555556\n",
      "TRAIN ACC:  0.9937369519832986\n",
      "TEST ACC: 0.9055555555555556\n",
      "TRAIN ACC:  0.9937369519832986\n",
      "TEST ACC: 0.9055555555555556\n",
      "TRAIN ACC:  0.9937369519832986\n",
      "TEST ACC: 0.9055555555555556\n",
      "TRAIN ACC:  0.9937369519832986\n",
      "TEST ACC: 0.9055555555555556\n",
      "TRAIN ACC:  0.9937369519832986\n",
      "TEST ACC: 0.9083333333333333\n",
      "TRAIN ACC:  0.9937369519832986\n",
      "TEST ACC: 0.9083333333333333\n",
      "TRAIN ACC:  0.9937369519832986\n",
      "TEST ACC: 0.9083333333333333\n",
      "TRAIN ACC:  0.9937369519832986\n",
      "TEST ACC: 0.9083333333333333\n",
      "TRAIN ACC:  0.9944328462073765\n",
      "TEST ACC: 0.9083333333333333\n",
      "TRAIN ACC:  0.9944328462073765\n",
      "TEST ACC: 0.9083333333333333\n",
      "TRAIN ACC:  0.9944328462073765\n",
      "TEST ACC: 0.9055555555555556\n",
      "TRAIN ACC:  0.9944328462073765\n",
      "TEST ACC: 0.9055555555555556\n",
      "TRAIN ACC:  0.9944328462073765\n",
      "TEST ACC: 0.9055555555555556\n",
      "TRAIN ACC:  0.9944328462073765\n",
      "TEST ACC: 0.9055555555555556\n",
      "TRAIN ACC:  0.9944328462073765\n",
      "TEST ACC: 0.9055555555555556\n",
      "TRAIN ACC:  0.9944328462073765\n",
      "TEST ACC: 0.9055555555555556\n",
      "TRAIN ACC:  0.9951287404314544\n",
      "TEST ACC: 0.9055555555555556\n",
      "TRAIN ACC:  0.9951287404314544\n",
      "TEST ACC: 0.9055555555555556\n",
      "TRAIN ACC:  0.9951287404314544\n",
      "TEST ACC: 0.9083333333333333\n",
      "TRAIN ACC:  0.9958246346555324\n",
      "TEST ACC: 0.9083333333333333\n",
      "TRAIN ACC:  0.9958246346555324\n",
      "TEST ACC: 0.9083333333333333\n",
      "TRAIN ACC:  0.9958246346555324\n",
      "TEST ACC: 0.9083333333333333\n",
      "TRAIN ACC:  0.9958246346555324\n",
      "TEST ACC: 0.9083333333333333\n",
      "TRAIN ACC:  0.9958246346555324\n",
      "TEST ACC: 0.9083333333333333\n",
      "TRAIN ACC:  0.9958246346555324\n",
      "TEST ACC: 0.9083333333333333\n",
      "TRAIN ACC:  0.9958246346555324\n",
      "TEST ACC: 0.9083333333333333\n",
      "TRAIN ACC:  0.9958246346555324\n",
      "TEST ACC: 0.9083333333333333\n",
      "TRAIN ACC:  0.9958246346555324\n",
      "TEST ACC: 0.9083333333333333\n",
      "TRAIN ACC:  0.9958246346555324\n",
      "TEST ACC: 0.9083333333333333\n",
      "TRAIN ACC:  0.9958246346555324\n",
      "TEST ACC: 0.9083333333333333\n",
      "TRAIN ACC:  0.9958246346555324\n",
      "TEST ACC: 0.9083333333333333\n",
      "TRAIN ACC:  0.9958246346555324\n",
      "TEST ACC: 0.9083333333333333\n",
      "TRAIN ACC:  0.9958246346555324\n",
      "TEST ACC: 0.9083333333333333\n",
      "TRAIN ACC:  0.9958246346555324\n",
      "TEST ACC: 0.9083333333333333\n",
      "TRAIN ACC:  0.9958246346555324\n",
      "TEST ACC: 0.9083333333333333\n",
      "TRAIN ACC:  0.9958246346555324\n",
      "TEST ACC: 0.9083333333333333\n",
      "TRAIN ACC:  0.9958246346555324\n",
      "TEST ACC: 0.9083333333333333\n",
      "TRAIN ACC:  0.9958246346555324\n",
      "TEST ACC: 0.9083333333333333\n",
      "TRAIN ACC:  0.9958246346555324\n",
      "TEST ACC: 0.9083333333333333\n",
      "TRAIN ACC:  0.9958246346555324\n",
      "TEST ACC: 0.9083333333333333\n",
      "TRAIN ACC:  0.9958246346555324\n",
      "TEST ACC: 0.9083333333333333\n",
      "TRAIN ACC:  0.9958246346555324\n",
      "TEST ACC: 0.9083333333333333\n",
      "TRAIN ACC:  0.9958246346555324\n",
      "TEST ACC: 0.9083333333333333\n",
      "TRAIN ACC:  0.9958246346555324\n",
      "TEST ACC: 0.9083333333333333\n",
      "TRAIN ACC:  0.9958246346555324\n",
      "TEST ACC: 0.9083333333333333\n",
      "TRAIN ACC:  0.9958246346555324\n",
      "TEST ACC: 0.9083333333333333\n",
      "TRAIN ACC:  0.9958246346555324\n",
      "TEST ACC: 0.9083333333333333\n",
      "TRAIN ACC:  0.9958246346555324\n",
      "TEST ACC: 0.9083333333333333\n",
      "TRAIN ACC:  0.9958246346555324\n",
      "TEST ACC: 0.9083333333333333\n",
      "TRAIN ACC:  0.9958246346555324\n",
      "TEST ACC: 0.9083333333333333\n",
      "TRAIN ACC:  0.9958246346555324\n",
      "TEST ACC: 0.9083333333333333\n",
      "TRAIN ACC:  0.9958246346555324\n",
      "TEST ACC: 0.9083333333333333\n",
      "TRAIN ACC:  0.9958246346555324\n",
      "TEST ACC: 0.9083333333333333\n",
      "TRAIN ACC:  0.9958246346555324\n",
      "TEST ACC: 0.9083333333333333\n",
      "TRAIN ACC:  0.9958246346555324\n",
      "TEST ACC: 0.9083333333333333\n",
      "TRAIN ACC:  0.9958246346555324\n",
      "TEST ACC: 0.9083333333333333\n",
      "TRAIN ACC:  0.9965205288796103\n",
      "TEST ACC: 0.9111111111111111\n",
      "TRAIN ACC:  0.9965205288796103\n",
      "TEST ACC: 0.9111111111111111\n",
      "TRAIN ACC:  0.9965205288796103\n",
      "TEST ACC: 0.9111111111111111\n",
      "TRAIN ACC:  0.9972164231036882\n",
      "TEST ACC: 0.9111111111111111\n",
      "TRAIN ACC:  0.9972164231036882\n",
      "TEST ACC: 0.9111111111111111\n",
      "TRAIN ACC:  0.9972164231036882\n",
      "TEST ACC: 0.9111111111111111\n",
      "TRAIN ACC:  0.9972164231036882\n",
      "TEST ACC: 0.9111111111111111\n",
      "TRAIN ACC:  0.9972164231036882\n",
      "TEST ACC: 0.9111111111111111\n",
      "TRAIN ACC:  0.9972164231036882\n",
      "TEST ACC: 0.9111111111111111\n",
      "TRAIN ACC:  0.9972164231036882\n",
      "TEST ACC: 0.9111111111111111\n",
      "TRAIN ACC:  0.9972164231036882\n",
      "TEST ACC: 0.9111111111111111\n",
      "TRAIN ACC:  0.9972164231036882\n",
      "TEST ACC: 0.9111111111111111\n",
      "TRAIN ACC:  0.9972164231036882\n",
      "TEST ACC: 0.9111111111111111\n",
      "TRAIN ACC:  0.9972164231036882\n",
      "TEST ACC: 0.9111111111111111\n",
      "TRAIN ACC:  0.9972164231036882\n",
      "TEST ACC: 0.9111111111111111\n",
      "TRAIN ACC:  0.9972164231036882\n",
      "TEST ACC: 0.9111111111111111\n",
      "TRAIN ACC:  0.9972164231036882\n",
      "TEST ACC: 0.9111111111111111\n",
      "TRAIN ACC:  0.9972164231036882\n",
      "TEST ACC: 0.9111111111111111\n",
      "TRAIN ACC:  0.9972164231036882\n",
      "TEST ACC: 0.9111111111111111\n",
      "TRAIN ACC:  0.9979123173277662\n",
      "TEST ACC: 0.9111111111111111\n",
      "TRAIN ACC:  0.9979123173277662\n",
      "TEST ACC: 0.9111111111111111\n",
      "TRAIN ACC:  0.9979123173277662\n",
      "TEST ACC: 0.9111111111111111\n",
      "TRAIN ACC:  0.9979123173277662\n",
      "TEST ACC: 0.9111111111111111\n",
      "TRAIN ACC:  0.9979123173277662\n",
      "TEST ACC: 0.9111111111111111\n"
     ]
    }
   ],
   "source": [
    "for epoch in range(epochs):\n",
    "\n",
    "    # --------------------TRAIN----------------------\n",
    "    Y_pred = []\n",
    "    for x , y in zip(X_train , Y_train):\n",
    "\n",
    "        x = x.reshape(-1,1)\n",
    "        # forward \n",
    "        out1 = sigmoid( x.T @ w1 + b1 ) # output of first layer\n",
    "        out2 = sigmoid( out1 @ w2 + b2) # output of second layer = khoroojie sigmoid \n",
    "        out3 = softmax( out2 @ w3 + b3) # output of third==output layer ===>    out3 = y_pred\n",
    "        y_pred = out3\n",
    "        Y_pred.append(y_pred)\n",
    "\n",
    "\n",
    "        # backward - backpropagation   باید همش مشتق بگیریم از ارور ها  \n",
    "        # moshtaghe root_mean_squared_error ra bayad hesab kard :---->  (y-py)^2   ----moshtagh---->  2(y-yp)\n",
    "\n",
    "        # layer3 grad \n",
    "        error = -2 * (y - y_pred)\n",
    "        # moshtaghe bias = 1\n",
    "        gradian_b3 =  error \n",
    "        gradian_w3 = out2.T @ error \n",
    "\n",
    "        #layer2 grad\n",
    "        # moshtagghe sigmoid x = sigmoid(x) * ( 1 - sigmoid(x))   ---> khoroojie sigmoid== out2\n",
    "        # مشتق * ارور = گرادیان\n",
    "        error = error   @  w3.T  *   out2     * ( 1 - out2    )\n",
    "        gradian_b2  = error    # khode error mishe moshtaghe bias \n",
    "        gradian_w2 = out1.T @ error\n",
    "\n",
    "        # layer1 grad\n",
    "        # w2 , zaribeh sigmoid ast \n",
    "        # مشتق * ارور = گرادیان\n",
    "        error = error @ w2.T * out1 * (1 - out1)\n",
    "        gradian_b1 = error\n",
    "        gradian_w1 = x @ error \n",
    "\n",
    "\n",
    "\n",
    "        # UPDATE (w ha , b ha )\n",
    "        # layer1\n",
    "        w1 = w1  -  lr * gradian_w1\n",
    "        b1 = b1  -  lr * gradian_b1\n",
    "\n",
    "        # layer2\n",
    "        w2 = w2 - lr * gradian_w2\n",
    "        b2 = b2 - lr * gradian_b2\n",
    "\n",
    "        # layer3\n",
    "        w3 = w3 - lr * gradian_w3\n",
    "        b3 = b3 - lr * gradian_b3\n",
    "\n",
    "        # print(w1,b1,w2,b2,w3,b3)\n",
    "\n",
    "\n",
    "\n",
    "\n",
    "    # ~~~~~~~~~~~~~~~~~~~~ TEST ~~~~~~~~~~~~~~~~~~~~~\n",
    "    Y_pred_test = []\n",
    "    for x , y in zip(X_test , Y_test):\n",
    "\n",
    "        x = x.reshape(-1,1)\n",
    "        # forward \n",
    "        out1 = sigmoid( x.T  @ w1 + b1) # output of first layer\n",
    "        out2 = sigmoid( out1 @ w2 + b2) # output of second layer = khoroojie sigmoid \n",
    "        out3 = softmax( out2 @ w3 + b3) # output of third==output layer ===>    out3 = y_pred\n",
    "        y_pred_test = out3\n",
    "        Y_pred_test.append(y_pred_test)\n",
    "\n",
    "\n",
    "\n",
    "    #TRAIN :\n",
    "\n",
    "    Y_pred = np.array(Y_pred)\n",
    "    #print(Y_pred.shape , Y_train.shape) # -------> (1437, 1, 10) (1437, 10)\n",
    "    Y_pred = Y_pred.reshape(-1 , 10)\n",
    "\n",
    "    loss_train = root_mean_squared_error( Y_train , Y_pred) \n",
    "    accuracy_train =np.sum(  np.argmax(Y_train  , axis=1) == np.argmax(Y_pred , axis=1)  )  /  len(Y_train)\n",
    "    print(\"TRAIN ACC: \"  , accuracy_train)\n",
    "    #print(loss_train)\n",
    "\n",
    "\n",
    "\n",
    "\n",
    "    # TEST :\n",
    "    Y_pred_test = np.array(Y_pred_test).reshape(-1 , 10)\n",
    "    #print(Y_pred.shape , Y_train.shape) # -------> (1437, 1, 10) (1437, 10)\n",
    "\n",
    "    loss_test = root_mean_squared_error( Y_test , Y_pred_test) \n",
    "    accuracy_test =np.sum(  np.argmax(Y_test  , axis=1) == np.argmax(Y_pred_test , axis=1)  )  /  len(Y_test)\n",
    "    print(\"TEST ACC:\" , accuracy_test)\n",
    "    #print(loss_test)\n"
   ]
  },
  {
   "cell_type": "code",
   "execution_count": 22,
   "metadata": {},
   "outputs": [],
   "source": [
    "#y_pred "
   ]
  },
  {
   "cell_type": "code",
   "execution_count": 23,
   "metadata": {},
   "outputs": [],
   "source": [
    "#np.array(Y_train[19])"
   ]
  },
  {
   "cell_type": "code",
   "execution_count": 24,
   "metadata": {},
   "outputs": [],
   "source": [
    "#np.argmax(Y_train[19])"
   ]
  },
  {
   "cell_type": "code",
   "execution_count": 25,
   "metadata": {},
   "outputs": [],
   "source": [
    "#np.argmax(y_pred)"
   ]
  },
  {
   "cell_type": "code",
   "execution_count": 26,
   "metadata": {},
   "outputs": [],
   "source": [
    "#np.array(Y_train[19]) - np.array(y_pred)"
   ]
  },
  {
   "cell_type": "markdown",
   "metadata": {},
   "source": [
    "## اگر مساله کلسیفیکیشن باشه ٬ لایه آخر را سافتمکس میزاریم "
   ]
  },
  {
   "cell_type": "markdown",
   "metadata": {},
   "source": [
    "###  در فرمول سافتمکس میشه دید که این تابع احتمالاتی هست "
   ]
  },
  {
   "cell_type": "markdown",
   "metadata": {},
   "source": []
  },
  {
   "cell_type": "markdown",
   "metadata": {},
   "source": [
    "### در مرحله تست فقط فوروارد داریم و دیگه بک پروپگیشین نداریم "
   ]
  },
  {
   "cell_type": "markdown",
   "metadata": {},
   "source": []
  },
  {
   "cell_type": "markdown",
   "metadata": {},
   "source": [
    "# PREDICT PHASE"
   ]
  },
  {
   "cell_type": "code",
   "execution_count": 27,
   "metadata": {},
   "outputs": [
    {
     "name": "stdout",
     "output_type": "stream",
     "text": [
      "(8, 8)\n",
      "[[4.29978519e-05 8.40433089e-01 1.77361397e-03 6.49032979e-02\n",
      "  1.48963884e-02 6.02391812e-04 2.23276858e-04 7.34867098e-02\n",
      "  3.26873868e-03 3.69495451e-04]]\n",
      "1\n"
     ]
    }
   ],
   "source": [
    "import cv2\n",
    "\n",
    "x = cv2.imread(\"11.jpg\") # ---> defult BGR mikhoone\n",
    "x = cv2.cvtColor(x , cv2.COLOR_BGR2GRAY)\n",
    "print(x.shape)\n",
    "# IN DATA RO MIDIM BE SHABAKE MOON , \n",
    "# PAS BAYAD TABDIL KONIM AZ (8*8)  -------> BE (64*1)\n",
    "# FORMATE input shape for network == 64*1\n",
    "\n",
    "x = x.reshape(64 , 1)\n",
    "\n",
    "# faghat marahele forward :\n",
    "out1 = sigmoid( x.T  @ w1 + b1) # output of first layer\n",
    "out2 = sigmoid( out1 @ w2 + b2) # output of second layer = khoroojie sigmoid \n",
    "out3 = softmax( out2 @ w3 + b3) # output of third==output layer ===>    out3 = y_pred\n",
    "y_pred_eval = out3\n",
    "\n",
    "print(y_pred_eval)\n",
    "print(np.argmax(y_pred_eval))\n"
   ]
  }
 ],
 "metadata": {
  "kernelspec": {
   "display_name": "Python 3",
   "language": "python",
   "name": "python3"
  },
  "language_info": {
   "codemirror_mode": {
    "name": "ipython",
    "version": 3
   },
   "file_extension": ".py",
   "mimetype": "text/x-python",
   "name": "python",
   "nbconvert_exporter": "python",
   "pygments_lexer": "ipython3",
   "version": "3.10.1"
  },
  "orig_nbformat": 4
 },
 "nbformat": 4,
 "nbformat_minor": 2
}
