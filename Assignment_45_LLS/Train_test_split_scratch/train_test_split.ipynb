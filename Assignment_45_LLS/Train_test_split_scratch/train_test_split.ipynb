{
 "cells": [
  {
   "cell_type": "code",
   "execution_count": 29,
   "metadata": {},
   "outputs": [],
   "source": [
    "import numpy as np\n",
    "import pandas as pd\n",
    "from SPLIT_DATA import TrainTestSplit_FromSCRATCH\n",
    "from sklearn.model_selection import train_test_split"
   ]
  },
  {
   "cell_type": "code",
   "execution_count": 30,
   "metadata": {},
   "outputs": [],
   "source": [
    "data = pd.read_csv(\"HousePrice.csv\")"
   ]
  },
  {
   "cell_type": "code",
   "execution_count": 31,
   "metadata": {},
   "outputs": [
    {
     "data": {
      "text/plain": [
       "((3473, 1), (3473, 1))"
      ]
     },
     "execution_count": 31,
     "metadata": {},
     "output_type": "execute_result"
    }
   ],
   "source": [
    "data[\"Parking\"].replace([\"True\" , \"False\"]  , [1 , 0] , inplace=True)\n",
    "data[\"Warehouse\"].replace([\"True\" , \"False\"]  , [1 , 0] , inplace=True)\n",
    "data[\"Elevator\"].replace([\"True\" , \"False\"]  , [1 , 0] , inplace=True)\n",
    "data.drop(\"Address\" , axis=1 , inplace=True)\n",
    "X = np.array(data[[\"Area\"]])\n",
    "Y = np.array(data[[\"Price\"]])\n",
    "X.shape , Y.shape\n",
    "# X.shape[0] == len(X) = 3473"
   ]
  },
  {
   "cell_type": "code",
   "execution_count": 32,
   "metadata": {},
   "outputs": [
    {
     "name": "stdout",
     "output_type": "stream",
     "text": [
      "(2084, 1)\n",
      "(1389, 1)\n",
      "(2084, 1)\n",
      "(1389, 1)\n"
     ]
    }
   ],
   "source": [
    "test_ratio = 0.4\n",
    "shuffle  = True\n",
    "split_data = TrainTestSplit_FromSCRATCH(test_ratio , shuffle )\n",
    "x_train , x_test , y_train , y_test = split_data.split(X,Y)\n",
    "print (x_train.shape )\n",
    "print (x_test.shape )\n",
    "print(y_train.shape)\n",
    "print(y_test.shape)"
   ]
  },
  {
   "cell_type": "code",
   "execution_count": 33,
   "metadata": {},
   "outputs": [
    {
     "name": "stdout",
     "output_type": "stream",
     "text": [
      "(2083, 1)\n",
      "(1390, 1)\n",
      "(2083, 1)\n",
      "(1390, 1)\n"
     ]
    }
   ],
   "source": [
    "x_train , x_test , y_train , y_test = train_test_split(X,Y , test_size=0.4)\n",
    "\n",
    "print (x_train.shape )\n",
    "print (x_test.shape )\n",
    "print(y_train.shape)\n",
    "print(y_test.shape)"
   ]
  },
  {
   "cell_type": "markdown",
   "metadata": {},
   "source": [
    "|SPLITED PARTS|   X_TRAIN  | X_TEST | Y_TRAIN  | Y_TEST |\n",
    "|------------------| --------- | --------- | ---------- | --------- |\n",
    "MY_TRAIN_TEST_SPLIT ( test_size=0.4 )| (2084, 1)  | (1389, 1)  | (2084, 1)  | (1389, 1)  |\n",
    "sklearn train_test_split  ( test_size=0.4 )| (2083, 1)  | (1390, 1)  | (2083, 1)  | (1390, 1)  |\n"
   ]
  }
 ],
 "metadata": {
  "kernelspec": {
   "display_name": "Python 3",
   "language": "python",
   "name": "python3"
  },
  "language_info": {
   "codemirror_mode": {
    "name": "ipython",
    "version": 3
   },
   "file_extension": ".py",
   "mimetype": "text/x-python",
   "name": "python",
   "nbconvert_exporter": "python",
   "pygments_lexer": "ipython3",
   "version": "3.10.1"
  },
  "orig_nbformat": 4
 },
 "nbformat": 4,
 "nbformat_minor": 2
}
