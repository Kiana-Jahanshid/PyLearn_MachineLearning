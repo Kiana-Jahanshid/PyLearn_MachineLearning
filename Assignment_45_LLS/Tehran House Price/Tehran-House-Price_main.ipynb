{
 "cells": [
  {
   "cell_type": "code",
   "execution_count": 17,
   "metadata": {},
   "outputs": [],
   "source": [
    "import numpy as np\n",
    "import pandas as pd \n",
    "import matplotlib.pyplot as plt\n",
    "from sklearn.model_selection import train_test_split\n",
    "from lls import LinearLeastSquare\n"
   ]
  },
  {
   "cell_type": "code",
   "execution_count": 18,
   "metadata": {},
   "outputs": [
    {
     "data": {
      "text/html": [
       "<div>\n",
       "<style scoped>\n",
       "    .dataframe tbody tr th:only-of-type {\n",
       "        vertical-align: middle;\n",
       "    }\n",
       "\n",
       "    .dataframe tbody tr th {\n",
       "        vertical-align: top;\n",
       "    }\n",
       "\n",
       "    .dataframe thead th {\n",
       "        text-align: right;\n",
       "    }\n",
       "</style>\n",
       "<table border=\"1\" class=\"dataframe\">\n",
       "  <thead>\n",
       "    <tr style=\"text-align: right;\">\n",
       "      <th></th>\n",
       "      <th>Area</th>\n",
       "      <th>Room</th>\n",
       "      <th>Parking</th>\n",
       "      <th>Warehouse</th>\n",
       "      <th>Elevator</th>\n",
       "      <th>Address</th>\n",
       "      <th>Price</th>\n",
       "      <th>Price(USD)</th>\n",
       "    </tr>\n",
       "  </thead>\n",
       "  <tbody>\n",
       "    <tr>\n",
       "      <th>0</th>\n",
       "      <td>63</td>\n",
       "      <td>1</td>\n",
       "      <td>True</td>\n",
       "      <td>True</td>\n",
       "      <td>True</td>\n",
       "      <td>Shahran</td>\n",
       "      <td>1.850000e+09</td>\n",
       "      <td>61666.67</td>\n",
       "    </tr>\n",
       "    <tr>\n",
       "      <th>1</th>\n",
       "      <td>60</td>\n",
       "      <td>1</td>\n",
       "      <td>True</td>\n",
       "      <td>True</td>\n",
       "      <td>True</td>\n",
       "      <td>Shahran</td>\n",
       "      <td>1.850000e+09</td>\n",
       "      <td>61666.67</td>\n",
       "    </tr>\n",
       "    <tr>\n",
       "      <th>2</th>\n",
       "      <td>79</td>\n",
       "      <td>2</td>\n",
       "      <td>True</td>\n",
       "      <td>True</td>\n",
       "      <td>True</td>\n",
       "      <td>Pardis</td>\n",
       "      <td>5.500000e+08</td>\n",
       "      <td>18333.33</td>\n",
       "    </tr>\n",
       "    <tr>\n",
       "      <th>3</th>\n",
       "      <td>95</td>\n",
       "      <td>2</td>\n",
       "      <td>True</td>\n",
       "      <td>True</td>\n",
       "      <td>True</td>\n",
       "      <td>Shahrake Qods</td>\n",
       "      <td>9.025000e+08</td>\n",
       "      <td>30083.33</td>\n",
       "    </tr>\n",
       "    <tr>\n",
       "      <th>4</th>\n",
       "      <td>123</td>\n",
       "      <td>2</td>\n",
       "      <td>True</td>\n",
       "      <td>True</td>\n",
       "      <td>True</td>\n",
       "      <td>Shahrake Gharb</td>\n",
       "      <td>7.000000e+09</td>\n",
       "      <td>233333.33</td>\n",
       "    </tr>\n",
       "  </tbody>\n",
       "</table>\n",
       "</div>"
      ],
      "text/plain": [
       "   Area  Room  Parking  Warehouse  Elevator         Address         Price  \\\n",
       "0    63     1     True       True      True         Shahran  1.850000e+09   \n",
       "1    60     1     True       True      True         Shahran  1.850000e+09   \n",
       "2    79     2     True       True      True          Pardis  5.500000e+08   \n",
       "3    95     2     True       True      True   Shahrake Qods  9.025000e+08   \n",
       "4   123     2     True       True      True  Shahrake Gharb  7.000000e+09   \n",
       "\n",
       "   Price(USD)  \n",
       "0    61666.67  \n",
       "1    61666.67  \n",
       "2    18333.33  \n",
       "3    30083.33  \n",
       "4   233333.33  "
      ]
     },
     "execution_count": 18,
     "metadata": {},
     "output_type": "execute_result"
    }
   ],
   "source": [
    "data  = pd.read_csv(\"HousePrice.csv\")\n",
    "data.head()"
   ]
  },
  {
   "cell_type": "markdown",
   "metadata": {},
   "source": [
    "# Data preprocess :"
   ]
  },
  {
   "cell_type": "code",
   "execution_count": 19,
   "metadata": {},
   "outputs": [
    {
     "name": "stdout",
     "output_type": "stream",
     "text": [
      "float64\n",
      "float64\n"
     ]
    }
   ],
   "source": [
    "print(data[\"Price\"].dtype)\n",
    "print(data[\"Price(USD)\"].dtype)"
   ]
  },
  {
   "cell_type": "markdown",
   "metadata": {},
   "source": [
    "## 💸💰$ update dollar price to july 2023"
   ]
  },
  {
   "cell_type": "code",
   "execution_count": 20,
   "metadata": {},
   "outputs": [
    {
     "name": "stdout",
     "output_type": "stream",
     "text": [
      "object\n",
      "float64\n",
      "float64\n"
     ]
    },
    {
     "data": {
      "text/html": [
       "<div>\n",
       "<style scoped>\n",
       "    .dataframe tbody tr th:only-of-type {\n",
       "        vertical-align: middle;\n",
       "    }\n",
       "\n",
       "    .dataframe tbody tr th {\n",
       "        vertical-align: top;\n",
       "    }\n",
       "\n",
       "    .dataframe thead th {\n",
       "        text-align: right;\n",
       "    }\n",
       "</style>\n",
       "<table border=\"1\" class=\"dataframe\">\n",
       "  <thead>\n",
       "    <tr style=\"text-align: right;\">\n",
       "      <th></th>\n",
       "      <th>Area</th>\n",
       "      <th>Room</th>\n",
       "      <th>Parking</th>\n",
       "      <th>Warehouse</th>\n",
       "      <th>Elevator</th>\n",
       "      <th>Address</th>\n",
       "      <th>Price</th>\n",
       "      <th>Price(USD)</th>\n",
       "      <th>Price(USD)_2023</th>\n",
       "    </tr>\n",
       "  </thead>\n",
       "  <tbody>\n",
       "    <tr>\n",
       "      <th>0</th>\n",
       "      <td>63</td>\n",
       "      <td>1</td>\n",
       "      <td>True</td>\n",
       "      <td>True</td>\n",
       "      <td>True</td>\n",
       "      <td>Shahran</td>\n",
       "      <td>1,850,000,000</td>\n",
       "      <td>61666.67</td>\n",
       "      <td>100702.0</td>\n",
       "    </tr>\n",
       "    <tr>\n",
       "      <th>1</th>\n",
       "      <td>60</td>\n",
       "      <td>1</td>\n",
       "      <td>True</td>\n",
       "      <td>True</td>\n",
       "      <td>True</td>\n",
       "      <td>Shahran</td>\n",
       "      <td>1,850,000,000</td>\n",
       "      <td>61666.67</td>\n",
       "      <td>100702.0</td>\n",
       "    </tr>\n",
       "    <tr>\n",
       "      <th>2</th>\n",
       "      <td>79</td>\n",
       "      <td>2</td>\n",
       "      <td>True</td>\n",
       "      <td>True</td>\n",
       "      <td>True</td>\n",
       "      <td>Pardis</td>\n",
       "      <td>550,000,000</td>\n",
       "      <td>18333.33</td>\n",
       "      <td>29938.0</td>\n",
       "    </tr>\n",
       "    <tr>\n",
       "      <th>3</th>\n",
       "      <td>95</td>\n",
       "      <td>2</td>\n",
       "      <td>True</td>\n",
       "      <td>True</td>\n",
       "      <td>True</td>\n",
       "      <td>Shahrake Qods</td>\n",
       "      <td>902,500,000</td>\n",
       "      <td>30083.33</td>\n",
       "      <td>49126.0</td>\n",
       "    </tr>\n",
       "    <tr>\n",
       "      <th>4</th>\n",
       "      <td>123</td>\n",
       "      <td>2</td>\n",
       "      <td>True</td>\n",
       "      <td>True</td>\n",
       "      <td>True</td>\n",
       "      <td>Shahrake Gharb</td>\n",
       "      <td>7,000,000,000</td>\n",
       "      <td>233333.33</td>\n",
       "      <td>381033.0</td>\n",
       "    </tr>\n",
       "    <tr>\n",
       "      <th>...</th>\n",
       "      <td>...</td>\n",
       "      <td>...</td>\n",
       "      <td>...</td>\n",
       "      <td>...</td>\n",
       "      <td>...</td>\n",
       "      <td>...</td>\n",
       "      <td>...</td>\n",
       "      <td>...</td>\n",
       "      <td>...</td>\n",
       "    </tr>\n",
       "    <tr>\n",
       "      <th>3468</th>\n",
       "      <td>86</td>\n",
       "      <td>2</td>\n",
       "      <td>True</td>\n",
       "      <td>True</td>\n",
       "      <td>True</td>\n",
       "      <td>Southern Janatabad</td>\n",
       "      <td>3,500,000,000</td>\n",
       "      <td>116666.67</td>\n",
       "      <td>190517.0</td>\n",
       "    </tr>\n",
       "    <tr>\n",
       "      <th>3469</th>\n",
       "      <td>83</td>\n",
       "      <td>2</td>\n",
       "      <td>True</td>\n",
       "      <td>True</td>\n",
       "      <td>True</td>\n",
       "      <td>Niavaran</td>\n",
       "      <td>6,800,000,000</td>\n",
       "      <td>226666.67</td>\n",
       "      <td>370147.0</td>\n",
       "    </tr>\n",
       "    <tr>\n",
       "      <th>3470</th>\n",
       "      <td>75</td>\n",
       "      <td>2</td>\n",
       "      <td>False</td>\n",
       "      <td>False</td>\n",
       "      <td>False</td>\n",
       "      <td>Parand</td>\n",
       "      <td>365,000,000</td>\n",
       "      <td>12166.67</td>\n",
       "      <td>19868.0</td>\n",
       "    </tr>\n",
       "    <tr>\n",
       "      <th>3471</th>\n",
       "      <td>105</td>\n",
       "      <td>2</td>\n",
       "      <td>True</td>\n",
       "      <td>True</td>\n",
       "      <td>True</td>\n",
       "      <td>Dorous</td>\n",
       "      <td>5,600,000,000</td>\n",
       "      <td>186666.67</td>\n",
       "      <td>304827.0</td>\n",
       "    </tr>\n",
       "    <tr>\n",
       "      <th>3472</th>\n",
       "      <td>82</td>\n",
       "      <td>2</td>\n",
       "      <td>False</td>\n",
       "      <td>True</td>\n",
       "      <td>True</td>\n",
       "      <td>Parand</td>\n",
       "      <td>360,000,000</td>\n",
       "      <td>12000.00</td>\n",
       "      <td>19596.0</td>\n",
       "    </tr>\n",
       "  </tbody>\n",
       "</table>\n",
       "<p>3473 rows × 9 columns</p>\n",
       "</div>"
      ],
      "text/plain": [
       "      Area  Room  Parking  Warehouse  Elevator             Address  \\\n",
       "0       63     1     True       True      True             Shahran   \n",
       "1       60     1     True       True      True             Shahran   \n",
       "2       79     2     True       True      True              Pardis   \n",
       "3       95     2     True       True      True       Shahrake Qods   \n",
       "4      123     2     True       True      True      Shahrake Gharb   \n",
       "...    ...   ...      ...        ...       ...                 ...   \n",
       "3468    86     2     True       True      True  Southern Janatabad   \n",
       "3469    83     2     True       True      True            Niavaran   \n",
       "3470    75     2    False      False     False              Parand   \n",
       "3471   105     2     True       True      True              Dorous   \n",
       "3472    82     2    False       True      True              Parand   \n",
       "\n",
       "              Price  Price(USD)  Price(USD)_2023  \n",
       "0     1,850,000,000    61666.67         100702.0  \n",
       "1     1,850,000,000    61666.67         100702.0  \n",
       "2       550,000,000    18333.33          29938.0  \n",
       "3       902,500,000    30083.33          49126.0  \n",
       "4     7,000,000,000   233333.33         381033.0  \n",
       "...             ...         ...              ...  \n",
       "3468  3,500,000,000   116666.67         190517.0  \n",
       "3469  6,800,000,000   226666.67         370147.0  \n",
       "3470    365,000,000    12166.67          19868.0  \n",
       "3471  5,600,000,000   186666.67         304827.0  \n",
       "3472    360,000,000    12000.00          19596.0  \n",
       "\n",
       "[3473 rows x 9 columns]"
      ]
     },
     "execution_count": 20,
     "metadata": {},
     "output_type": "execute_result"
    }
   ],
   "source": [
    "# Price(USD)_2023 = Price(USD) * (49000/ 30000)\n",
    "data[\"Price(USD)\"] = data[\"Price(USD)\"].astype(dtype=\"float64\") # float\n",
    "data[\"Price(USD)_2023\"] =data[\"Price(USD)\"].multiply(1.633).round(decimals=0)#.map('{:,.0f}'.format) # object\n",
    "data[\"Price\"] =data[\"Price\"].map('{:,.0f}'.format) # object\n",
    "\n",
    "print(data[\"Price\"].dtype)\n",
    "print(data[\"Price(USD)\"].dtype)\n",
    "print(data[\"Price(USD)_2023\"].dtype)\n",
    "\n",
    "data"
   ]
  },
  {
   "cell_type": "markdown",
   "metadata": {},
   "source": [
    "# Show the address of the 5 most expensive houses "
   ]
  },
  {
   "cell_type": "code",
   "execution_count": 21,
   "metadata": {},
   "outputs": [
    {
     "data": {
      "text/html": [
       "<div>\n",
       "<style scoped>\n",
       "    .dataframe tbody tr th:only-of-type {\n",
       "        vertical-align: middle;\n",
       "    }\n",
       "\n",
       "    .dataframe tbody tr th {\n",
       "        vertical-align: top;\n",
       "    }\n",
       "\n",
       "    .dataframe thead th {\n",
       "        text-align: right;\n",
       "    }\n",
       "</style>\n",
       "<table border=\"1\" class=\"dataframe\">\n",
       "  <thead>\n",
       "    <tr style=\"text-align: right;\">\n",
       "      <th></th>\n",
       "      <th>Address</th>\n",
       "      <th>Price(USD)_2023</th>\n",
       "    </tr>\n",
       "  </thead>\n",
       "  <tbody>\n",
       "    <tr>\n",
       "      <th>0</th>\n",
       "      <td>Gheitarieh</td>\n",
       "      <td>81729477.0</td>\n",
       "    </tr>\n",
       "    <tr>\n",
       "      <th>1</th>\n",
       "      <td>Niavaran</td>\n",
       "      <td>73634039.0</td>\n",
       "    </tr>\n",
       "    <tr>\n",
       "      <th>2</th>\n",
       "      <td>Saadat Abad</td>\n",
       "      <td>66629118.0</td>\n",
       "    </tr>\n",
       "    <tr>\n",
       "      <th>3</th>\n",
       "      <td>Farmanieh</td>\n",
       "      <td>64900046.0</td>\n",
       "    </tr>\n",
       "    <tr>\n",
       "      <th>4</th>\n",
       "      <td>Shahrake Gharb</td>\n",
       "      <td>38442072.0</td>\n",
       "    </tr>\n",
       "  </tbody>\n",
       "</table>\n",
       "</div>"
      ],
      "text/plain": [
       "          Address  Price(USD)_2023\n",
       "0      Gheitarieh       81729477.0\n",
       "1        Niavaran       73634039.0\n",
       "2     Saadat Abad       66629118.0\n",
       "3       Farmanieh       64900046.0\n",
       "4  Shahrake Gharb       38442072.0"
      ]
     },
     "execution_count": 21,
     "metadata": {},
     "output_type": "execute_result"
    }
   ],
   "source": [
    "five_most_exp = data.groupby(['Address'])['Price(USD)_2023'].sum().sort_values(ascending=False).head().reset_index()\n",
    "five_most_exp"
   ]
  },
  {
   "cell_type": "code",
   "execution_count": 22,
   "metadata": {},
   "outputs": [
    {
     "data": {
      "text/plain": [
       "<Axes: title={'center': 'Address of 5 Most Expensive House'}, ylabel='Price(USD)_2023'>"
      ]
     },
     "execution_count": 22,
     "metadata": {},
     "output_type": "execute_result"
    },
    {
     "data": {
      "image/png": "iVBORw0KGgoAAAANSUhEUgAAAyIAAAKSCAYAAAAu8G+fAAAAOXRFWHRTb2Z0d2FyZQBNYXRwbG90bGliIHZlcnNpb24zLjcuMSwgaHR0cHM6Ly9tYXRwbG90bGliLm9yZy/bCgiHAAAACXBIWXMAAA9hAAAPYQGoP6dpAADejElEQVR4nOzdd3xN9/8H8NfNHjd7CzKNIPbe1BarVYoiVrVGqz9Kq8OoUkrRqrZUUVWrRlXsEXtLzIjIELL3nvee3x/3m1tXEpJIcu7NfT0fjzzknnPuOa9zkdz3/SyJIAgCiIiIiIiIqpGO2AGIiIiIiEj7sBAhIiIiIqJqx0KEiIiIiIiqHQsRIiIiIiKqdixEiIiIiIio2rEQISIiIiKiasdChIiIiIiIqh0LESIiIiIiqnYsRIiIiIiIqNqxECFSQ1u2bIFEIkFERMQrj3V1dYWvr2+VZxLDtm3b0LBhQ+jr68PS0lLsOCSihQsXQiKRiB2DiIgqEQsRoiq0fv16SCQStGvXTuwoGufhw4fw9fWFh4cHNm7ciA0bNpR6bFHhVtJXbGzsK6/VvXt3SCQS1KtXr8T9J06cUJ7v77//rvA9vczhw4excOHCMh9flLmkr4YNG1ZJRm1UVAAlJiaWuN/V1RU+Pj7VnIqIqGbQEzsAUU22fft2uLq64tq1a3j8+DE8PT3FjqQx/P39IZfLsXbt2jK/bosXL4abm5vKtrK2pBgZGeHx48e4du0a2rZtq7Jv+/btMDIyQm5ubpnOVRGHDx/GTz/9VK5ipHbt2li2bFmx7RYWFpWYTD188cUX+PTTT8WOQURElYiFCFEVCQ8Px6VLl7Bv3z5MnToV27dvx4IFC0TJkpWVBVNTU1GuXVHx8fEAyl5IAED//v3RunXrCl3Pw8MDhYWF2LFjh0ohkpubi/3792PgwIHYu3dvhc5dVSwsLPDuu++KHaNa6OnpQU+Pv7KIiGoSds0iqiLbt2+HlZUVBg4ciOHDh2P79u0lHnf//n307NkTxsbGqF27NpYsWQK5XF7sOEEQsGTJEtSuXRsmJibo0aMH7t+/X+y4om5KZ8+exbRp02Bvb4/atWsr9x85cgRdunSBqakpzMzMMHDgwGLniY2NxYQJE1C7dm0YGhrCyckJQ4YMURmzcuPGDfTt2xe2trYwNjaGm5sbJk6cWKbXZv369WjcuDEMDQ1Rq1YtTJ8+Hampqcr9rq6uyqLNzs4OEomkzC0FGRkZkMlkZTr2RaNGjcKuXbtUXv9///0X2dnZGDFiRInPCQgIQP/+/WFubg6pVIo33ngDV65cUTmmoKAAixYtQr169WBkZAQbGxt07twZJ06cAAD4+vrip59+AgCVLlavKycnBw0bNkTDhg2Rk5Oj3J6cnAwnJyd07NhR+Vr5+vpCKpUiLCwMffv2hampKWrVqoXFixdDEASV88rlcqxZswaNGzeGkZERHBwcMHXqVKSkpKgcV9Rt6cKFC2jbti2MjIzg7u6OP/74o1yvD1B8jEiTJk3Qo0ePYvcsl8vh7OyM4cOHlztvZcnKysLs2bNRp04dGBoaokGDBli5cqXK6xgREQGJRIItW7YUe/6L/94zMjIwa9YsuLq6wtDQEPb29ujduzdu3bql8ryrV6+iX79+sLCwgImJCbp164aLFy9WyT0SEVUGfrxEVEW2b9+ON998EwYGBhg1ahR+/vlnXL9+HW3atFEeExsbix49eqCwsBCffvopTE1NsWHDBhgbGxc731dffYUlS5ZgwIABGDBgAG7duoU+ffogPz+/xOtPmzYNdnZ2+Oqrr5CVlQVAMfh7/Pjx6Nu3L5YvX47s7Gz8/PPP6Ny5MwICAuDq6goAeOutt3D//n3MnDkTrq6uiI+Px4kTJxAZGal83KdPH9jZ2eHTTz+FpaUlIiIisG/fvle+LgsXLsSiRYvQq1cvfPDBBwgODla+NhcvXoS+vj7WrFmDP/74A/v378fPP/8MqVSKpk2bvvLcPXr0QGZmJgwMDNC3b1+sWrWq1HEfJRk9ejQWLlwIf39/9OzZEwDw119/4Y033oC9vX2x4+/fv48uXbrA3Nwcc+fOhb6+Pn799Vd0794dZ8+eVY4NWrhwIZYtW4bJkyejbdu2SE9Px40bN3Dr1i307t0bU6dORXR0NE6cOIFt27aVOa9MJitx7IKxsTFMTU1hbGyMrVu3olOnTvj888/x/fffAwCmT5+OtLQ0bNmyBbq6uirn69evH9q3b48VK1bg6NGjWLBgAQoLC7F48WLlcVOnTsWWLVswYcIEfPjhhwgPD8e6desQEBCg/Dss8vjxYwwfPhyTJk3C+PHj8fvvv8PX1xetWrVC48aNy/T6lGTkyJFYuHAhYmNj4ejoqNx+4cIFREdH45133qlQ3tIkJyeXuP3FDw0EQcDgwYNx5swZTJo0Cc2bN8exY8fwySefICoqCqtXr37ltV70/vvv4++//8aMGTPQqFEjJCUl4cKFCwgKCkLLli0BAKdPn0b//v3RqlUrLFiwADo6Oti8eTN69uyJ8+fPF+tuSESkFgQiqnQ3btwQAAgnTpwQBEEQ5HK5ULt2beGjjz5SOW7WrFkCAOHq1avKbfHx8YKFhYUAQAgPD1duMzAwEAYOHCjI5XLlsfPnzxcACOPHj1du27x5swBA6Ny5s1BYWKjcnpGRIVhaWgpTpkxRyRAbGytYWFgot6ekpAgAhO+++67U+9u/f78AQLh+/Xq5Xpei++jTp48gk8mU29etWycAEH7//XfltgULFggAhISEhFeed9euXYKvr6+wdetWYf/+/cIXX3whmJiYCLa2tkJkZOQrn9+tWzehcePGgiAIQuvWrYVJkyYJgqB4LQwMDIStW7cKZ86cEQAIe/bsUT5v6NChgoGBgRAaGqrcFh0dLZiZmQldu3ZVbmvWrJkwcODAl2aYPn26UJ4fyd26dRMAlPg1depUlWM/++wzQUdHRzh37pywZ88eAYCwZs0alWPGjx8vABBmzpyp3CaXy4WBAwcKBgYGyr+H8+fPCwCE7du3qzz/6NGjxba7uLgIAIRz584pt8XHxwuGhobC7NmzldvK8voU/XsoEhwcLAAQfvzxR5Xjpk2bJkilUiE7O7vceV923Zd9PZ/9wIEDAgBhyZIlKucZPny4IJFIhMePHwuCIAjh4eECAGHz5s3FrglAWLBggfKxhYWFMH369FIzyuVyoV69ekLfvn1Vfj5kZ2cLbm5uQu/evV96j0REYmHXLKIqsH37djg4OCi7jkgkEowcORI7d+5U6TZ0+PBhtG/fXuXTSjs7O4wZM0blfCdPnkR+fj5mzpyp0j1l1qxZpWaYMmWKyqfdJ06cQGpqKkaNGoXExETll66uLtq1a4czZ84AUHyabmBgAH9//1K7rhSN2zh06BAKCgrK9qI8dx+zZs2Cjs5/P36mTJkCc3Nz+Pn5lflczxsxYgQ2b96McePGYejQofj6669x7NgxJCUl4ZtvvinXuUaPHo19+/YhPz8ff//9N3R1dTFs2LBix8lkMhw/fhxDhw6Fu7u7cruTkxNGjx6NCxcuID09HYDi9bp//z5CQkIqdH+lcXV1xYkTJ4p9vfjvYuHChWjcuDHGjx+PadOmoVu3bvjwww9LPOeMGTOU30skEsyYMQP5+fk4efIkAGDPnj2wsLBA7969Vf4dtWrVClKpVPnvqEijRo3QpUsX5WM7Ozs0aNAAYWFhym0VeX3q16+P5s2bY9euXcptMpkMf//9NwYNGqRsVSxv3tLs3bu3xNfawcFB5bjDhw9DV1e32Os7e/ZsCIKAI0eOlPkei1haWuLq1auIjo4ucX9gYCBCQkIwevRoJCUlKe8xKysLb7zxBs6dO1did08iIrGxaxZRJZPJZNi5cyd69OiB8PBw5fZ27dph1apVOHXqFPr06QMAePLkSYlT+zZo0EDl8ZMnTwCgWDcjOzs7WFlZlZjjxdmjit7kFXU5epG5uTkAwNDQEMuXL8fs2bPh4OCA9u3bw8fHB+PGjVN2genWrRveeustLFq0CKtXr0b37t0xdOhQjB49GoaGhiW/MM/dx4v3Z2BgAHd3d+X+ytC5c2e0a9dO+Qa6rN555x3MmTMHR44cwfbt2+Hj4wMzM7NixyUkJCA7O7vYvQCAl5cX5HI5nj59isaNG2Px4sUYMmQI6tevjyZNmqBfv34YO3ZsmbqbvYypqSl69er1yuMMDAzw+++/o02bNjAyMsLmzZtLHIOio6OjUlQBijf8AJTjg0JCQpCWllZiVzXgv0kGitStW7fYMVZWVipFbkVfn5EjR2L+/PmIioqCs7Mz/P39ER8fj5EjRyqPKW/e0nTt2hW2trbFthsZGak8fvLkCWrVqlXs34yXl5dyf3mtWLEC48ePR506ddCqVSsMGDAA48aNU/5dFf3fHj9+fKnnSEtLK/VnBRGRWFiIEFWy06dPIyYmBjt37sTOnTuL7d++fbuyEKlKL44zKfpEdNu2bSp96os8PyPRrFmzMGjQIBw4cADHjh3Dl19+iWXLluH06dNo0aKFcj2NK1eu4N9//8WxY8cwceJErFq1CleuXIFUKq3amyujOnXqIDg4uFzPcXJyQvfu3bFq1SpcvHixUmbK6tq1K0JDQ/HPP//g+PHj+O2337B69Wr88ssvmDx58mufvyyOHTsGQDELWEhISLFCtazkcjns7e1LnXzBzs5O5fHzrXLPE54buF3R12fkyJH47LPPsGfPHsyaNQu7d++GhYUF+vXrV+G81aW0yQhKmmhhxIgR6NKlC/bv34/jx4/ju+++w/Lly7Fv3z70799f+X/7u+++Q/PmzUs8r7r8nyQieh4LEaJKtn37dtjb2ytnQXrevn37sH//fvzyyy8wNjaGi4tLid1RXnzz7OLiAkDxyefzn1gnJCSUeeYfDw8PAIC9vX2ZPkX38PDA7NmzMXv2bISEhKB58+ZYtWoV/vzzT+Ux7du3R/v27fHNN9/gr7/+wpgxY7Bz585S3zwW3UdwcLDKfeTn5yM8PLxMucojLCysQm80R48ejcmTJ8PS0hIDBgwo8Rg7OzuYmJiUWOg8fPgQOjo6qFOnjnKbtbU1JkyYgAkTJiAzMxNdu3bFwoULla9VVa4afufOHSxevBgTJkxAYGAgJk+ejLt37xZbb0QulyMsLEzZCgIAjx49AgDlRAYeHh44efIkOnXqVOKkChX1qtenJG5ubmjbti127dqFGTNmYN++fRg6dKhKq1xV5S2Ni4sLTp48iYyMDJVWkYcPHyr3A1C2Tjw/WxxQeouJk5MTpk2bhmnTpiE+Ph4tW7bEN998g/79+yv/b5ubm1f6/yEioqrEMSJElSgnJwf79u2Dj48Phg8fXuxrxowZyMjIwMGDBwEAAwYMwJUrV3Dt2jXlORISEop9eturVy/o6+vjxx9/VPkkec2aNWXO1rdvX5ibm2Pp0qUljutISEgAAGRnZxdbuM/DwwNmZmbIy8sDAKSkpBSb0rXok9iiY0rSq1cvGBgY4IcfflB5/qZNm5CWloaBAweW+X5Kyv68w4cP4+bNmyqfjpfV8OHDsWDBAqxfvx4GBgYlHqOrq4s+ffrgn3/+UZnWOC4uDn/99Rc6d+6s7O6WlJSk8lypVApPT0+V16ponZcX35i+roKCAvj6+qJWrVpYu3YttmzZgri4OHz88cclHr9u3Trl94IgYN26ddDX18cbb7wBQPHpvEwmw9dff13suYWFhRXKX5bXpzQjR47ElStX8PvvvyMxMVGlW1ZV5X2ZAQMGQCaTqbyOALB69WpIJBL0798fgKJosLW1xblz51SOW79+vcpjmUyGtLQ0lW329vaoVauW8vVp1aoVPDw8sHLlSmRmZhbLVNL/DyIidcAWEaJKdPDgQWRkZGDw4MEl7m/fvj3s7Oywfft2jBw5EnPnzsW2bdvQr18/fPTRR8rpe11cXHDnzh3l8+zs7DBnzhwsW7YMPj4+GDBgAAICAnDkyJES+62XxNzcHD///DPGjh2Lli1b4p133oGdnR0iIyPh5+eHTp06Yd26dXj06BHeeOMNjBgxAo0aNYKenh7279+PuLg45ZSoW7duxfr16zFs2DB4eHggIyMDGzduhLm5eaktCEX38dlnn2HRokXo168fBg8ejODgYKxfvx5t2rSp8OJ8HTt2RIsWLdC6dWtYWFjg1q1b+P3331GnTh3Mnz+/3OezsLAo07olS5YswYkTJ9C5c2dMmzYNenp6+PXXX5GXl4cVK1Yoj2vUqBG6d++OVq1awdraGjdu3FBOx1qkVatWAIAPP/wQffv2ha6ursoUtCVJS0tTaaF6XtFruWTJEgQGBuLUqVMwMzND06ZN8dVXX+GLL77A8OHDVf6+jIyMcPToUYwfPx7t2rXDkSNH4Ofnh/nz5ytblrp164apU6di2bJlCAwMRJ8+faCvr4+QkBDs2bMHa9euVVnDoyzK8vqUZsSIEZgzZw7mzJkDa2vrYi0CVZH3ZQYNGoQePXrg888/R0REBJo1a4bjx4/jn3/+waxZs5StFwAwefJkfPvtt5g8eTJat26Nc+fOKVugimRkZKB27doYPnw4mjVrBqlUipMnT+L69etYtWoVAMXYnt9++w39+/dH48aNMWHCBDg7OyMqKgpnzpyBubk5/v3330q7RyKiSiPmlF1ENc2gQYMEIyMjISsrq9RjfH19BX19fSExMVEQBEG4c+eO0K1bN8HIyEhwdnYWvv76a2HTpk0q0/cKgiDIZDJh0aJFgpOTk2BsbCx0795duHfvnuDi4lLi9L2lTa175swZoW/fvoKFhYVgZGQkeHh4CL6+vsKNGzcEQRCExMREYfr06ULDhg0FU1NTwcLCQmjXrp2we/du5Tlu3boljBo1Sqhbt65gaGgo2NvbCz4+PspzvMq6deuEhg0bCvr6+oKDg4PwwQcfCCkpKSrHlGf63s8//1xo3ry5YGFhIejr6wt169YVPvjgAyE2NrZMeZ6fvrc0JU3fKwiK16Jv376CVCoVTExMhB49egiXLl1SOWbJkiVC27ZtBUtLS8HY2Fho2LCh8M033wj5+fnKYwoLC4WZM2cKdnZ2gkQieeVUvi+bvrfouTdv3hT09PRUpuQtulabNm2EWrVqKV/38ePHC6ampkJoaKjQp08fwcTERHBwcBAWLFigMtVykQ0bNgitWrUSjI2NBTMzM8Hb21uYO3euEB0drTzGxcWlxGl5u3XrJnTr1q1cr8+L0/c+r1OnTgIAYfLkyaW+XmXJW5JX/Tss6R4zMjKEjz/+WKhVq5agr68v1KtXT/juu+9UptYVBMX0upMmTRIsLCwEMzMzYcSIEUJ8fLzK9L15eXnCJ598IjRr1kwwMzMTTE1NhWbNmgnr168vliUgIEB48803BRsbG8HQ0FBwcXERRowYIZw6deql90hEJBaJILzQv4KIiLSOr68v/v777xK79hAREVUFjhEhIiIiIqJqx0KEiIiIiIiqHQsRIiIiIiKqdhwjQkRERERE1Y4tIkREREREVO1YiBARERERUbVjIUJERERERNWOhQgREREREVU7FiJERERERFTtWIgQEREREVG1YyFCRERERETVjoUIERERERFVOxYiRERERERU7fTEDkBERESvTyaToaCgQOwYpIX09fWhq6srdgzSQCxEiIiINJggCIiNjUVqaqrYUUiLWVpawtHRERKJROwopEFYiBAREWmwoiLE3t4eJiYmfCNI1UoQBGRnZyM+Ph4A4OTkJHIi0iQsRIiIiDSUTCZTFiE2NjZixyEtZWxsDACIj4+Hvb09u2lRmXGwOhERkYYqGhNiYmIichLSdkX/BjlOicqDhQgREZGGY3csEhv/DVJFsBAhIiIiIqJqx0KEiIiI6DVIJBIcOHCgzMf7+vpi6NChVZaHSFNwsDoREVENJLm8qVqvJ3SYVK7jfX19sXXr1mLbQ0JC4OnpWVmxqkVMTAysrKzEjkGkcViIEBERkSj69euHzZs3q2yzs7Mr1zlkMhkkEgl0dMTr5OHo6CjatYk0GbtmERERkSgMDQ3h6Oio8rV27Vp4e3vD1NQUderUwbRp05CZmal8zpYtW2BpaYmDBw+iUaNGMDQ0RGRkJFxdXbFkyRKMGzcOUqkULi4uOHjwIBISEjBkyBBIpVI0bdoUN27cUJ4rKSkJo0aNgrOzM0xMTODt7Y0dO3aoZOzevTs+/PBDzJ07F9bW1nB0dMTChQtVjnmxa9bTp08xYsQIWFpawtraGkOGDEFERESx+1+5ciWcnJxgY2OD6dOnc8Yp0josRIiIiEht6Ojo4IcffsD9+/exdetWnD59GnPnzlU5Jjs7G8uXL8dvv/2G+/fvw97eHgCwevVqdOrUCQEBARg4cCDGjh2LcePG4d1338WtW7fg4eGBcePGQRAEAEBubi5atWoFPz8/3Lt3D++99x7Gjh2La9euqVxv69atMDU1xdWrV7FixQosXrwYJ06cKDF/QUEB+vbtCzMzM5w/fx4XL16EVCpFv379kJ+frzzuzJkzCA0NxZkzZ7B161Zs2bIFW7ZsqcRXkkj9sWsWERERieLQoUOQSqXKx/3798eePXuUj4taOd5//32sX79eub2goADr169Hs2bNVM43YMAATJ06FQDw1Vdf4eeff0abNm3w9ttvAwDmzZuHDh06IC4uDo6OjnB2dsacOXOUz585cyaOHTuG3bt3o23btsrtTZs2xYIFCwAA9erVw7p163Dq1Cn07t272D3t2rULcrkcv/32m3JK282bN8PS0hL+/v7o06cPAMDKygrr1q2Drq4uGjZsiIEDB+LUqVOYMmVKxV5MIg3EQoSIiIhE0aNHD/z888/Kx6ampjh58iSWLVuGhw8fIj09HYWFhcjNzUV2drZy0TwDAwM0bdq02Pme3+bg4AAA8Pb2LrYtPj4ejo6OkMlkWLp0KXbv3o2oqCjk5+cjLy+v2AKRL17LyckJ8fHxJd7T7du38fjxY5iZmalsz83NRWhoqPJx48aNVVYgd3Jywt27d0s8J1FNxUKEiIiIRGFqaqoyQ1ZERAR8fHzwwQcf4JtvvoG1tTUuXLiASZMmIT8/X1kgGBsbl7iAnr6+vvL7ov0lbZPL5QCA7777DmvXrsWaNWuU41JmzZql0oXqxXMUnafoHC/KzMxEq1atsH379mL7nh+IX55zEtVULESIiIhILdy8eRNyuRyrVq1SzoK1e/fuKrvexYsXMWTIELz77rsAFAXKo0eP0KhRowqfs2XLlti1axfs7e1hbm5eWVGJaiQOViciIiK14OnpiYKCAvz4448ICwvDtm3b8Msvv1TZ9erVq4cTJ07g0qVLCAoKwtSpUxEXF/da5xwzZgxsbW0xZMgQnD9/HuHh4fD398eHH36IZ8+eVVJyopqBhQgRERGphWbNmuH777/H8uXL0aRJE2zfvh3Lli2rsut98cUXaNmyJfr27Yvu3bvD0dHxtVc8NzExwblz51C3bl28+eab8PLywqRJk5Cbm8sWEqIXSISiOeyIiIhIo+Tm5iI8PBxubm4wMjISOw5pMf5bpIpgiwgREREREVU7FiJERERERFTtWIgQEREREVG1YyFCRERERETVjoUIERERERFVOxYiRERERERU7ViIEBERERFRtWMhQkRERERE1Y6FCBERERERVTsWIkRERKS2JBIJDhw48Frn6N69O2bNmlUpeUpS3oy+vr4YOnRoleUh0hR6YgcgIiKiyif5v8vVej3h+w7lfk5sbCyWLVsGPz8/PHv2DBYWFvD09MS7776L8ePHw8TEpFKy7du3D/r6+srHrq6umDVrVqUVJzExMbCysqqUcxFpExYiREREVO3CwsLQqVMnWFpaYunSpfD29oahoSHu3r2LDRs2wNnZGYMHD66Ua1lbW1fKeV6Un58PAwMDODo6Vsn5iWo6ds0iIiKiajdt2jTo6enhxo0bGDFiBLy8vODu7o4hQ4bAz88PgwYNUh6bmJiIYcOGwcTEBPXq1cPBgwdVznXv3j30798fUqkUDg4OGDt2LBITE5X7n++a1b17dzx58gQff/wxJBIJJBIJACApKQmjRo2Cs7MzTExM4O3tjR07dqhcp3v37pgxYwZmzZoFW1tb9O3bF0DxrllPnz7FiBEjYGlpCWtrawwZMgQRERHFXoOVK1fCyckJNjY2mD59OgoKCl7nJSXSOCxEiIiIqFolJSXh+PHjmD59OkxNTUs8pqhAAIBFixZhxIgRuHPnDgYMGIAxY8YgOTkZAJCamoqePXuiRYsWuHHjBo4ePYq4uDiMGDGixPPu27cPtWvXxuLFixETE4OYmBgAQG5uLlq1agU/Pz/cu3cP7733HsaOHYtr166pPH/r1q0wMDDAxYsX8csvvxQ7f0FBAfr27QszMzOcP38eFy9ehFQqRb9+/ZCfn6887syZMwgNDcWZM2ewdetWbNmyBVu2bCnX60ik6ViIEBERUbV6/PgxBEFAgwYNVLbb2tpCKpVCKpVi3rx5yu2+vr4YNWoUPD09sXTpUmRmZioLhHXr1qFFixZYunQpGjZsiBYtWuD333/HmTNn8OjRo2LXtra2hq6uLszMzODo6KjsVuXs7Iw5c+agefPmcHd3x8yZM9GvXz/s3r1b5fn16tXDihUr0KBBg2L5AWDXrl2Qy+X47bff4O3tDS8vL2zevBmRkZHw9/dXHmdlZYV169ahYcOG8PHxwcCBA3Hq1KkKv6ZEmohjRIiIiEgtXLt2DXK5HGPGjEFeXp5ye9OmTZXfm5qawtzcHPHx8QCA27dv48yZM5BKpcXOFxoaivr165fp2jKZDEuXLsXu3bsRFRWF/Px85OXlFRsw36pVq5ee5/bt23j8+DHMzMxUtufm5iI0NFT5uHHjxtDV1VU+dnJywt27d8uUlaimYCFCRERE1crT0xMSiQTBwcEq293d3QEAxsbGKtufn/EKUHTbksvlAIDMzEwMGjQIy5cvL3YdJyenMmf67rvvsHbtWqxZswbe3t4wNTXFrFmzVLpTASi1K1mRzMxMtGrVCtu3by+2z87Orkz3RKQtWIgQERFRtbKxsUHv3r2xbt06zJw585Vv7l+mZcuW2Lt3L1xdXaGnV7a3NQYGBpDJZCrbLl68iCFDhuDdd98FAMjlcjx69AiNGjUqd55du3bB3t4e5ubm5XoukbbhGBEiIiKqduvXr0dhYSFat26NXbt2ISgoCMHBwfjzzz/x8OFDlW5LLzN9+nQkJydj1KhRuH79OkJDQ3Hs2DFMmDChWLFRxNXVFefOnUNUVJRydq169erhxIkTuHTpEoKCgjB16lTExcWV+77GjBkDW1tbDBkyBOfPn0d4eDj8/f3x4Ycf4tmzZ+U+H1FNxhYRIiKiGqgiCwxWJw8PDwQEBGDp0qX47LPP8OzZMxgaGqJRo0aYM2cOpk2bVqbz1KpVCxcvXsS8efPQp08f5OXlwcXFBf369YOOTsmfty5evBhTp06Fh4cH8vLyIAgCvvjiC4SFhaFv374wMTHBe++9h6FDhyItLa1c92ViYoJz585h3rx5ePPNN5GRkQFnZ2e88cYbbCEheoFEEARB7BBERERUfrm5uQgPD4ebmxuMjIzEjkNajP8WqSLYNYuIiIiIiKodCxEiIiIiIqp2LESIiIiIiKjasRAhIiIiIqJqx0KEiIiIiIiqHQsRIiIiIiKqdixEiIiIiIio2rEQISIiIiKiasdChIiIiIiIqh0LESIiIlJLW7ZsgaWlpdgxiKiK6IkdgIiIiCqfZM+ear2e8Pbb5Tre19cXW7duxbJly/Dpp58qtx84cADDhg2DIAgYOXIkBgwYUNlRiUhNsEVEC/n7+2PKlClo1KgRrKysoK+vDxsbG7Rt2xYzZszAyZMnIQiCynO6d+8OiUQCf3//asno6uoKiUSCiIiIarleWUkkEkgkkko5l7+/PyQSCbp3714p5yMi0jRGRkZYvnw5UlJSStxvbGwMe3v7ak5VXEFBgdgRiGokFiJaJDExEX379kWPHj3w22+/IT09HZ06dcKIESPQoUMHxMfH46effkLv3r3RqlUrseOWyNfXFxKJBFu2bBE7ChERvaZevXrB0dERy5YtK3H/i12zQkNDMWTIEDg4OEAqlaJNmzY4efKkcv/8+fPRrl27Yudp1qwZFi9eDAC4fv06evfuDVtbW1hYWKBbt264deuWyvESiQQ///wzBg8eDFNTU3zzzTeQyWSYNGkS3NzcYGxsjAYNGmDt2rUqz/P19cXQoUOxcuVKODk5wcbGBtOnT2chQ1QKFiJaIjU1FZ07d8bx48fRsGFDnD59Gs+ePcOhQ4ewfft2HDp0CBEREbh79y4mTpyI4OBgUfOeOnUKQUFBcHZ2FjXHi4KCghAUFCR2DCKiGkFXVxdLly7Fjz/+iGfPnr3y+MzMTAwYMACnTp1CQEAA+vXrh0GDBiEyMhIAMGbMGFy7dg2hoaHK59y/fx937tzB6NGjAQAZGRkYP348Lly4gCtXrqBevXoYMGAAMjIyVK61cOFCDBs2TPl7US6Xo3bt2tizZw8ePHiAr776CvPnz8fu3btVnnfmzBmEhobizJkz2Lp1K7Zs2cIPz4hKwTEiWmLmzJkIDg6Gu7s7Ll26BCsrqxKPa9KkCTZt2oSpU6dWc0JVHh4eol6/NA0bNhQ7AhFRjTJs2DA0b94cCxYswKZNm156bLNmzdCsWTPl46+//hr79+/HwYMHMWPGDDRu3BjNmjXDX3/9hS+//BIAsH37drRr1w6enp4AgJ49e6qcc8OGDbC0tMTZs2fh4+Oj3D569GhMmDBB5dhFixYpv3dzc8Ply5exe/dujBgxQrndysoK69atg66uLho2bIiBAwfi1KlTmDJlSjlfGaKajy0iWiA0NBR//fUXAGD16tWlFiHPa9u2ban7AgMD8eabb8LW1haGhoZo1KgRVq1aVWxcyfNOnTqFN998E05OTjAwMIC9vT2GDRuGy5cvl3j8i2NEIiIiIJFIsHXrVgDAhAkTlOM1JBIJFi5cqHzutWvXMHfuXLRt2xaOjo4wMDCAg4MDBg0apNKE/7wtW7ZAIpHA19cXycnJmDVrFjw8PGBoaKgyhuNlY0QKCwvx22+/oXv37rC2toahoSHc3NzwwQcf4OnTp6W+NoCi//Hy5cvRuHFjGBsbw8bGBm+++SZbX2oAuVxAclYBnqXmITQxFw9isxHwLAtXIjJw9nEajgen4t/7yfj7dhK230zA71fj8fPFWPx8MRabrsThj+sJ2BmQiL23k/Dv/WQcDUrB6ZA0nA9Lx9UnGbj1LBP3YrIRkZyLtJxCsW+XqEKWL1+OrVu3vvJnXmZmJubMmQMvLy9YWlpCKpUiKChI2SICKFpFin7nCYKAHTt2YMyYMcr9cXFxmDJlCurVqwcLCwuYm5sjMzNT5RwA0Lp162LX/+mnn9CqVSvY2dlBKpViw4YNxZ7XuHFj6OrqKh87OTkhPj6+7C8GkRZhi4gWOHToEORyOaysrFQ+7amIY8eO4fvvv4eHhwd69+6NmJgYXLhwAXPmzMHTp0+xZs2aYs+ZM2cOVq1aBR0dHbRu3RpdunRBZGQk/vnnH/z777/YuHFjsU+dXiSVSpVN6aGhoejUqZPy0y0AaN68ufL7+fPn48yZM2jcuDFatWoFU1NThIaG4tChQzh06BDWrFmDjz76qMTrJCYmonXr1khNTUWXLl3QqlUrGBgYvPJ1ycjIwODBg+Hv7w+pVKr8RXX37l388ssv2LNnD06cOIEWLVoUe25BQQEGDBiAS5cuoWvXrvDy8sK1a9ewf/9+nDlzBgEBAXB1dX1lBqoeBTI5nqbmIza9APGZz31lFCAhqwBJWYVIzlZ8peQUIi1XhpfU6JVOT0cCKxNdWJvoqX4Zqz52NDeAi5Uh6lgawECPn0mRuLp27Yq+ffvis88+g6+vb6nHzZkzBydOnMDKlSvh6ekJY2NjDB8+HPn5+cpjRo0ahXnz5uHWrVvIycnB06dPMXLkSOX+8ePHIykpCWvXroWLiwsMDQ3RoUMHlXMAgKmpqcrjnTt3Kn+fdejQAWZmZvjuu+9w9epVleP09fVVHkskEsjl8vK+JERagYWIFrh58yYAoGXLltDReb03HN9++y1++eUXla5bp0+fRq9evbBu3TrMmTMHtWvXVu7buHEjVq1aBU9PT+zduxdNmzZV7jt37hx8fHzw/vvvo3PnzqhXr16p17W1tcWWLVvg6+uL0NBQTJ48udRfVrNnz8a2bdvg5OSksv3y5cvo168fPvnkEwwfPrzE8Sd+fn544403sG/fPpibm5f1ZcH7778Pf39/+Pj4YNOmTSqzvKxZswYff/wxRo4ciaCgIJVPygDg0qVLaNGiBUJDQ+Ho6AgAyM3NxdChQ3Hs2DEsW7YMv/76a5mz0OuRyQU8S81HeHIuIpLzEJ6c978/FY+j0vIhr8bCorwK5QISMguRkFm21hEdCeBopg8Xa0O4WL3w9b9tUkPdV5+I6DV9++23aN68ORo0aFDqMRcvXoSvry+GDRsGQNFC8uLsirVr10a3bt2wfft25OTkoHfv3io/ky9evIj169crpwV++vQpEhMTX5nv4sWL6NixI6ZNm6bc9vxYFCIqPxYiWqDoB6ydnV2J+2/fvo3Vq1cX2z558mR07txZZdubb75ZbPxIz5490bdvXxw9ehRnzpzB2LFjAQByuVzZZWrnzp0qRQig+ATsyy+/xNy5c/Hrr79i5cqVFbq/F/Xv37/E7R06dMD06dOxbNky/PPPPyq/TIro6+tjw4YN5SpCgoKCsGPHDtSqVQt//fUXzMzMVPbPmjULJ06cwOHDh3HkyJFirVISiQSbN29WFiGAYkrLRYsW4dixY6V2J6PXk5hZgDsx2bgTnY37sdkIS85FeFIenqbmo1CdK41KJheA6PQCRKcX4HJEZonHWBnrwtPWCI0dTdDEyQRNHE3Q2NEYtS0Nqzkt1WTe3t4YM2YMfvjhh1KPqVevHvbt24dBgwZBIpHgyy+/LLG1YcyYMViwYAHy8/OL/X6rV68etm3bhtatWyM9PR2ffPIJjI2NX5mvXr16+OOPP3Ds2DG4ublh27ZtuH79Otzc3Mp/s0QEgIUIQfFpUNHYi+d17969WCEyaNCgEs/h5eWFo0ePIioqSrktICAA0dHR8PDwKHU64KLxF5cuXapg+pIlJSXBz88P9+7dQ0pKinLqxJCQEAAodVawFi1awN3dvVzXOnz4MARBQP/+/YsVIUW6d++Ow4cP49KlS8UKkbp166oMvizi5eUFACqvKZVfXqEcD2JzcDcmG3dishR/RmcjNoPTaZZVSo4M159m4frTLJXtlsa6aOxogsYOxsoCpYmTCeyk+qWciapTeRcYVAeLFy/Grl27St3//fffY+LEiejYsSNsbW0xb948pKenFztu+PDhmDFjBnR1dTF06FCVfZs2bcJ7772Hli1bok6dOli6dCnmzJnzymxTp05FQEAARo4cCYlEglGjRmHatGk4cuRIue+TiBRYiGgBW1tbAEBCQkKJ+318fFQGmvfq1QunTp0q8di6deuWuL2oBSE3N1e5LSwsDICi6fpViwCWlq0iNm7ciI8//hhZWVmlHlPSLy4AFRqLUXSfmzZteuWMLyXd56te07y8vHJn0lY5+TJci8zE5SeZCIzKwp2YbIQk5GpVC0d1Ss2R4WJ4Bi6Gq057aifVQwtnU3RwMUMHVzO0c5HC0pi/bkhVSVPaurq6qvzM8/X1VemG6+rqitOnT6s8Z/r06cXOY2lpqfL76HktWrTA9evXVbYNHz5c5XFJk68YGhpi8+bN2Lx5s8r259dAKemeSho7SUQK/M2gBVq2bIlt27bh1q1bkMvlrzVOpDzPLWoud3R0RN++fV96bFGx9Lpu3ryJqVOnQldXF8uXL8egQYNQt25dmJiYQCKRYMOGDZg6dWqpM3yVpXn+RUX32bx58xJbNp5X0kJbrztuR5tFp+X/741wOi5FZCAwOhsFMhYdYkvILMTx4DQcD04DAEgkgJe9MTq4mqGDixQdXM3g5WD8yg8oiIioZmMhogV8fHwwe/ZspKSk4PDhw689c1ZZ1alTBwBgY2NTbYs57dmzB4IgYObMmZg7d26x/UVdsypT0X126tQJ69atq/Tzk4JcLuBOTDYuRWQoP4V/ksLWIk0gCMCDuBw8iMvBpquKaUwtjXXRtq5U2WrSyc2Mg+KJiLQMCxEt4OnpiZEjR2LHjh34v//7P3Tp0gUWFhZVft02bdrA1tYWDx48wP3799G4cePXPmfRVLqFhSXPCJScnAwAcHFxKbYvNzcXe/fufe0ML+rfvz8+//xzHDx4ECtXroSRkVGlX0NbPYzLwdGHqTgWnIqL4RnIyJOJHYkqSWqOTKXVRF9Xgg4uUvRpYIk+DSzRqrYpdHTYYkJEVJOxT4iW+Omnn+Dp6YmQkBB07NgRZ8+eLfG4iIgIPHv2rFKuqa+vjwULFkAQBAwbNgwXLlwodoxMJsPp06dx5cqVMp2zaGrg+/fvl7i/aID31q1bkZHxX7/13NxcTJs2DeHh4eW9jVdq0aIF3nrrLTx9+hRvvvlmsakkASArKwvbt29HXFxcpV+/JsnIleHA3WS8vycMbktuwWt5ID7+JwJHH6ayCKnhCmQCzoVl4IsjT9F2zV3YL7iBd/54hN+vxuNZKlu+iIhqIraIaAkrKytcvHgRo0ePxqlTp9C9e3fUrl0bzZs3h6WlJXJychASEoK7d+9CEAR4e3uXuKpsec2YMQORkZH47rvv0KVLFzRu3Fi5CFVsbCwCAwORmpqKn3/+Ge3bt3/l+YYOHYpFixbhhx9+wL1791CnTh3o6Ohg8ODBGDx4MCZMmIC1a9ciICAAbm5u6NKlC3R1dXH+/Hnk5OTgo48+wtq1a1/7vl60efNmpKam4siRI2jQoAGaNWsGNzc3CIKAiIgI3L59G/n5+QgKCoKDg0OlX1+T3Y7KwtGHqTj6MBUXIzI4xoMAAElZhdgVmIRdgUkAAC8HY/RtYIk+DSzQzcMcJgbsxkVEpOlYiGgRe3t7nDx5EqdOncJff/2Fixcv4ty5c8jOzoaZmRnc3Nzw3nvvYfjw4ejZs2elDaJesWIFhg4divXr1+PChQs4evQoDAwM4OTkhO7du8PHxwdvvvlmmc7VtGlT7N27FytXrsTVq1dx6tQpCIKA2rVrY/DgwbC0tMSNGzewYMECHDt2DEeOHIGNjQ369OmDBQsWlNgqUxnMzMxw/Phx7Nq1C3/++Sdu3ryJwMBAmJubw8nJCWPGjMHgwYPh4eFRJdfXJHmFchwJSsXB+8k4+jAVMemcRpdeLSguB0FxOVhzLgaGehL0qm+BN71tMKSJFWxMOV0wEZEmkgilTR9ERFRJ8grlOPYwFbsDk/DvgxSk57KbFVUOXR2gq7s53vS2xpvNrFHLXLsWWczNzUV4eDjc3Nw4Po1ExX+LVBFsESGiKpFfKMfx4DTsvp2Ig/dSkMbig6qATA6ceZyOM4/T8VdmMCR1MjDCxg1v27ihloGp2PGIiOglWIgQUaUpkCmKjz23k/DPvWSk5rD4oOphoq+DQPNI5GQU4FJGPD6OuIpOZg4YbeuBd2zdYaWnXS0lRESagLNmEdFruxSegcm7QuHw1Q34/PYQW68nsAihauXtoY8cnf/GGwkALmTEYVr4JTjd2IERj07DLyUSMkEuXkhSG927d8esWbNEu76rq2uVrLi+ZcsWWFpaVvp5iaoKW0SIqEISMwvwx40EbLoajwdxOWLHIS2nUzuj1H15ggx7ksKxJykcjvrGGGPrAV/7emhiYl2NCauf5Onqar2eUOfjch2fkJCAr776Cn5+foiLi4OVlRWaNWuGr776Cp06daqilBXj7++PHj16ICUlpcxv9Bs2bIjw8HA8efIEjo6OVRuQSEOxECGiMhMEAScepeG3K/H4514y8jnVLqkBIz0J7phHlunY2IIcrIq5h1Ux99DS1Aa+dvUwxtYT1vrsulXd3nrrLeTn52Pr1q1wd3dHXFwcTp06haSkJLGjvbYLFy4gJycHw4cPx9atWzFv3jyxIxGpJXbNIqJXikrNw9fHn8H9mwD0/TUIe24nsQghtdHU3QBZuvnlft6trCR8GHEFzjd3YMLjc7iRmVAF6agkqampOH/+PJYvX44ePXrAxcUFbdu2xWeffYbBgwcrj/v+++/h7e0NU1NT1KlTB9OmTUNmZqZyf1JSEkaNGgVnZ2eYmJjA29sbO3bsULlWVlYWxo0bB6lUCicnJ6xatapYnm3btqF169YwMzODo6MjRo8ejfj4eACKhX579OgBQLEml0Qiga+v70vvb9OmTRg9ejTGjh2L33//vcRjMjIyMGrUKJiamsLZ2Rk//fSTyv5X3Tug6IpVt25dmJiYYNiwYTWiiCPtwkKEiEokkws4cDcZAzcGwWXJLXx19CkikrnCNakfvTqZrz7oJXIFGbYkhKDN3YNod/cg/kgIQZ6cY5yqklQqhVQqxYEDB5CXV/rPFR0dHfzwww+4f/8+tm7ditOnT2Pu3LnK/bm5uWjVqhX8/Pxw7949vPfeexg7diyuXbumPOaTTz7B2bNn8c8//+D48ePw9/fHrVu3VK5TUFCAr7/+Grdv38aBAwcQERGhLDbq1KmDvXv3AgCCg4MRExPz0oVxMzIysGfPHrz77rvo3bs30tLScP78+WLHfffdd2jWrBkCAgLw6aef4qOPPsKJEyfKfO9Xr17FpEmTMGPGDAQGBqJHjx5YsmRJqbmI1BHXESEiFZl5Mmy6Go8152JYeJDaM9CVwHDoY2ToVO6/VVs9I0yyr4/3HRrC1cisUs9dmV62doO6jxHZu3cvpkyZgpycHLRs2RLdunXDO++8g6ZNm5b6nL///hvvv/8+EhMTSz3Gx8cHDRs2xMqVK5GZmQkbGxv8+eefePvttwEAycnJqF27Nt57771SB4zfuHEDbdq0QUZGBqRSabnGiGzcuBHr169HQEAAAGDWrFlITU3Fli1blMe4urrCy8sLR44cUW575513kJ6ejsOHD5fp3kePHo20tDT4+fmpnOPo0aNITU19acaqwHVEqCLYIkJEABTdr+b9+wR1Ft/ErAMRLEJIIzR1N6j0IgQAEgtzsTz6DjwC9mDwwxM4lRZd6dfQdm+99Raio6Nx8OBB9OvXD/7+/mjZsqXKG/aTJ0/ijTfegLOzM8zMzDB27FgkJSUhOzsbACCTyfD111/D29sb1tbWkEqlOHbsGCIjFWOGQkNDkZ+fj3bt2inPaW1tjQYNGqhkuXnzJgYNGoS6devCzMwM3bp1AwDlecrj999/x7vvvqt8/O6772LPnj3IyFCdUKFDhw7FHgcFBZX53oOCglTuq6RzEqk7FiJEWi4wKgtjt4fA7ZsArDgTzWl3SaMY1smq0vPLIeDflEj0enAEbe78gz1J4ZCzI0GlMTIyQu/evfHll1/i0qVL8PX1xYIFCwAoxmb4+PigadOm2Lt3L27evKkcR5GfrxgT9N1332Ht2rWYN28ezpw5g8DAQPTt21e5vyyysrLQt29fmJubY/v27bh+/Tr279+vcp2yevDgAa5cuYK5c+dCT08Penp6aN++PbKzs7Fz584yn6cs905UE3DWLCItJAgCjgSlYtXZaJwOSRc7DlGF6OtKcM+y/J9YV9SNrESMeHQankbmmFPLG7529WCoo1tt19cGjRo1woEDBwAoWinkcjlWrVoFHR3F56a7d+9WOf7ixYsYMmSIsgVCLpfj0aNHaNSoEQDAw8MD+vr6uHr1KurWrQsASElJwaNHj5StHg8fPkRSUhK+/fZb1KlTB4Cia9bzDAwMAChaYF5m06ZN6Nq1a7GB55s3b8amTZswZcoU5bYrV66oHHPlyhV4eXmV+d69vLxw9erVYucg0iRsESHSIvmFcmy6EocmK25j4G8PWYSQRmvqaog03dxqv+7j3HS8H3YRLrd2YVnUbaQV8hPq8kpKSkLPnj3x559/4s6dOwgPD8eePXuwYsUKDBkyBADg6emJgoIC/PjjjwgLC8O2bdvwyy+/qJynXr16OHHiBC5duoSgoCBMnToVcXFxyv1SqRSTJk3CJ598gtOnT+PevXvw9fVVvrkHgLp168LAwEB5nYMHD+Lrr79WuY6LiwskEgkOHTqEhISEYrNXAYoB79u2bcOoUaPQpEkTla/Jkyfj6tWruH//vvL4ixcvYsWKFXj06BF++ukn7NmzBx999FGZ7/3DDz/E0aNHsXLlSoSEhGDdunU4evRoBf9GiMTBwepEWiC/UI5NV+Ox7FQUnqbyTRPVDJ17yHDBNljsGDDT1cdU+4aYU8sbDgbG1XptTR0gnJeXh4ULF+L48eMIDQ1FQUEB6tSpg7fffhvz58+HsbHidVy9ejW+++47pKamomvXrhgzZgzGjRunHDSenJyMiRMn4tSpUzAxMcF7772HyMhIpKWlKVtWMjMz8cEHH2Dfvn0wMzPD7Nmz4efnh+bNmysHq+/YsQPz589HTEwMWrZsqZxGOCAgAM2bNwcAfP3111i/fj3i4uIwbtw4lbEsgGLw/YgRIxAdHQ0HB4di99yoUSP069cP33//PVxdXTFx4kTcu3cPfn5+MDc3x2effYYPP/xQefyr7h1QjEdZsGABkpKS0KtXL3Tr1g1ff/01B6uTxmAhQlSDsQChmkpPRwKzoWFI0c0RO4qSiY4eZjh6YW6tprDRr543YnzzR+qC/xapIjhGhKgGKpDJ8fvVBHxz8hkLEKqRvF0MEaBGRQgAZMsLsSL6Ln6Oe4hZjo0xu5Y3LPQMxI5FRKS2WIgQ1SByuYA/byZi0fGnCEvi9LtUc5nWzRY7QqkyZAX4OioQ62IfYHYtb3zk1BhSXX2xYxERqR0WIkQ1gCAI2HcnGV8dfYoHcer1KTFRZdPVAR7aVN9sWRWVIsvHF09vYk3MfcxzborpDl4w1uWvXSKiIpw1i0jDnX2chjar72L41kcsQkgreNc1RKKu+raIvCixMBefPLkGz4A92BL/CByaSUSkwEKESEOFJ+Vi+JZgdF//ADefVe2ibkTqxKxu9U/ZWxmiC7IxIfQ8Wt/9B2fTYsSOQ0QkOrYRE2mYzDwZlp6Mwvdno5FXyE9WSbvoSIBgm2dix3gtt7KS0P3BYQy1csF3Lm3haWwudiQiIlGwECHSEIIg4I8bCfjMLxIx6QVixyESRZM6hrijlyF2jEpxIOUJDqc+xXRHL3xVuwUs9QzFjkREVK3YNYtIA1wKz0C7NXfhuyOURQhpNUuXmjUbXL4gx+qY+/AM2IMfY+6jUJCLHYmIqNqwECFSY09T8jB62yN0+vEerj/lOBDSbhIJ8MhWs7tllSapMA8fRlxB6zv/4EpGvNhxiIiqBQsRIjVUIJPjmxPP0HB5IHYEJIkdh0gtNK5tiFi9dLFjVKnb2cnoeO9fTA29gJTCmtX6UxESiQQHDhx4rXP4+vpi6NChlZLnRQsXLkTz5s2r5Nyv4u/vD4lEgtTU1Eo/d0REBCQSCQIDAyv93ETP4xgRIjVz9UkGJu8Kxb1YTsVL9DzrGtYtqzQCgA3xwTiQ8gQrXdpirF29Cp1HgkWVG+wVBCwo1/EJCQn46quv4Ofnh7i4OFhZWaFZs2b46quv0KlTpypKqRkCAgLw7bff4ty5c0hOToajoyO8vb0xdepU+Pj4QCKRiB2RqFKwECFSE1l5Mnx+OBI/XoiFnJNhERXzuIZ2yypNfEEuxj0+h83xIfjZvSMaGFuKHalSvfXWW8jPz8fWrVvh7u6OuLg4nDp1CklJ4rcC5+fnw8DAQJRr//PPPxgxYgR69eqFrVu3wtPTE3l5ebh06RK++OILdOnSBZaWllV2/fz8/Co7N9GL2DWLSA0ce5iKxituY+15FiFEJWnkbIho/ZrdLas0Z9Jj0PT2fnwZeRO58kKx41SK1NRUnD9/HsuXL0ePHj3g4uKCtm3b4rPPPsPgwYNVjk1MTMSwYcNgYmKCevXq4eDBg8p9MpkMkyZNgpubG4yNjdGgQQOsXbu2xGuuXLkSTk5OsLGxwfTp01FQ8N/EH66urvj6668xbtw4mJub47333gMAzJs3D/Xr14eJiQnc3d3x5ZdfqjzvRaGhoXB3d8eMGTMgCALy8vIwZ84cODs7w9TUFO3atYO/v3+pz8/KysKkSZMwcOBA+Pn5oU+fPnB3d4eXlxcmTZqE27dvw8LCQuU5N2/eROvWrWFiYoKOHTsiODhYJc+QIUPg4OAAqVSKNm3a4OTJkyrPL+3eAeDhw4fo2LEjjIyM0KRJE5w9e7bU7EQVwUKESERJWQUYuz0E/TYE4UmKdnQ7IaoIW1ft/pQ2X5BjSVQgWt75B9cyEsSO89qkUimkUikOHDiAvLyX/+xbtGgRRowYgTt37mDAgAEYM2YMkpOTAQByuRy1a9fGnj178ODBA3z11VeYP38+du/erXKOM2fOIDQ0FGfOnMHWrVuxZcsWbNmyReWYlStXolmzZggICMCXX34JADAzM8OWLVvw4MEDrF27Fhs3bsTq1atLzHnnzh107twZo0ePxrp16yCRSDBjxgxcvnwZO3fuxJ07d/D222+jX79+CAkJKfEcx48fR1JSEubOnVvq6/Fit6zPP/8cq1atwo0bN6Cnp4eJEycq92VmZmLAgAE4deoUAgIC0K9fPwwaNAiRkZGvvHcA+OSTTzB79mwEBASgQ4cOGDRokFq0WFHNIREEgZ+/Eongr5sJmPVPBBIya8YnnERVqc6QaDw1SBU7hlrQhQSf1PLGojotIc8vQHh4ONzc3GBkZKRynLqPEdm7dy+mTJmCnJwctGzZEt26dcM777yDpk2bKo+RSCT44osv8PXXXwNQtBhIpVIcOXIE/fr1K/G8M2bMQGxsLP7++28AisHq/v7+CA0Nha6uLgBgxIgR0NHRwc6dOwEoWgVatGiB/fv3vzTzypUrsXPnTty4cQOAYrD6gQMHsH79evj4+ODzzz/H7NmzAQCRkZFwd3dHZGQkatWqpTxHr1690LZtWyxdurTY+ZcvX45PP/0UycnJsLKyAgBcv34dPXr0UB6zc+dO+Pj4wN/fHz169MDJkyfxxhtvAAAOHz6MgQMHIicnp9i/hyJNmjTB+++/jxkzZpR67xEREXBzc8O3336LefPmAQAKCwvh5uaGmTNnllgo5ebmlvpvkag0bBEhqmaRKXkYuDEIY7Y/ZhFCVAYNnAxZhDxHBgHfRt9Bqzv/4H5WithxKuytt95CdHQ0Dh48iH79+sHf3x8tW7Ys1lLxfGFiamoKc3NzxMf/N8XxTz/9hFatWsHOzg5SqRQbNmwo9ol/48aNlUUIADg5OamcAwBat25dLOOuXbvQqVMnODo6QiqV4osvvih27sjISPTu3RtfffWVsggBgLt370Imk6F+/frKFiCpVIqzZ88iNDS0zK9T06ZNERgYiMDAQGRlZaGwsLDY/ufvC4Dy3jIzMzFnzhx4eXnB0tISUqkUQUFBxe6hpHsHgA4dOii/19PTQ+vWrREUFFTm7ESvwkKEqBr9eSMB3t/dxuGgVLGjEGkMRzcu4lmSezkpGBlyGqmF+ZBraOcGIyMj9O7dG19++SUuXboEX19fLFig2rKir6+v8lgikUAuVyz8uHPnTsyZMweTJk3C8ePHERgYiAkTJhQbcP2ycxQxNTVVeXz58mWMGTMGAwYMwKFDhxAQEIDPP/+82Lnt7OzQtm1b7NixA+np/41jyszMhK6uLm7evKksJAIDAxEUFFTqOJZ69RQzpD0/zsPQ0BCenp7w9PQs8TnP31tRt62ie5szZw7279+PpUuX4vz58wgMDIS3t3exe3jx3omqCwsRomqQnluIMX+GYOxfj5GeKxM7DpFGibCLFjuC2ioUBKTJ8hGam45smea3sDZq1AhZWWVfvPXixYvo2LEjpk2bhhYtWsDT07NcrQ0vc+nSJbi4uODzzz9H69atUa9ePTx58qTYccbGxjh06BCMjIzQt29fZGRkAABatGgBmUyG+Ph4ZSFR9OXo6FjiNfv06QNra2ssX768Uu7h4sWL8PX1xbBhw+Dt7Q1HR0dERESU+flXrlxRfl9YWIibN2/Cy8urUrIRASxEiKrcxfB0NFt5B3/dShQ7CpHGqedggCcGyWLHUHt5chmCclIRk58NTRj6mZSUhJ49e+LPP//EnTt3EB4ejj179mDFihUYMmRImc9Tr1493LhxA8eOHcOjR4/w5Zdf4vr165WSsV69eoiMjMTOnTsRGhqKH374odQxJKampvDz84Oenh769++PzMxM1K9fH2PGjMG4ceOwb98+hIeH49q1a1i2bBn8/PxKPI9UKsVvv/0GPz8/DBw4EMeOHUNYWBju3LmDFStWAIBKF7Oy3MO+ffsQGBiI27dvY/To0cVagl7mp59+wv79+/Hw4UNMnz4dKSkpKoPhiV4X1xEhqiIyuYDFx5/hm5PPICv7z30iek4tNxlKnl+IXiRAQFR+FjJkBXAzNIOgU77B49VJKpWiXbt2WL16NUJDQ1FQUIA6depgypQpmD9/fpnPM3XqVAQEBGDkyJGQSCQYNWoUpk2bhiNHjrx2xsGDB+Pjjz/GjBkzkJeXh4EDB+LLL7/EwoULS72nI0eOoG/fvhg4cCAOHz6MzZs3Y8mSJZg9ezaioqJga2uL9u3bw8fHp9TrDhs2DJcuXcLy5csxbtw4JCcnw8LCAq1bt1YOVC+r77//HhMnTkTHjh1ha2uLefPmqXQfe5Vvv/0W3377LQIDA+Hp6YmDBw/C1ta2zM8nehXOmkVUBcKScvHu9hBcjsgUOwqRRnMfHI8wQ7YmlsYFhvjFuAFs6zgDhv+NFdCT6MDN0AwWeuIsykfah7NmUUWwRYSokm27kYDpe8ORkcexIESvw8PeAKEsQiqkUJAjJDcNDvomcDYwgc4La08QEakDFiJElSQtpxAf/B2GHQFc7ImoMtR2k6Fyhh1rr7iCbGTKCuBmZAYjnbKPLSAiqg4sRIgqwZ3oLLy5ORihSVwdnaiyRNnHih2hRsiSFyAoJwV1DaSw0WeXGSJSHyxEiF7TjluJmLw7FNn5HJFOVFncbA3w2ChB7Bg1hkwQEJ6XgSx5IWobmLKrFhGpBU7fS1RBhTIBHx+IwOg/Q1iEEFWyuu78P1UWAhSzZSm+e7X4ghw8yk1DgZxj2Khyce4jqgi2iBBVQHxGAUb88QhnQ8s+DSIRlV0Mu2WVSRIKkC+XA7n5gGHZZsjKlBXgQU4qPIzMIdXVf/UTiMogOzsbQPFV7IlehoUIUTlde5KBt7Y+wrPUfLGjENVIda0N8Mg4XuwYGiELchwsSMSoRH1YAoCRAYBXd7sqABCcmwhHA2OOG6HXIggCsrOzER8fD0tLy3ItuEjEQoSoHDZejsPM/eHIK2QTNFFVcfOQI1LsEBpkszwOyAUGxxXAQEcHkjIUIkUSAEh19GCtZwgJx43Qa7C0tISjo6PYMUjDcEFDojLIL5Rjxr5wbLzCT2mJqpqXTzKCjNk1q7xMoANb6JejDPlPExMr/OjWHk4GppWei2o+fX19toRQhbAQIXqF2PR8DP09GFcjuUo6UVVzttRHVO/bYsfQSo76xjjYsDfaSO3EjkJEWoKzZhG9xIPYbLRfe49FCFE18fQUO4H2ii3IQff7h7EvKULsKESkJViIEJXC/3EaOv14D09SuEghUXVJcGD3RzFlywvx9qPTWBl9V+woRKQFWIgQlWD7zQT0/TUIqTmca5+outSy0McD4xixY2g9OQR88uQa3g+7iEKB67kQUdVhIUL0gm9OPMPYvx4jX8bhU0TVydMTZZl5lqrJr3EPMTDoONILOVU5EVUNFiJE/1MoE/De7lB8ceQpOIUDUfVLcUgUOwK94HhaFDrdO4TIPI6TI6LKx1mziABk5snw9tZHOPowVewoRFrJ0VwPsX3usEVETTnpm+CYV194m1qLHYWIahC2iJDWi0nPR9d191mEEImonocOixA1FlOQjW73/XA5I07sKERUg7AQIa32MC4H7dfeRUBUlthRiLRauhO7Zam7FFk+ej84iuOpz8SOQkQ1BAsR0lp3orPQ7af7iEzhQEwiMdlK9XDHJErsGFQGWfJCDHp4ArsTw8SOQkQ1AAsR0ko3n2aix/oHiM8sEDsKkdbz8tCBIOFwRU2RL8gxKsQfG+Ieih2FiDQcCxHSOpcjMvDGzw+QnF0odhQiApBZK1nsCFROcgiYGnYRy6Juix2FiDQYCxHSKmcfp6HPrw+QlsuFConUgY2pHm6bPhU7BlXQ/MgbmPvkmtgxiEhDsRAhrXEiOBX9Nz5EZh5XCiZSF14eOpCzW5ZG+y76LmZHXBU7BhFpID2xAxBVh0P3UzB8azDyCvmGh0idZNdKETsCVYLvY+5BAmClazuxoxCRBmGLCNV4f99OwptbWIQQqRsrE13clkaKHYMqyaqYe/gkgt20iKjsWIhQjbb9ZgLe2fYIBTIWIUTqppGHHmTsllWjrIy5y2KEiMqMhQjVWLsDEzHur8eQcUgIkVrKY7esGmllzF0OYCeiMmEhQjXSkaAUvLv9MeT8sJVILZkbsVtWTfZd9F3MYzFCRK/AQoRqnPNh6XhrC7tjEamzJh56KNBhc2VNtiL6LuZH3hA7BhGpMRYiVKPcepYJn98eIqeAb3CI1FmBc6rYEagaLIu6jZXRd8WOQURqioUI1RhBcdno+2sQ0rlYIZFaMzPUwR0zLmKoLT55cg2b4x+JHaNMXF1dIZFIXvq1Zs0asWOqNX9/f0gkEnTv3r1Szrdw4UJIJBIsXLiwUs5H6oXriFCNEJGci96/BCExq1DsKET0Ck089HFZh/9XtcmU0Auw1jPEEGsXsaOUSadOneDp6VnivkaNGlVzGqKai4UIabzY9Hz0+vkBotLyxY5CRGUgd04XOwJVMxkEvPPoDI549UV3Cyex47zS5MmT4evrK3YMjdS2bVsEBQXBxMRE7CikAdg1izRaclYBev/yAKFJeWJHIaIyMDXQwW3zJ2LHIBHkCjIMCT6BW5mJYkehKmRiYoKGDRuibt26YkchDcBChDRWZp4M/Tc+xL3YHLGjEFEZebvrI5fdsrRWuqwA/YKO4VFOmthRXsu+ffswefJkNGnSBFZWVjAyMoKbmxsmTpyI4ODgEp/j6+sLiUSCLVu24N69exg5ciScnJygq6urHP/QvXt3SCQS+Pv748qVKxg4cCBsbGxgZmaGbt264fz588rzHT16FG+88QasrKwglUrRu3dv3Lp1q8Rrnzx5EjNnzkTz5s1ha2sLQ0ND1K5dGyNHjsT169dLfM7zYzMSEhIwffp01KlTBwYGBqhTpw5mzpyJ1NTUYs971RiRlJQULFiwAM2bN4eZmRlMTEzg7e2NJUuWIDs7u/QXHShXDtIMLERII8nkAkZsfYRrkZliRyGi8qidIXYCEllCYS76BB1FdH6W2FEqbMSIEdixYweMjY3Rs2dP9O3bFzo6Oti8eTNatWqFS5culfrcS5cuoXXr1rh27Rq6du2KgQMHwszMTOUYPz8/dOnSBTExMejduzc8PT1x7tw59O7dG5cuXcJPP/2EgQMHIjc3F3369IGzszNOnjyJbt264fHjx8Wu+f7772PDhg3Q0dFBp06d4OPjAwsLC+zevRsdO3bE3r17S8379OlTtGzZEnv37kXbtm3Ru3dvZGRkYN26dejTpw8KCgrK/Lo9ePAAzZo1w+LFixEfH4/OnTujV69eSEhIwJdffolOnTohLa3kIrUyc5D64BgR0kgz94XjyMNUsWMQUTkY6+vgjgW7ZRHwJC8Tgx+exLnGA2Giq3lvRbZv3w4fHx+YmpoqtwmCgJ9//hnTp0/He++9h7t370IikRR77saNG/Hpp5/im2++gY5OyZ8Hr1q1Cn/88Qfeffdd5bbZs2fj+++/x8SJExEVFYXjx4/jjTfeAADIZDKMHDkSe/fuxfLly7Fx40aV861cuRLdunWDlZWVyvYDBw7g7bffxtSpUzFgwAAYGxsXy/L777/D19cXv/zyCwwNDQEoioIOHTrg+vXr+PvvvzFq1KhXvmY5OTkYPHgwnj59ii+++AJffvklDAwMAADZ2dmYPHkyduzYgY8//hi///57leUg9cIWEdI4K89E4+dLcWLHIKJyauquj2wdfmpJCjezEjEmxB9yQf0Wn50wYUKJU/cWdTcaOXKkShECABKJBNOmTUOHDh1w//59BAUFlXju+vXrY8mSJaUWIQAwfPhwlSIEAD7//HMAQHBwMD744ANlEQIAurq6mD9/PgDg1KlTxc43dOjQYkVI0fa3334bSUlJOHPmTIlZateujZ9++kn55h+AsksUoOj2VRZbt25FaGgofHx88PXXXyuLEEAxrmTDhg2wt7fHtm3bkJKSUmU5SL1o3scQpNX23k7C3EP8RJVIE+mwWxa94EDKE8x7ch3fubYVO4qK0qbvbdiwofL7x48f4+jRo3j8+DEyMjIgkynWsIqLU3xQFhwcXOJUv0OHDoWuru5Lrz9gwIBi26ytrWFjY4OkpKQS99erVw8AEB0dXeI5o6Oj4efnh4cPHyItLQ2FhYqxWvfv31fmLem8b7zxRokzYHl5eQEAoqKiXnovRfz8/AAoiriSSKVStG7dGocPH8b169fRp0+fKslB6oWFCGmMa08yMPavx1DDD8+I6BUM9SS4axkpdgxSQytj7qK+sTmmODR89cHV5GXT98pkMsyYMQO//vorhJf8QkpPL3maaldX11dev7QZp6RSKZKSkkrcXzTOJC+v+CySixYtwjfffPPScRSl5S0ti7m5OQAgNze31HM+LywsDAAwduxYjB079qXHJiQkVFkOUi8sREgjPEvNw5Dfg5FTIBc7ChFVQFM3A1zX4Vo/VLJp4ZfgbmSONyxqiR3lldauXYtffvkFjo6O+P7779GxY0c4ODjAyMgIADB69Gjs2LGj1CKlpHEYL3pZt62y7H/evn37sHDhQkilUqxbtw49e/ZErVq1YGxsDIlEgvnz52PZsmWl5i3PtV5GLlf8/u7Xrx8cHBxeeqyLS/GFLysrB6kXFiKk9rLyZBi06SFiM9i3nEhT6dfR3BmSqOoVCgKGB5/CpSaD4GViKXacl9q9ezcA4Ndff8XgwYOL7Q8JCanuSC9VlPebb77Be++9V2x/deWtU6cOHj58iEmTJmH48OHVck1SfywvSa0JgoCxfz1GYNTL5xYnIvVloCvBPXbLoldIleVj4MPjSChQ77WhkpOTAZT8qf39+/cRGBhYzYle7mV54+PjceLEiWrJ0b9/fwD/FUZEAAsRUnOfH36K/XeTxY5BRK+hqZsh0nXZf5teLTwvA28/Oo1CQX274RYNjv7pp5+U3Y0AICYmBuPGjVMOAlcXRXk3bNiA/Pz/ukempaVh/Pjxpa7bUdnee+89uLi4YM+ePZg3bx4yMopPXhEbG1ts6mGq2ViIkNraE5iEZac4CwaRpjOsw4VHqezOpsdi3pOSV/tWB/Pnz4eBgQE2btyIBg0aYOTIkejfvz88PDyQl5eHYcOGiR1RxaxZs2BpaYnDhw/D3d0dw4cPx5AhQ+Di4oLbt29j4sSJ1ZLD1NQUfn5+cHV1xYoVK1C3bl1069YNY8aMwbBhw9C4cWPUqlULX375ZbXkIfXAQoTUUnB8DibtChU7BhG9Jn1dCe5ZsVsWlc/3MfewKzFM7BglateuHW7cuIHBgwcjKysLBw8eRGhoKGbOnInLly8rZ3FSF25ubggICMCYMWOgq6uLQ4cO4fbt2xg1ahQCAgJQp06dasvSuHFj3LlzBytWrICXlxfu3LmDPXv24OrVqzA1NcWcOXOwf//+astD4pMIL5t7jkgE2fkytFtzF/di1bufMBG9Wkt3I9xqdUvsGKSBTHX0cNV7MBqbFF+Ij4hqBraIkNqZuieMRQhRDWFSl7NlUcVkyQsxLPgk0go57TNRTcVChNTKr5fi8OfNRLFjEFEl0NUBHlg/FTsGabCQ3HSMe3z2pQsHEpHmYiFCauPm00x8dCBc7BhEVEmauhghWZdTb9PrOZgSiW+iAsWOQURVgIUIqYWU7EIM3/oIeYX81IuoppDWZRFClWPB0wAcT30mdgwiqmQsREh0ikULQxCRnCd2FCKqJDoSIIjdsqiSyCFg7OOziM1ncUtUk7AQIdEtOxUFvwepYscgokrkXdcQiXocqE6VJ74gF+8+Pgs5x4sQ1RgsREhUZ0LS8NVRfmpKVNOYu7CFkyrfqbRofBt1W+wYRFRJWIiQaFKyCzH2r8eQycVOQkSVSSIBHrFbFlWRBc9u4XJGnNgxiKgSsBAh0UzfG4aoNM4PT1TTNKltiDj9DLFjUA1VKAgYE3IW6VxfhEjjsRAhUewKSMSOgCSxYxBRFbByZbcsqlrheRmYHn5J7BhE9JpYiFC1i07Lxwd/h4kdg4iqgEQChNhwmlWqen8mhuKvhFCxYxDRa9ATOwBpF0EQMGHnY6TkyMSOQhUlKwSiAoGIK8CzW0DqM6AgBzCyABwbAd5DAPdOxZ93+Tfgyu8vP/f4vwBrV9Vt8kLF8+4fBnJSAMs6QPuJQP2eJZ8j/hGwYxLQaCDQ+9OK3CG9hkbOhrivny52DNIS08IvobO5A+oaSsWOQkQVwEKEqtX6i3E4Hpwmdgx6Hc8CgH0fKb43sQFqNQX0jYGkcCDsguLLewjwxlzFx+Mvsqun+CqJQQlvJi78DNzcAVjUAtw6Ak9vAX5fAFhSvBiRy4CT3wJGlkCX6a9zl1RBNq7st0/VJ02WjymhF3CsUT+xoxBRBbAQoWrzKD4Hcw89ETsGvS6JBPDsDrQYAdRurrov+CRwZBFw9x9FgdKof/Hne3QBOkwu27Wyk4HAvwFrN2D0JkDfCEiOALaNA65sKl6IBO4B4h4CA5cARmYVuDl6XaG27JZF1et4WhQ2xj3EFIeGYkchonLiGBGqFoUyAWP/eozsfM7Vq/HqtgYGLS1ehABAg15A4wGK7x8cef1rJYYBsgLAq4+iCAEUXbdqt1C0wOQ9t2BeeixwaSPg1qn0bltUpbxqGSJKny2eVP3mPLmGp3mZYscgonJiIULV4puTz3Atkr8ktIJdfcWfmfGvf66c/72pNTRX3W70v8cF2f9tO70KgAR4Y87rX5cqxN61QOwIpKXSZQWYHHpB7BhEVE7smkVV7sbTTCw5ESV2DKouqf9byM7UpuT98Y+A8+uB3HTAUArY11cMbjcwLX6shZPiz+QI1e3JTwBdfcDYUvE4+BQQfhHoPgswc6iEm6CKCLfj/3MSz/G0KPwWF4zJDg3EjkJEZcRChKpUoUzA5F2hKJQLYkeh6pCVBDw4rPjes3vJxxQNaH+eoRTo/nHxMSV29QBzR+CBH+DeEXBsAtw7CCQ+Btw7K4qR3AzAf41ixq7mwyv7jqiM6jsa4pFBitgxSMvNfnIVfS2dUYezaBFpBBYiVKXWno/B7ejsVx9Imk9eqBionpcJ2HoATYeq7rdwBjq9D7i2VxQXAJAUAVzfpmjNOPY1INEBvPr+9xxdfaD7/wGHPgP2ffzfdlNboNv/Zu66sB7ITQXeWqN4fpGC3P/GlVCVc3IrwCOxQ5DWS5cVYEroBRzlLFpEGkEiCAI/qqYqEZmSh0bLA5HFAera4cQy4N6/ivVE3vkVsKpb9uee+V4xO5axJTDlH0UB8rzEMCD4OJCdqjhvEx/FOJGo28DuaUCbsUDn9xXT9175HbizH8hJVXT38uoLdJnBoqSKuQ2OQ7hhktgxiAAAmzy6YKJ9fbFjENErsEWEqszMfeEsQrTFmdWKIsTQTNEyUZ4iBFBM53v7f8VDzP3iM3LZugO276tukxUAJ5cDls5A+wmKbefXAbd2AU0GAe5dFIXKzb+ArGTFTF9UJTztDfCYRQipkblPrmGIVV3Y8AMIIrXGWbOoShy4m4yD99lfXCuc/UGxfoehGfDmGsC+AgNFjcwBEyvF92WdbevaH4pB7G/MBfQMgfws4PY+wMkb6P0Z4NEZ6DpdMZXvY38gJbL8uahMnN1lYkcgUpFUmId5kdfFjkFEr8BChCpdZp4MM/eHix2DqsO5n4BbOxWDzd9cDTh6Vew8cplibAlQ8uxZL0p+ohhb0miAYl0TQDHeRFYA1PJWPda5meLP+JCKZaNXemofI3YEomJ+j3+ESxlxYscgopdgIUKV7ssjT/EsNV/sGFTVzq8Hbm7/XxGyRjFrVUWFXQAKcwFIgFetjiwIwKkVgKEp0O3D/7ZLJIo/C3JUjy96XLSfKpW7nQHCDBPFjkFUjADgg7BLkAnsIkykrliIUKUKeJaFHy/w09Ea7+KvwI0//+uO9aoiJD0WCDoKFOYV3/f4rGKgOwA07FP6+iNF7v0LPAtQzJpl9NxCh9augK4B8PicYo0SQDFzVtAxxfccuFol6rBbFqmxO9nJ+CHmgdgxiKgUnDWLKo1cLqD92ru4/jRL7ChUlULPAwfnKb53aAjYuJd8nLEF0HWm4vv4R8B2X0DfBLCvB0jtFEVJUsR/CyDWaQkMXgEYmJR+7axkYOsowKkxMOz74vsv/AJc/wMwsVF00Yp/BKRHAw16AwMWVfSO6SXqDUpEiFEZx/UQicBMVx9Bzd6Cs2EZun0SUbXirFlUadZfjGURog2KWhsAIO6h4qsk5o7/FSJmDkDrd4G4ICD1maJAkBUoput16wQ07A006KW6DkhJzq5RrFfS85OS93eaChiZAXcOAGHnARNrxXU7TinnTVJZuNoYsAghtZchK8DHT65id/2eYkchohewRYQqRWJmATyXBiAtl900iLRFt7Z6OOtyR+wYRGVyzKsv+ljWFjsGET2HY0SoUiw6/oxFCJGWibPnjESkOT6OuMqB60RqhoUIvbZH8Tn49TLfkBBpkzpW+nhozP/3pDke5KTit/hHYscgouewEKHXNu/QExTI2MOPSJu4e4idgKj8Fjy9hQwZp5cnUhcsROi1nAtNx4F7XEGdSNvEO7A1hDRPXEEOlkdxXBORumAhQhUmCALmHIwQOwYRVTNnS30EmcSKHYOoQr6PuYdneZzhkUgdsBChCttxK5HT9RJpIQ92yyINliOXYX7kDbFjEBFYiFAF5RbIMf/wU7FjEJEIkh0SxI5A9Fr+THyMm5mJYscg0nosRKhC1p6LwZOUPLFjEFE1czTXxz2TaLFjEL0WAcCcJ9fEjkGk9ViIULklZhZg2akosWMQkQjqe0oAidgpiF6ff3oMDqewZZ9ITCxEqNwWc/FCIq2V6shuWVRzfPX0ltgRiLQaCxEql6jUPGy4wmk7ibSRvZke7rJbFtUgN7MS8U/yE7FjEGktFiJULstPRyOvkIsXEmmjBh46ECT8/081y8KntyAI/HdNJAYWIlRmMen52MjWECKtleGUJHYEokoXmJ2MfckRYscg0kosRKjMVpyORi5bQ4i0kq2pHu6YPhM7BlGVWPg0gK0iRCJgIUJlEpeRj18vszWESFt5eepAzm5ZVEPdy0nB7qRwsWMQaR0WIlQmK89EI6dALnYMIhJJplOy2BGIqtSiZwGQs1WEqFqxEKFXSswswM+X2BpCpK2sTXRxR8r1FqhmC8pJxc7EMLFjEGkVFiL0Sqv8o5GVz9YQIm3VyEMXMnbLIi2wLOq22BGItAoLEXqp5KwC/HSRrSFE2izHOVXsCETV4l5OCo5wtXWiasNChF5q9bkYZORxFXUibWVhrIvb0kixYxBVmxXRd8WOQKQ1WIhQqdJzC/Hj+VixYxCRiJp46KFQwq6ZpD3802NwIzNB7BhEWoGFCJVq09V4pOWyNYRIm+U7p4gdgajafcdWEaJqwUKESiSXC1h3ga0hRNrM3EgHt6VcxJC0z96kCITlposdg6jGYyFCJTr0IAVhSXlixyAiETVx10e+TqHYMYiqnQwCvo++J3YMohqPhQiVaO35GLEjEJHICmuniR2BSDSbE0KQWJArdgyiGo2FCBVzLyYbp0PYJE2kzaSGOrhtxtmySHtlywuxPjZI7BhENRoLESrmB7aGEGk9b3d95LFbFmm5X+MeolDgrHFEVYWFCKlIyirAnzcTxY5BRCKT12arKFF0QTYOJD8ROwZRjaUndgBSLxuvxCOngJ/+EGkzE30d3DFntywUFgKBIcCVe8CtYOBZHJCTD1iYAo3cgCHdgE5NS3/+9QfAzuPAgwggJw9wtAG6twTGDQBMjEq4ngz4/V/g8EUgJQOo4wBMHAT0bF3y+R9FApO+AQZ2Aj4dVym3TMX9HBuE4TZuYscgqpEkgiAIYocg9VAoE+D2zS08S80XOwoRiahdQ0Nc9Q4QO4b4rj8APvpe8b2NBdDABTA2AMJjgLAoxfYhXYG5YwGJRPW5O48DP+xWbG9WD7A2B26HAElpQF1H4Jd5gKWZ6nN+3A3sOA7UsgPq1VYUPxnZwJL3ixcjMjkwZSmQkAL89TVgZlI1rwEBAIKav4WGxpZixyCqcdgiQkr77iaxCCEi6NTOEDuCepBIgO6tgBFvAM3rq+47eQ1Y9BvwzzmgqSfQv+N/+4IjgR/3ALo6wIqZQAdvxfbcPGDuOuBGELDiT2DpB/89Jzkd+Ps04FYL2PQ5YGQIRMQA4xYCmw4WL0T2nAQeRiiKFBYhVe7n2CCsdesgdgyiGodjREjpx/NcwJBI2xnpSdgtq0hrL0Wx8GIRAgC92gID/ld8HLmsum/bYUAQgAGd/itCAEVx8ZkvoCMB/G8qCo0iYVFAQSHQp53iOABwdQJa1AfCo4GsnP+OjU0CNv6j6BZWWrctqlRbEx4jW8bJG4gqGwsRAgA8jMvBhXB+Ckqk7Zq6GyBLly2jZVK/ruLP+OT/thUUApfuKL7v0674c5xsAG9Pxffnnuv+lpap+NPcVPV4c6niz+znFphdtR2QAJjzboWjU/mkyfLxV2Ko2DGIahwWIgQA2HI9XuwIRKQG9Opkih1Bczz9389NG4v/tkXGAbn/K+Qaupb8vKLtj55reXKyUfwZ8cL06U9iAH09wPJ/Bcmp68DFO8B7wwAH69dJT+W0Po5rihBVNhYiBJlcwLYbCWLHICKRGehKcNeS3bLKJClNMbsVoBhHUiTmfz9LzUwA0xJmxgIAByvFn9HPTZVer65iVi2/i8DV+4quWDuOA4+fAe2aKIqRjGxgzU7FjF3De1b+PdFLBWQl4VoGf1cSVSYOViecCE5FdHqB2DGISGTN3A1xXSfv1Qdqu0KZYqB6Zg7g4QwM7fbfvqIuVEXjPEpi/L8CJfu5cR/6esD/jQI++xn4ePV/220tgI9GKr5f/zeQmgms+RjQee5zxNy8l1+PKs3WhBC0NbMTOwZRjcFChLDlOj/hISLAgN2yyua7bYqZryykwDcfKIqIytC5ObD1K+D4VUXBUdcB8OmkGCdyOwQ4eB4Y2x/wqK2Yvvf3g8B+f8WxpsZA3/bAjOEsSqrQrqQwrHZtBwMdXbGjENUILES0XGpOIQ7cS371gURUo+mzW1bZrN4B/HtB0fVqzf8p1gR5nsn/ioDcl7Qs5eT+71jj4vvcnYH331TdVlAILP8DcLYDJgxSbFu3B9h1AhjUGejSXFGo/HUcSE4Dlk6r0K3RqyUV5sEv5SmG2biKHYWoRmAhouV23EpEXiHXtCTSdk1dDXBTN1fsGOrth13AnlP/FSEN6hY/xslW8WdGNpCVW/I4kbiU/x1rU7br/nFYMYj9h9mAob7ivPvOAN4eiumAAUVrSmyyYjB7ZGzxAokqzR8Jj1mIEFUSDlbXcuyWRUQAYFwnW+wI6u2nPcDOE4DUGFj9MeDlWvJxdR0BIwPF9w8jSj6maHsDl1df90msYl2SAR0V65oAQES0opWkaBrgIs3qKf4Mefrq81KF+aU+RVIBi3aiysBCRIsFxWXjWiT7hBNpOz0dCe5bs1tWqdb/DWw/pihC1vyfYtaq0ujrAR2bKr4/frX4/pgk4N7/1qPo2uLl1xUEYMUfivEfH474b7vkf3/mvND9q+ixRAKqOgWCHDsSw8SOQVQjsBDRYluusTWEiABvF0Ok6Oa8+kBt9Ot+4M+j/3XHelkRUmRsf0UxcPgicOXef9tz84BlWxQDzbu3Uqyc/jL/ngcCHgEfvfPfwoYA4FoLMNBTLIiYnvnfuY9dUXxfv065bpHK74+EELEjENUIEkEQOEBAC8nkAuouvslpe4kInbvJccH+odgx1M/5QGDeOsX3DV0B91olH2chBWaOUN228zjww25FQdKiPmBlphhQnpim6L71yzzA0qz0ayenAaO+BBq7A9/PKr7/l32KsSM2FoouWo+eKNYl6d0WWPReBW6Wyiuo+VtoaGwpdgwijcbB6lrqzOM0FiFEBF0d4KENu2WVKD3rv+8fRpQ+5sPRpngh8k4fxTS7O44DD8IVLRYONsC4TsDYAaUvdlhkzS7FeiWfvFvy/qnDFK00B84qCiZrc+DdfsCUoWW7N3ptfyY8xpK6rcWOQaTR2CKipabuDsWGK/FixyAikTV3NURgmwCxYxBpnAZGFnjYYrjYMYg0GseIaCGZXMCBeylixyAiNWBWl7P/EFVEcG4a7mfzdynR62AhooXOhaYjPpPdsoi0nY4EeGjDqV6JKmpvUoTYEYg0GgsRLbTndpLYEYhIDTSpY4gEPU7hTVRRe5MjxI5ApNFYiGgZQRDwz/1ksWMQkRqwdM179UFEVKo72cl4nJMudgwijcVCRMtcTEpCXrModO5VgNbeutDnvGlEWkkiAR6xWxbRa9ubHC52BCKNxUJEy/wTFYWkgnxcyIrDDekTGHeIRYfe+WjfUgcmr5hNkohqjsa1DRGrlyF2DCKNx3EiRBXHz8O1zIHoaJXH6YWFuJwZDxgCRq100NbEGvppJrgfJCA1gzM7E9VU1i7slkVUGa5nJSIyLxN1DaViRyHSOGwR0SL309LwOLP0gam5cjmuZSbiom4kMr2foUXvbHTpIIG9taQaUxJRdXhs+0zsCEQ1xj4OWieqEBYiWuTF1pCXKRQEBGQm4zyeIqHBUzTplYmunYHaDvwnQ6TpGjkbIlqfA2yJKsvhFI63IqoIds3SIn4xMRV6ngDgXlYqgFTAHajfxAxOheZ4FqaL0KfySkxIRNXB1jVf7AhENcq59Dhkywphosu3VUTlwf8xWiI1Px/Xkitn2t5H2Rl4hAygNuBazxQugiXin+giKFwGCOzGRaTuwm2jxI5AVKPkCTL4p8dggFUdsaMQaRQWIlridHw8ZELlDz6PyMlCBLIAB6BWXWN46lgiLdoAdx8VQi5nUUKkbho4GSLYIFXsGEQ1ztHUZyxEiMqJhYiWOBEXV+XXiM7LQTRyACvAprMBvAyskBtnhNtBMhQUVvnliagMHN0KECx2CKIa6GgqJ4AgKi8WIlrieDUUIs9LKsjHhYI4QAqYd9BDayNrCElGuPNAjuzcao1CRM+JsCv7pBVEVHYhuekIy02Hu5G52FGINAanQNICYZmZCMvKEu36RWuVXDGMhLxVNNr2zkWnNjqw4JTrRNWqvoMBnhhUzlgxIiruCFtFiMqFhYgWqO7WkJdRrlWiF4msplH/W6tEB3ZWHE9CVNWc3GViRyCq0dg9i6h82DVLC1TH+JCKKFqrBEiGpCHQxNQS1rlShIXo4FkcpwUmqmyR9uyWRVSVzqTFIF8ug4GOrthRiDQCC5EaTiYIOB0fL3aMV+JaJURVy8PeAKEGSWLHIKrRsuSFuJaZgM7mjmJHIdIILERquOvJyUgtKBA7RrmVulZJGIsSooqo7SZDqNghiLTA+Yw4FiJEZcRCpIZT125Z5cG1SoheX5R9rNgRiLTCufRYfObcTOwYRBqBhUgNdy4hQewIler5tUpsuxigob41cmINcech1yohKo2brQEeG9WsnwVE6upSRhzkggAdCT8oI3oVFiI1mFwQcDW55k7VmZifjwv5sYAZ1yohepm67nKEix2CSEukywpwOzsJLUxtxY5CpPZYiNRg99PTkVGoHc0ERWuVwBAwaqWDtibW0E81wb0gOdIyxU5HJK4Ydssiqlbn0mNZiBCVAdcRqcEuJSaKHUEUXKuE6D91rQ3wyFj9Z84jqknOp2v++Eyi6sAWkRrschKn6nx+rRKdhoC3qSWscs0QFiLhWiWkFdw85IgUOwSRljmfwVZIorJQq0JEJpNBV/e/RYCuXr2KvLw8dOjQAfr6+iIm00yXWIiokAO4+9xaJQ28zeFYYMa1SqhGi3NgawhRdYsvyEVwTioaGFuKHYVIralF16yYmBh07twZhoaG6NatG1JSUuDj44MOHTqge/fuaNKkCWJiYsSOqVES8/IQksnBES8TnJWOs/lRCK0dCdeeKejWQ4CXu1r8lyCqFLWt9PHQmJ/MEonhUgY/BCB6FbV41zVv3jwIgoD9+/fDyckJPj4+SE9Px9OnTxEREQE7Ozt88803YsfUKFfYGlIuETlZOJsbhSCHSNTqnoSuPWVo1lAXOjqC2NGIKszdQ+wERNrrZqZ2jtMkKg+16Jp18uRJ7Nu3D+3bt0enTp1ga2uLEydOwNnZGQCwePFiTJkyReSUmoXdsiqOa5VQTZHIbllEormZxUKE6FXUohBJSUlRFh3W1tYwMTGBi4uLcr+npye7ZpUTB6pXjmJrlRhaQ55khLtBXKuE1FstC308MObPTSKx3M5OhkyQQ1eiFp1PiNSSWvzvsLe3Vyk0ZsyYAWtra+XjlJQUmJqaihFNI8kFAddr8EKGYkkvLMTlrHhcNYqE0DoGbXvnolMbHVhIxU5GVJynJwDOWE0kmhy5DA+yU8WOQaTW1KIQad68OS5fvqx8/O2336oUIhcuXEDTpk3FiKaRHmdmIksmEztGjZYjk3GtElJrKQ7sFkIktltZ7J1A9DJq0TXrn3/+een+Nm3aoFu3btWURvPdSUsTO4JW4VolpG4czfVw1yRK7BhEWu9mViLGo57YMYjUlloUIq/Stm1bsSNolLssRERTbK2SJuZwLDTH01AdhD1jUULVo56HDmLZOEckOg5YJ3o5teiaVeTZs2fILGHti4KCApw7d06ERJqJhYj6CM5Ox9n8ZwirEwk3rlVC1STdiW9+iNRBYJZiwDoRlUwt3hHFxMSgbdu2cHFxgaWlJcaNG6dSkCQnJ6NHjx4iJtQsd1JTxY5AJQjnWiVUDeykerjDbllEaiFbXojgHH44SFQatShEPv30U+jo6ODq1as4evQoHjx4gB49eiAlJUV5jCDwzVpZZBUWIiwrS+wY9ArReTk4lxOD21ZPYN0lAZ17FaJVE13oa0RnSVJnDT11IEj485JIXdzPSRU7ApHaUou3PSdPnsT+/fvRunVrAMDFixfx9ttvo2fPnjh16hQAQCJhh+eyuJeWBr4F0Sxcq4QqU4YTZ+khUidB2amAjdgpiNSTWrSIpKWlwcrKSvnY0NAQ+/btg6urK3r06IH4eK4OXFYcH6LZSlqrpCPXKqEysjHVwx3TZ2LHIKLnBLFFhKhUalGIuLu7486dOyrb9PT0sGfPHri7u8PHx0ekZJqHhUjNUbRWySW9SGQ3jUJLrlVCr+DloQM5u2URqZWHLESISqUWhUj//v2xYcOGYtuLipHmzZtXfygNxTVEaqYCQcCtzGScRySSGj6Fd69MdO0sQW0HtfgvTGoiu1bKqw8iomoVnJsGOce5EpVIIqjBKPDCwkJkZ2fD3Ny81P1RUVFwcXGp5mSax+HgQcTn5Ykdg6pRAxOuVUKAlYku0gfcg4wtIkRqJ6zFCLgZmYkdg0jtqMVgdT09vVKLkKL9LEJeLbOwkEWIFgrOTkcw0oE6gFt9U9QVLBH/RBdBYSxKtEkjDz1cZBFCpJYe5qSyECEqgVoUIgDw4MEDrFu3DpcvX0ZsbCwAwNHRER06dMCMGTPQqFEjkROqv7ASFoMk7RKek4VwZAEOQK26xvDUsURatAHuPiqEXM6xJTVZHrtlEamtoJxU9LeqI3YMIrWjFoXIkSNHMHToULRs2RJDhgyBg4MDACAuLg4nTpxAy5Yt8c8//6Bv374iJ1VvXD+Enhedl4No5ABWgG0XAzTUt0ZOrCHuPJShoFDsdFSZzI10cVsaKXYMIirFQy5qSFQitRgj0qxZMwwZMgSLFy8ucf/ChQuxb9++YjNrkarVjx7h/27fFjsGqTlzPT005lolNUqnJoa46BUgdgwiKkU3c0f4Nx4odgwitaMWU+48evQIY8aMKXX/qFGjEBISUo2JNBNbRKgsuFZJzZNfK1XsCET0Ek/y2HWaqCRq0TXL1dUVfn5+aNCgQYn7/fz8OFi9DDhGhMqraK0S6AH6TSVoaWoF00wpHj4UkJAiemMplYGZoQ5umz0VOwYRvURUfjbkggAdCcfqET1PLQqRxYsXY/To0fD390evXr1UxoicOnUKR48exV9//SVySvXHFhF6HUVrlQDJ0GkIeJtawirXDKGPJIiK5wxc6qqJhz4u63DQD5E6KxDkiMnPhrOhqdhRiNSKWhQib7/9NpydnfHDDz9g1apVxWbN8vf3R4cOHUROqd4EQUAECxGqJHIAd7NSAaQCHkADb65Voq5kzhwES6QJnuRnshAheoFaDFan1xedkwPnQ4fEjkFawM2Ya5WoC1MDHcgGPUQuW0SI1N6Oet3xjq2H2DGI1IpatIjQ62O3LKouz69V4uxiDA+JJVKj9HH3kQyCwP7P1cnbXR9XWIQQaYTIPP6eJnqR2hQihw8fxr59+2BtbY0JEybAy8tLuS8lJQVvvfUWTp8+LWJC9fY0O1vsCKSFonJzEIUcwBqw7WqIhvpWXKukOtXOEDsBEZURZ84iKk4tpu/966+/MHjwYMTGxuLy5cto2bIltm/frtyfn5+Ps2fPiphQ/cXlcjEIEldifh4uZMXiptkTGHeIRYde+WjXQgcmRmInq5mM9XVwx+KJ2DGIqIwi81mIEL1ILVpEvvvuO3z//ff48MMPAQC7d+/GxIkTkZubi0mTJomcTjPE5eWJHYFIKb2wEJcL4wEjwLi1LtoaW0Ev1QT3ggSkZ3JYWmVo6q6PqzoFYscgojJi1yyi4tSiEAkJCcGgQYOUj0eMGAE7OzsMHjwYBQUFGDZsmIjpNEM8W0RITXGtkqqhw25ZRBoltoBdqIlepBaFiLm5OeLi4uDm5qbc1qNHDxw6dAg+Pj549uyZiOk0QzxbREgDcK2SymGkJ8Fdy0ixYxBROSQX5kEQBEi4qCGRkloUIm3btsWRI0fQvn17le3dunXDv//+Cx8fH5GSaQ6OESFNw7VKKq6puyGu6eSLHYOIyqFQEJAqy4eVnqHYUYjUhloMVv/4449hZFTyiNbu3bvj33//xbhx46o5lWZhiwhpuuDsdJzNf4awOpFw65mCbj0EeLmrxY8otaPHbllEGimxgB8aEj1PIxc0/Pbbb/H+++/D0tJS7Chqw2TfPuTIZGLHIKp0zkZcq+R5BroSGA0JRbou39AQaZpLTXzQwcxB7BhEakMjP25cunQpkpOTxY6hNjIKCliEUI0VlZuDczkxuGMdCZuuiejcqxCtmuhCXy06lla/pm4GLEKINFQCW0SIVGjkr3INbMSpUuyWRdoiMT8PF/JjATPAvIM+2hhZQZZgjDtBMuRoyX8DwzqcApRIUyUWaskPKqIy0shChFSxECFtlF5YgEuZ8YAxYNxGF+2MraGbalyj1yrR15XgnhVnyyLSVBwjQqSKhUgNkJLP2XNIu+XIZLiamVBsrZKgICAxtebMwOXtYohb7JZFpLESC/n/l+h5LERqgKzCQrEjEKkNlbVKvGrWWiUmddkti0iTJRWwBwPR81iI1ABZHKhOVKJia5U0NYdjvjmehmneWiW6OsAD66dixyCi15AlLxA7ApFa0chCpEuXLjA2NhY7htpgiwhR2QRnpSMY6UAdwK2+KeoKloh/oougMPUvSpq6GCFAN1vsGET0GrLl/OCQ6HlqV4gUFBQgNjYW2dnZsLOzg7W1dbFjDh8+LEIy9cVChKj8wnOyEI4swAFwdlH/tUqkLixCiDRdtpy/r4mepxaFSEZGBv7880/s3LkT165dQ35+PgRBgEQiQe3atdGnTx+89957aNOmjdhR1RK7ZhG9nqjcHEQhB7AGbLsaoqG+FXJiDXHnoQwFavC+QUcCBFlztiwiTZctU4MfKERqRPQFDb///nu4urpi8+bN6NWrFw4cOIDAwEA8evQIly9fxoIFC1BYWIg+ffqgX79+CAkJETuy2mGLCFHlSczPw4WsWNw0ewLjDnHo2Dsf7ZrrwthQvEzedQ2RyG5ZRBoviy0iRCpEbxG5fv06zp07h8aNG5e4v23btpg4cSJ++eUXbN68GefPn0e9evWqOaV6YyFCVDVeXKukrbEV9FJNqn2tEnMXTvlJVBOwaxaRKonAZco13vhr1/DHkydixyDSGvoSCbxNrWGaaVrla5VIJIDd0KeI18uosmsQUfWopW+CqNajxI5BpDZEbxF5kSAISEpKgkQigY2NjdhxNAJbRIiql2KtkiQASVW+VkmT2oa4yyKEqEZgiwiRKtHHiBSJjY3FuHHjYGVlBQcHB9jb28PKygoTJ05EXFyc2PHUGgerE4mnaK2Sc7KniPKIRINe6ejWFXCvXTk/Xq1cuQAaUU3BQoRIlVq0iKSnp6Njx47IzMzEhAkT0LBhQwiCgAcPHmDHjh24cOECbt26BalUKnZUtVQgV/81EIi0xfNrlbjXl6KOYIG4CD08DC//BwYSCRBi86wKUhKRGPIF/r4mep5aFCJr166Frq4u7t+/Dzs7O5V9X3zxBTp16oQffvgB8+fPFykhEVH5heVkIgyZgCPg7GoMDx0rpD7TK/NaJY2cDXFfP70akhJRdZELAnQk6rdWEZEY1KJrlp+fH+bPn1+sCAEAe3t7fPbZZ/j3339FSKYZ+OOMSP1F5ebgXHY07lhHwqZrIjr3KkSrJrrQf8nHQTau+dUXkIiqhQDOEURURC0KkUePHqFjx46l7u/YsSOCg4OrMRERUdUp61olobbslkVU08hZhxApqUXXrPT0dFhaWpa639LSEunp7J5QGgmbeIk0VmlrleQm6+GWfprY8YioksnZIkKkpBaFiCAI0NEpvXFGIpGAy50QUU2XI5PhWmYioAf0GKSHprULcEeHswYS1Sx8P0NURG0Kkfr165f6yT6LkJdjewhRzeJsoY/zkifQi5agjZMzrutGiR2JiCqJDn9rEympRSGyefNmsSMQEakN9wZyREGOQgG4FZ2JTo4uuKj/ROxYRFQJWIgQ/UctCpHx48eLHUGj8UcaUc1Ry0IfV3T+KzpkEHAxNhnd7N1x1jBMxGREVBlYiBD9Ry1mzSpJbm4utm7divXr1yMkJETsOERE1cKjvhwFeHHRMwnOxieiW46HKJmIqPJIWIgQKalFIfJ///d/mDlzpvJxfn4+OnTogClTpmD+/Plo0aIFLl++LGJC9cZZs4hqBkdzPVzVLX3K3rOJCeic6QHdMiyGSETqR5dFCJEKtShEjh8/jt69eysfb9++HU+ePEFISAhSUlLw9ttvY8mSJSImVG+GL5lxjIg0R70GQD5kLz3mQkoCWme4wVDQraZURFRZjKEvdgQitaIW72AjIyPRqFEj5ePjx49j+PDhcHFxgUQiwUcffYSAgAARE6o3qZ5aDPUhotfgINXDNd2nZTr2aloiGqbWhrlg+OqDiUhtSGEgdgQitaIWhYiOjo7KFL1XrlxB+/btlY8tLS2RkpIiRjSNwEKESPM1aChB3itaQ553OzMFTkn2sBVMqjAVEVUmFiJEqtSiEPHy8sK///4LALh//z4iIyPRo0cP5f4nT57AwcFBrHhqz5SFCJFGs5Pq4bp+2VpDnheckwbTBAvUFsyrIBURVTYWIkSq1OId7Ny5c/HOO+/Az88P9+/fx4ABA+Dm5qbcf/jwYbRt21bEhOqNLSJEms2rgQTnhMIKPfdJXhYc4ozgaa+HxzrJlZyMiCoTCxEiVWrRIjJs2DAcPnwYTZs2xccff4xdu3ap7DcxMcG0adNESqf+WIgQaS5bU13cMCh/a8jz4gpykRArgbecLcdE6oyFCJEqifD84AzSSOsfP8Z0DuYn0kjdWurjrEF4pZzLSKKLJk4muKEbVSnnI6LKNRyNsAdvix2DSG2oxUfpBw8eLHG7hYUF6tevDycnp2pOpFnYIkKkmayNdXHD8BlQSR8H5QoyBERnopOTCy7qPXn1E4ioWrFFhEiVWryDHTp0aKn7JBIJ3nnnHWzcuBEmJpwdpiQsRIg0k7eXLs4KBZV6ThkEXIxJRlcHN5yrpJYWIqocUq4jQqRCLcaIyOXyEr9SUlJw4sQJ3Lp1iwsavgRnzSLSPJbGurhl+HpjQ0onwbm4JHTL8aii8xNRRbBFhEiVWhQipbGwsEDPnj2xevVq7Nu3T+w4asuMhQiRxmnWUBcZldwa8qKziQnokuUBHUFSpdchorJhIUKkSq0LkSINGzbEs2fPxI6htmwNuboykSYxN9JBgFH1/Ew7n5yAthmuMBR0q+V6RFQ6SxiJHYFIrWhEIRIWFoZatWqJHUNtORjxBxuRJmnhpYd0Ib/arnclLQleqbVhJvDTWCIxOUAqdgQitaL2hUhgYCDmzJmDgQMHih1FbVno68NQR+3/KokIgJmBDgKNqn963cDMFDgn2cNW4KQfRGJxZCFCpEItBhdYWVlBIinehzkrKwuFhYXo3bs3Fi1aJEIyzeFgZITI7GyxYxDRK7RspI+zQp4o136Ykw7XBEsY2ukhSpIuSgYibcZChEiVWhQia9asKXG7ubk5GjRogEaNGlVvIA3kyEKESO1JDXRwx7jy1g2piIi8TDjGGcPTQQ+PJcniBSHSQixEiFSpRSEyfvx4sSNoPAcOWCdSe628xGsNeV5sQQ4sYwzQxNEe93TixY5DpBVMoc9Zs4heIPrAgqysrCo9XltwwDqRejPRl+CeSfWPDSlNqiwfoTEFaC1zFjsKkVbgQHWi4kQvRDw9PfHtt98iJiam1GMEQcCJEyfQv39//PDDD9WYTnOwECFSb629DJEk5IodQ0WOXIbA6Ex0LKwrdhSiGo/dsoiKE71rlr+/P+bPn4+FCxeiWbNmaN26NWrVqgUjIyOkpKTgwYMHuHz5MvT09PDZZ59h6tSpYkdWS+yaRaS+jPUleGAaJerYkNIUQsClmBR0dXDDOYNwseMQ1VgsRIiKE70QadCgAfbu3YvIyEjs2bMH58+fx6VLl5CTkwNbW1u0aNECGzduRP/+/aGrywW5SsMWESL11dbLEGeFHLFjvIQE5+KS0M3OA2eNQsUOQ1QjOcJU7AhEakciCIIafkZH5XU+IQFd/f3FjkFELzDSk8C8bRLi5Zoxq10XaztcNAmDXMJfDUSVaTG640t0EzsGkVoRfYxISfLz8xEcHIzCwkKxo2gMV1N+0kKkjto2NNSYIgQAzicnoG2GGwwEtkATVSYnmIkdgUjtqFUhkp2djUmTJsHExASNGzdGZGQkAGDmzJn49ttvRU6n3pyNjbm6OpGaMdCV4JF5tNgxyu1KWiIap9aBVOBUo0SVxR1WYkcgUjtq9c71s88+w+3bt+Hv7w+j58Y89OrVC7t27RIxmfrTkUjYKkKkZto1NESsBrWGPC8gMxl1kh1gIxiLHYWoRvCEtdgRiNSOWhUiBw4cwLp169C5c2dIJBLl9saNGyM0lAMoX8WDhQiR2tDXleCxRenTkmuCoOw0mCdYoZbALiVEr8MIeqgDc7FjEKkdtSpEEhISYG9vX2x7VlaWSmFCJXOXcmpAInXRvoEhYuSavwBreF4m5HEmcBfYrYSootxgCQn4PoboRWpViLRu3Rp+fn7Kx0XFx2+//YYOHTqIFUtjsEWESD3o6QBhlrFix6g0sQU5SInVRWN58Q+KiOjV2C2LqGSiryPyvKVLl6J///548OABCgsLsXbtWjx48ACXLl3C2bNnxY6n9jzYIkKkFto3NMIFeabYMSpVSmE+8mL00MqxFm7qat4AfCIxeXCgOlGJ1KpFpHPnzggMDERhYSG8vb1x/Phx2Nvb4/Lly2jVqpXY8dSeO1tEiESnKwGeWMaJHaNKZMsLcSc6Gx0K64odhUijsEWEqGRc0LAGyZHJYLpvH/gXSiSeTl5GuGjxWOwYVUoCoIuDDc4ZhIsdhUgjHMUY9IWn2DGI1I5atYgcPnwYx44dK7b92LFjOHLkiAiJNIuxri4cn5v2mIiql44EeGoVL3aMKicAOBeXhG657mJHIdIIbBEhKplaFSKffvopZLL/b+++w6Oq0zaOf0/qpDdSKUkIvUnoPQiIiogUEbGAqK8V1+5a1rLrqouNVRd7wY4FLICKioIU6SBNEBCkBUho6XXO+8eQQEghCcmcSXJ/ritXwqn3TAKcJ79WWGq7aZrcf//9FiSqe1oFaJpNEav0bu3Dbnua1TGcZmFKKgOyEnAzNRuQSHk8cSOOYKtjiLgklypEtm3bRrt27Uptb9OmDdu31++uDjWlQ6DmKRexgpsB+0Lrf2vI6X45nELPjHg8TZf670TEZcQSjLtrPW6JuAyX+psRFBTEn3/+WWr79u3b8dNA7Eo5JzjY6ggiDVLPVj7ssh+3OoYlfj2WSsfjzfAzPa2OIuJyOqBpr0XK41KFyCWXXMIdd9xRYhX17du3c/fddzNixAgLk9UdnYKCrI4g0uAYmBwMa3itIadak36EuCNRhJo+VkcRcSmdibQ6gojLcqlC5Omnn8bPz482bdoQHx9PfHw8bdu2JSwsjGeffdbqeHVCh6Ag1/qmijQAvVr58mcDbQ051aas4wSnhhBtak0jkSKdibI6gojLcqkFDYOCgli6dCk//PADv/32Gz4+PnTq1IkBAwZYHa3O8PPwoLm/P9sz6tdiaiKuyySlUQrYrc7hGv7MySDmkB/xER7sNI5ZHUfEcipERMqndUTqoTFLlzJr3z6rY4g0CL1a+rAsbJvVMVxOqIc3UZGw2S3F6iiuYWsqfL8DVu+H1cnwewoUmvD4ufCPpNLH2+2wbC98tx1+2gm/p0JaLgR5Q2I0XNMZrugIRhkzlmXmwX0/wOeb4XgOnBMFTw2GQeVMtzxnK1z8MTwxCB7UL/5qUgg2jvB3q2OIuCzLW0RefPFFbrjhBmw2Gy+++GKFx/7tb39zUqq6rVNQkAoREacwORKeqtaQMhwpyCU32YMuUdGscU+2Oo71XlkJLyyv/PF/HoW+bzu+DvWBbjEQYnNs//FPx8eMjTDzMvA67b/yiV/AzN+hQwT0agI/7IDzP4BFk6BX05LHZuTCLXOhYwTc2/fsXqOUco5aQ0QqZHkhMnXqVK688kpsNhtTp04t9zjDMFSIVJJmzhJxjp4tfFluV9Ffnkx7ARv22+kV3ZRlHnusjmOtDhFwTx9IjIIu0fDkInh/ffnHGwYMiod7+8B5CeB+yui/hbvgog9hzh/wn8XwyMCT+9YlO4qQwfEw72rHefP/hCHvwb9/gTlXlrzPQz/BvnT4dCx4utfkKxY0UF3kTCwvRHbu3Fnm11J9mjlLxDmORRxWa8gZ5GNnefJx+kfFschzl9VxrHN915J/djvDIpAJoTB/Ytn7kuLg/n7w8M/w3m8lC5HVJ1qfrk08WbwMbg4tQmHpacXgyn3wvxVwS/fSLSVSIzQ+RKRilhciRfLz82nTpg1z5syhbdu2Vsep0+L9/Ajw8CC9oMDqKHVfQQH8/jusWwebN0NyMuTmgr8/tGgB550HXbqUPm/tWli+HHbtgiNHICMDPDwgMhISE2H4cChr8cmcHPjgA8e5WVkQGwtXXAEdOpSdb/VqmDIFLr8cRo+uyVcuZ9C9uY2V9r1Wx6gTTGDRgSMkhTdnoa30WlFSDYnRjs970kpuP5zl+Bx62jTKYT7w17GTfy4ohBtmQ0wAPDm41mI2dCpERCrmMjO9enp6kpOTY3WMesEwDBLVPatmbN4Mjz8Os2fD4cPQpg306OEoIlavhv/8B15/HU6f82HRIvjpJ0cx0bQp9OwJrVtDaip8+SXcfTfsKaOryrRp8P33juufcw7s3g1PPAF//FH62JwcePNNaNYMtM6O02VEHbU6Qp2zMCWVAVkJGJoi5extO+z4HH3aVMlxwY7Pv6ee3JZfCNuPQONTfvnx/K+w7gBMGwYB3rUataHywp12hFsdQ8SluUyLCMCtt97KlClTePPNN/HwcKlodU7vsDB+SU0984FSMTc3RxExbBic3lK3dCm8+CL8+KOjyEg6ZeabESNgwgQ4vSDMyYGXX4Zly+DVVx1FRpFduxwtIR07wkMPOe69YYOjEJo1C+6/v+S1Pv7Y0dpy552O1hZxmm7xNlapNaRafjmcQp/g5qz030W+oX5t1ZKVBy+eGPg+pl3JfYPiIcALnlsK/ZpBy1B4/Bc4nA1XdnIcs/Mo/HMhXNoORrRxbvYGpB3heKJxNyIVcamnl5UrVzJ//ny+//57OnbsiJ+fX4n9s2bNsihZ3dOnUSPYutXqGHVfhw7ld4vq0wfWr3e0fPzyS8lCJC6u7HNsNkeBsmwZbNvmaDHx9XXs+/NEl5Vzz3UUIeAoSqKiSn8vt2+H776D88+HVq2q/fKkerKjj2lsyFlYeiyVroWx/B60lywj3+o4dc8tc2HnMUe3qgf7l9zXyA+mnOc4pscbJ7e3bQSPDXR8ffMc8HSDFy8seW5WHvh61WbyBqU7MVZHEHF5LlWIBAcHM2bMGKtj1At9wsKsjtAwFBUcVWl9cj/xGzLDKNmSkZ7u+Ox/WleLgABIOWUthsJCR3ew0FAYP77KkeXsdI2zsVqtIWdtdfphOtij2RtyiGOGuuVW2uML4d3fwObhmOkqzLf0MTd3d8zONfN3x9oj50Q61h3x9YIP18O8HfDacIgOcBQf9/4AH6x3HNvIF27uBo8OLDlTl1RZf5pZHUHE5blEIWK323nmmWf4448/yMvLY9CgQTz22GP4+Pic+WQpUyNvb1r6+7NNK6zXrgMHHJ9DQip3fH6+o0sVQKdO4HXKbx/DT/Ql3rsXOnd2fF1Q4LhHaOjJ4+bMcXTjuu8+0N8Rp8uNOa7WkBqyMfMYCYVh2Bod54Chf6vO6Pml8MjP4O0OX4yDvhU86PZqWnomrCNZcOd30L8Z/N+JWbyumgVfbXVMLdyvGXy5xdGVKzMfnju/9l5LA9BPhYjIGblEIfLEE0/w2GOPMWTIEHx8fHjxxRdJSUnh7bfftjpandYnLEyFSG06dgwWLHB83bNn2cf8+Sd8+61jMHt6uqNLVXo6JCTAzTeXPLZDB0dhMWeOY1B8dDTMnOk4vl8/xzGHDsHnn0OvXtCtW229MilHYqyNtWoNqVE7ctJpfMifuAgPdhnHrI7jul5aDnd/D17uMHMcXNCy6te4+3tHq8frFztaZLemwhdbHCu0TznPcczFrWHTIce0vv8cCP4ayF4djQkgnkr+gkqkAXOJdtf33nuPl19+mXnz5vHll18ye/ZsPvzwQ+x2/drxbPRp1MjqCPVXYSG89JJjjEezZo5pfMuSmgoLFzrGkKxd6ygqOnaEO+4o2coBjpmyrrzSMQD9wQdh0iRHUdK4MYwd6zjmjTccXbsmTSp5bm5ujb9EKa0wJu3MB0mV7cvLIv2AJ23tmmGoTNNWwN++PVGEXAYXVWNc2M87Yfo6eKA/tDnxPq870aLb57SWk37NIK8QNqcg1aPWEJHKcYkWkd27dzNs2LDiPw8ZMgTDMNi/fz9NmjSxMFndpnEiteiNNxwzWgUEwF13lT9rVY8e8OmnYLc7pv/dsMHx57vvhsmTHS0bpxo61DHuZPlyyM52rCMycCB4ezumBP7tN7jhBkdXsNxceP99x/bsbEeWoUMdRYubS/yOoV45p6mN30y1htSWwwW55CZ7kBgVzVr3ZKvjuI5XV8Lkb04WIcNbV/0auQVw0xzHgPUH+p3cXrSmYmZeyeMzT0wgYJxh0UUpl8aHiFSOSxQiBQUF2Gy2Ets8PT3Jz9dsKmejfWAgQZ6eHNf7WLPeeccxU5afH/zjHxBTiZlR3NwcY0AGDXJ0wbr7bsc0vm3alJ7it1Wr0jNhZWTAu+86phAefGLxsZdegpUr4eKLHddZudLRlSs31zEzl9Qoo0m6Y2U+qTUZ9gI27bfTK7opyzzKWGenoXljtWP2q7MpQsAxwH3bYVh0LXid8t9+lxOLIn64AW7rCT6ekJoJs353DIZvpxaq6lKLiEjluEQhYpom11xzDd7eJ/ui5uTkcNNNN5WYwlfT91aNYRj0Cg1l3sGDVkepP957zzHmo6gIiY+v+jUiIqB9e1izxjH974ABlbtvdrajNcQwYP9+WLHCMXbkqqscx3Tr5hjo/t13cNlljqmCpUZ0amJjnVpDnCIPO8uTj9M/Ko5FnrusjlNz1ux3FBVFdpxYEPO11TDnlAVLv7jcMZvVumS4cbaj+G0eAp9vdnyUZfqo8u+76RA8vQRu7FZ6cHuLMBjfAT7eCO2nOQqTJXvgUKaj5cRPU/lWRxDedCTS6hgidYJLFCITJ04ste2qoocrOSt9GzVSIVJTPvjAMWbD19ex4GBCQvWvVVR0Hz9+5mM3bnQMih871jFeBByzZkHplpPWrR3rk+zdCy1aVD+flODeVK0hzmQCiw4cISkigYXeO6yOUzPScmH5vtLb96Y5PorkFjg+H8s5+TO3JdXxUZ7yChHThBtmQ7gf/GdIOeeOhGZBjlaRr7dC0yB4+jzHLFpSLX1oihvq1iZSGS5RiLzzzjtWR6i3zo2IgE2brI5R9334IXz9taMI+cc/zu4hPz8ftmxxfB0dfeZj33jDUYCMKuNh4/RB6hq0XuM6NLaxVq0hllh4KIUBYQks8tmBWdef6wbGg/lY7R1fFsOAJddVfIyXB/znPMeH1AiNDxGpPI1ored6hYYSWN5AaqmcGTPgq69Odsc6UxFy/Dh8/71jRq3THTniGNtx9KhjzEinThVfa+ZMxzoiN95YckB88+aOz4sXQ96JgaZpaY7uWp6eoEkeaox3M02BbaVfDqfQJ6M5Hqb+u5K6QeNDRCpPT6j1nIebG4MiIvhy/36ro9RNq1ZB0dikqCiYN8/xcbqAgJMDxHNz4c03Yfp0xwxY4eGOLhKHD8POnY5FCkNC4N57Sy5oeLo9exwF0JAhjsHop4qKgr59YckSx6xd8fGwdaujCBo5UuNDakj7GBurze1Wx2jwlhxLpZs9lk2Be8g2CqyOI1IuXzzpQWOrY4jUGSpEGoChUVEqRKrr1AUhd+xwfJQlPPxkIRIU5Ph682ZHMbFvn6PVwtcXWraErl0dxYWvb/n3NU14/fWTa4uU5dZboVEjR6vIqlWOr6+6yjGLltQIn9hMjQ1xEavSDtOxMIY9IYc4ZuRYHUekTIOIx1uPViKVZpimqf9m67kdGRm0+PZbq2OI1Clto7z5Pa6eDJSuR1r6BJIedowDhrrMieuZxjBuobvVMUTqDHW6bQAS/P1pfso0yCJyZv5x2VZHkDJsy07D/ZA/sWaQ1VFESrkQzVYoUhUqRBqIoZGa01ykslpFerMSdWd0Vfvyssg84EUbeyOro4gUa00Y8YRYHUOkTlEh0kAMjYqyOoJInRESrzEIri61IJd9yXY6F+rfNnENag0RqToVIg3EoIgIPIy6PhG/SO1rGeHNCspYeE5cTrq9gM37c+hZoOmqxXrDaGl1BJE6R4VIAxHk6UnP0FCrY4i4vLDmOZooqw7Jw87K5DT65cdZHUUaMD88GUCs1TFE6hwVIg3IhWdaxVukgUsI92K5WkPqHDuw+MARknKbWx1FGqhzNW2vSLWoEGlARjXWIksiFYlonqfWkDps4aFUkrITMPRNFCfT+BCR6lEh0oC0CwykTUCA1TFEXFJ8mBfLDbWG1HULU1Pok5mAh6n/3sR5VIiIVI/+pW5gRqtVRKRM0S3ysas9pF5YcjSFxLRYfEx1lZHa155wTdsrUk0qRBqYMU00u4zI6eJCvVhu7LU6htSglWmHaXmsMYGmt9VRpJ67jPZWRxCps1SINDBdQkKI8/W1OoaIS2ncIp9CtYbUO+szjhJ5uBERpp/VUaQeG6dCRKTaVIg0QKPVKiJSrFmIJ8vc1BpSX23LTsf7UCDNzCCro0g91IlIWtPI6hgidZYKkQZI40RETmraslCtIfXcnrxMsg940coeZnUUqWcuo53VEUTqNBUiDVCfsDCibTarY4hYrnGQJ8vVGtIgpBTkciAZzrFHWR1F6hGNDxE5OypEGiDDMBipVhERmre2U4Dd6hjiJGn2fLbsz6FHobqnytlLJIqWqJVN5GyoEGmgxqgQkQYuJsiTZW57rI4hTpZr2lm1P41++bFWR5E6Tq0hImdPhUgDNTAighh1z5IGLKGVnXy1hjRIdmDxgSMk5Ta3OorUYSpERM6eCpEGyt0wuCpWvxGUhikq0IPl7hob0rAZLDyUSlJ2gtVBpA7qSjTNtYihyFlTIdKAXRMXZ3UEEUu0bA15FFodQ1zAwtQU+mUk4G4aVkeROkStISI1Q4VIA9Y2MJDuIfqNjjQskf4erHDX2BA5afHRFLqmx2EzPayOInWAGwbj6WB1DJF6QYVIAzdRrSLSwLRuA7lqDZHTrDh+mNbHGhNoelsdRVzcEJrTFC2QKVITVIg0cOObNcPLTT8G0jCE+3uw0lNjQ6Rsv2UcJepwOOGmr9VRxIVdS2erI4jUG3oCbeBCvby4ODra6hgiTtGutUG2WWB1DHFhf2Sn4ZMSRFMz0Ooo4oJCsDGSNlbHEKk3VIiIBq1Lg9DIz52VXhobIme2OzeT3AM2Wtq1WJ2UNJ4OeKOxRCI1RYWIcEFUFBHe6hct9Vv71m5kqTVEKulQQQ4Hk6GTPdLqKOJCriXRKffZtm0bkydPpl27dvj5+WGz2WjSpAndu3dn8uTJzJw5s9Q5cXFxGIbBrl27aj3frl27MAyDOBf6RaarZSooKOCDDz5g7NixxMXF4e/vj7e3N1FRUQwaNIhHHnmEjRs3lnmuYRgYhmvN5FdbmQzTNM0av6rUOXetW8fUbdusjiFSK0J93MntvJ9MM9/qKFLH2Ax3Okb7stJ9n9VRxGJdiGY1N9T6fWbNmsUVV1xBbm4uYWFhdOnShfDwcI4ePcq6detITk4mLCyM1NTUEufFxcXx119/sXPnzlp/GN+1axfx8fHExsY6pfCpDFfKtHbtWsaOHcuOHTswDIN27drRsmVLfHx8SE1NZdWqVRw9ehSAO+64g6lTp5Y4v+iB35Ue0Wsrk9oXBYDrmzdXISL1Vse2bixUESLVkGMWsmZ/Bn2jYlni+ZfVccRC/0eXWr/HwYMHmThxIrm5udx99938+9//xmazlThm9erVfP7557WeRapn9erVDBgwgKysLIYPH87zzz9Py5YtSxxjt9uZP38+Tz31FL///rtFSV2DChEBoF1gIEnh4SxMSbE6ikiNCvZxZ433XnCdXyxJHVOIyZIDR0iKbM5Crz+tjiMW8MOTK+lY6/eZM2cOGRkZxMTE8Oyzz5Z5TNeuXenatWutZ5Gqy8/PZ+zYsWRlZXHppZfyySef4FbGzKRubm6cd955nHfeeaxcudKCpK5DY0Sk2C0JCVZHEKlx57RxJ12tIXLWDBYeTCUpW/9ONkSX04EAan8s5cGDBwEIDw8/q+v8/PPPDB06lJCQEHx8fOjSpQvvvfdemcf+9ddfTJkyhUGDBtGsWTO8vb0JDg6mX79+vPbaa9jt9grvZZomr7/+Ol27dsXPz4+goCCGDh3Kr7/+Wubxp441eOedd+jduzdBQUElxrecbabTZWVlcckll2AYBueeey7Hjh0r3pednc1zzz1Hr169CA4Oxmaz0bp1a+677z4OHz5cpft8+OGH7Ny5E29vb15++eUyi5DTde/evcL9M2fOpF+/fgQGBuLn50ffvn355ptvyjx28+bNPProo/Tt25fGjRvj5eVFWFgYQ4YM4dNPPy3znAULFmAYBgMHDiQrK4tHHnmEtm3b4uvrW24XvzfeeKP4+x0cHMywYcNYtmzZGV9rWVSISLFRjRsTfVoTsEhdFmhzY61N64ZIzVmYmkK/zATcTdcaSCq160ac0wLRrFkzADZu3Mj8+fOrdY23336bwYMHc+TIES644AI6d+7M2rVrmThxIv/9739LHf/+++9z//33s2vXLlq1asXo0aPp3LkzK1eu5KabbmLs2LEVjguYNGkSkydPJjg4mOHDhxMVFcUPP/zAueeey/Lly8s977bbbuP666/Hw8ODiy66iJ49exYXKGeb6VQHDx4kKSmJr7/+mquuuop58+YRHBwMwP79++nZsyf33HMP27Zto3v37gwbNozc3FyeeeYZunXrxl9/Vb5L5ldffQXA+eeff9bFJMCjjz7K2LFjARg2bBgtW7Zk6dKlDB8+nC+++KLU8c8//zz/+te/OHLkCB07dmT06NG0bt2an3/+mXHjxnHXXXeVe6+cnBwGDhzI888/T3x8PCNGjCjVpQzgrrvu4sYbb8TX15dLLrmEpk2b8u2339K/f/8yM52JBqtLCY9u2sS/Nm+2OoZIjUhK9GKht7rSSM3rGdSIdQF/kWsUWh1FallvmrCU65xyr4yMDNq0acO+ffswDIOkpCQGDx5Mly5d6N69e4UPt0WD1T09PZk1axbDhw8v3jd9+nQmTZpEUFAQycnJ+Pj4FO9buXIlPj4+dOjQocT19u/fz7Bhw/jtt9/49NNPix+I4eTAcIDY2Fi+//57WrVqBUBhYSE33HADb7/9NkOHDmXevHklrltUbAQGBjJv3jx69epV6rWcTaZTB6tv3ryZYcOG8ddff/GPf/yDxx9/vPh40zTp378/S5Ys4brrrmPq1KkEBAQAjhmv7r//fp577jnOPfdcfvrpp3Lf91M1a9aMPXv28Pjjj/OPf/yjUueUpeg9Cg4O5rvvvqNnz57F+x577DH++c9/0qpVK7Zu3VrivIULF9K0aVOaN29eYvvWrVsZMmQIe/fuZfny5fTo0aN434IFCzj33HMB6NSpE/PmzSMqKqrcTD4+PsyZM4dBgwYV73vmmWe47777CAoK4o8//iAiIqLSr7XKLSJF08MZhlHhYKkhQ4ZgGAbTp08v3jZ9+nQMw+Caa66p6m3FSW5s3hxPF5syTqQ6Ar3dWWfTTEdSO5YfT6XtsaYEmF5WR5FadielH5Rri7+/P/Pnz6dnz56YpsmCBQt4+OGHueiii4iIiCAxMZFXX32VwsLyC+DbbrutRBECcM0119CmTRuOHz/OqlWrSuzr3r17qQd+gJiYGJ5++mkAPvvss3Lv99JLLxUXIQDu7u488cQTgOPBOD+/7K6x99xzT5lFSE1kAvjpp5/o27cv+/fv5+233y5RhADMmzePJUuW0LlzZ1599dXiIgTAw8ODp59+mg4dOvDzzz+XO83u6YpmMiuvYPzkk0+45pprSn2cPgNakX/9618lihCABx54oPiBf8+ekmtjJSUllSpCAFq3bs3DDz8MUOGz+//+978yi5BT3XjjjSWKEIB7772Xbt26cfz4cd58880Kzz/dWQ1Wf+ihhxg5ciQeHhrzXl/E+PgwpkkTZuzRwm9StyW29WChmWt1DKnH1mUcoU1hBKlhR0g1sqyOI7UgjmBG09ap92zdujXLli1jxYoVzJ07l+XLl7NmzRpSUlJYt24dN998MzNnzmTu3Ll4eZUuhC+++OIyr9u2bVu2bNnCvn2lf0GTm5vL999/z8qVKzl06BC5ubmYpkl6ejpAqd+8F/Hw8OCCCy4otT0qKoqQkBCOHj3K4cOHy3y4vfTSSyt8H6qbCeDdd9/l//7v//Dx8WHu3Lmcd955pY6ZO3cuAGPGjCnzOdbNzY0BAwawceNGli5dWmZhVFUrV67k3XffLbX9scceo1GjRqW2l/W99Pb2pnnz5qxdu5Z9+/bRtGnTEvszMjL49ttvWbt2LampqeTl5QGQnJwMlP++RURE0L9//zO+hokTJ5a5fcKECaxatYoFCxbw4IMPnvE6RapdQfj6+vLHH3/w5ptvctNNN1XqnFGjRtGrVy+CgoKqe1txgttbtlQhInWav5cb6300U5bUvi3ZacSmBGEL92CvkWZ1HKlhf6MH7hYNp+3Ro0dxFxrTNFm7di3PPPMMM2bM4Mcff+SFF17g3nvvLXVe0TiT0wUGBgKOsQCnWrZsGePGjWP37t3lZklLK/tnOzo6Gk9Pz3Lvd/To0VL3K1LRWidnk2nv3r3FPW9++ukn+vXrV+Zxf/7p6Lb78MMPF7cWlCelkjOKNmrUiD179pR7/LPPPltiNjQPD48KW7eq+r2cPXs2kyZNqnCQfXnvW2XXninqklfe9r17qzYus9p/u26//XbA0WyUlVW53wQFBQXRpk0boqOjq3tbcYJeYWH0CA21OoZItXVt68lRtYaIk/yVm0n+QRst7Pp3sz4JxJvrnLB2SGUYhkGXLl34+OOPGTFiBABffvllmcdWZqamIllZWYwcOZLdu3czadIkVqxYwZEjRygoKMA0zeLfnpc3nLgq9zrdqeNUajJTREQEF154IeBYLLC8h/Kimbf69evHxIkTK/xo3759pV5Tly6On5fTu79VV1Xe33379jFu3DgOHz7Mfffdx2+//cbx48cpLCzENM3isTrlvW/lfT+qqqpDz6v9EzRs2DCSkpJITk4utSJkeSoaIzJr1iyuv/56OnToQEhICDabjfj4eK699toym5F69+6NYRjMmDGj3Pv973//wzAMRo0aVbwtPT2dN954g9GjR9OyZUv8/Pzw8/OjY8eOPPTQQyWmdDtV0diYXbt28dVXXzFo0CBCQ0MxDIMFCxYAjor5xRdfZNiwYcTHx+Pj40NgYCDdunVjypQp5f5W4NSp7KoyTVttur2MmRJE6gI/Lzc2+GpsiDjXwfwcUg4YdLRHWh1Fash1JBLohCl7q2ro0KEA5Y4rqIpffvmFgwcP0qVLF95++226d+9OSEgI7u7uAGyzYKHjs83k5eXFV199xaWXXsrq1atJSkriwIEDpY4r6tJ0ySWXMH369Ao/Ro4cWansRUXivHnzauT7UxWzZ88mOzubUaNGMWXKFDp16kRgYGBxMVNT38udO3eWub1ogoAmTZpU6Xpn1d44ZcoUAJ5++ukqz7V8ussuu4yPP/4YHx8fBg0axPnnn4+bmxvvvPMOXbt2ZenSpSWOnzRpEkCJwfCne+eddwC49tpri7f99ttv3HDDDSxevJioqCguvvhi+vXrR3JyMk8++STdu3ev8LU899xzjBw5kvT0dC644AKSkpKK/3LMmzeP22+/nfXr1xMbG8vIkSPp0aMHW7du5f7772fQoEHk5pb/W9qqTtNWm8Y2aUKTGqqORZypaxsvjphlF/0itel4YT7bk/PoVtjY6ihyltwxuJ2eZz6whlXmt8lF3ZWq+sBXliNHjgDldwH64IMPzvoeVVUTmTw9PZkxYwbXXHMNmzZton///qWm4S1qNfnss8+q/Fv88lx11VXExsaSk5PDrbfeWmPXrYyi9y02NrbUPtM0+eijj2rkPu+//36F2wcOHFil651VIdKzZ09Gjx5NWlpa8QwJ1fXhhx9y6NAhVq5cycyZM/nqq6/Yvn0706ZNIzMzkxtuuKHEN/Tyyy/H19eXH374ocyBV+vXr2fNmjVERkYW/7CBo2Xjxx9/5MCBAyxatIgZM2Ywb948du/ezYQJE9i+fTuPPPJIuTlfeeUVvvrqK1auXMlHH33EggULigf3dO3alV9//ZW9e/eyYMECPv74Y3788Ud2795dvLjPiy++WO61X3zxRX799VcWL17MjBkzWLduHY8++iimaXL//fdX522tNk83N+5p3dqp9xQ5Wz6eBpv91Boi1sm2F7J2fwZ9Csp+iJK6YRRtiSXY6fd9+eWXmThxYqlfvoLjYXLWrFn873//AxzPQWerbVvHQPz58+ez+bSp+19//XU++eSTs76HVZnc3d15++23mTx5Mtu3b6d///788ccfxfsvueQSunfvzooVK5g0aVKZ4zqOHj3Kq6++SkFBQaXu6eXlxWeffYbNZuPTTz9l1KhRbN++vcxjly5dWqOFStH79vnnnxcPTAfHdMqPPPJImT9T1fHKK68U9wQqMnXqVFasWEFAQADXXVe1qa7PegTWk08+iYeHBy+//HKVFn053bhx4/Dz8yuxzTAMbrnlFnr37s2mTZv4/fffi/cFBgYyZswY7HZ7mauFFrWGXH311SVmQ2jSpAmDBw8u1e/O19eXV155BQ8PjwqnhJs4cWJx09vp2rZtW+ZUdCEhIbz00ktAxdPNVXWattr2f/HxhHu7XrO0SHm6t/Um1cy2OoY0cIWYLE0+yoC8sgd1iuu7y4lT9p4qPz+f9957j759+xIREcH555/PlVdeyUUXXUTz5s0ZM2YMWVlZXHXVVVV+4CtLYmIil1xyCenp6SQmJnL++eczfvx42rZty0033VSl2Y9qSk1mMgyDl156iQceeIA9e/YwYMAANmzYADjGX3z55Zd07tyZd999l/j4ePr27cv48eMZM2YMiYmJhIeHc/PNN1e6EAHH1MOLFi0iPj6er776ilatWhUvLnj11VczYsQI4uLi6Nu3L3a7nYsvvrjMGbOq6uKLL6Zr167s3buXVq1aMXz4cMaNG0dCQgJTpkzh73//+1nfA05O35uUlMQVV1xBp06duOuuu4oLvzNN/3u6s553t3Xr1lx77bW8/vrrPPzww2UWBZW1fft2vvvuO7Zv3056enrxTAIHDx4EHFOOtWvXrvj4SZMm8f777/Puu+/ywAMPFG/Pz8/nww8/BEp2yzrV0qVLWbRoEbt37yYrK6u4KvXy8iIlJYWjR48SEhJS6rwzTTdXWFjIggULWLp0KcnJyWRnZ2OaZvH1K5purjrTtNUmXw8P7mjZkocqOX+2iJVsHgZb/PeD3eokIgAGvxw8TFJ4AgttO6wOI1XQiyb0xnn/157quuuuIz4+nvnz57N8+XI2b97MwYMH8fDwICYmhvHjxzNhwoQyp8ytrs8++4wXXniB9957j8WLF2Oz2ejWrRsvvvgiLVu2POseL66Q6cknnyQwMJAHHniApKQkvvvuO3r06EFMTAzLli1j+vTpfPLJJ6xfv54VK1YQGhpKTEwMN910EyNGjMBms1Xpft26dWPr1q18/PHHfPXVV6xatYrvvvuOwsJCgoODadOmDVdccQVXXHFFjUwLDI4ZuBYsWMBTTz3FzJkzmT9/PoGBgfTp04eZM2eSnp5ePKTibEydOpXWrVvz2muvsXLlSjw9Pbngggt4+OGH6dOnT5WvV+WV1YtW7ly0aFHxlGjJycm0aNGCnJwc1q5dS6dOnRgyZAjz58/nnXfeKR6cXrSy58SJE0uM7SgsLGTy5Mm89tprFTZTTZ8+vcT8xaZp0qJFC/7880+WLFlS/AZ88cUXjB49mp49e7Js2bIS1zh06BBjxoxh8eLFFb7OXbt2lehnV/S6N2/eXNz8dbpt27YxatQoNm3aVOG1T3+NRQPVCwsLy5whYeDAgSxcuJCff/65yn3vztbx/Hxi587leDkLEom4igEdbfziV3YTuIiV+oeGs8T3T+yG5pOuC2ZxGaOcvHaISENVI5NjR0dHc/vtt2O320u0TFTWCy+8wKuvvkpkZCQfffQRu3btKtGSMH78eKDsB/hTi5wiRd2yiga0n+r6669n8eLF9O7dm++//56DBw+Sl5dXfK+iqYWrM73ZpZdeyqZNmxg+fDi//PJL8UIypmlWOEi9yNlMg1dbgjw9uTUhweoYIhXydjfYGrDf6hgiZVp0JIUe6fF4me5WR5Ez6EwUI2ljdQyRBqPGnnz//ve/ExYWxjfffMMvv/xSpXM//fRTAF577TXGjx9PbGxsiWawiqYcmzhxIm5ubnzyySdkZ2dz8OBBvv32W3x8fEoN5MrMzOSbb77Bzc2Nb775hvPOO4+IiIjixXgyMzPLnOKtMrZs2cL69euJiIjgiy++oH///oSFhRVf24op8GrKna1a4euu/0DFdfVo481Bu1a2Fte17Hgq7Y81wd8svRK2uI5HScLAsDqGSINRY4VIUFBQ8QCi++67r0rnVjTl2KZNm1i3bl255zZr1ozBgweTlpbGrFmz+OCDDygoKGD06NGlVnAvWtglMDCQ4ODgUtf64IMPqj2DQdFriImJKTE4/tRr11WNvL35v+bNrY4hUiZPd4PtQclnPlDEYmszjtL0cCSNTF+ro0gZOhPFJWi2SBFnqtG+QLfeeivNmjVj+fLl/Prrr5U+r2jMxbRp04pXugTH2JMJEyaccbaCogHp77zzToXdsiIjIwkJCeHYsWOl5kFetmxZtbqVFWnVqhXu7u5s2LCh1LRms2fPrvSij67qnlat8HLBrmMivdp4k2zPtDqGSKX8nn2cgJRgGpsBVkeR06g1RMT5avTJ0tvbm3/9618AZGVVvpvEgw8+iJeXF2+88QatW7dm3LhxXHjhhSQkJJCbm1tiZfSyjBw5kpCQEObPn8+mTZuIi4tj0KBBpY5zd3cvXiNkwoQJ9OrViyuuuIJ+/frRp08fhg8fXmarTGU0atSIyZMnU1hYyODBgxk4cCBXXHEFXbt2ZcSIEdx7773Vuq6raOLry4RqvjcitcXDDf4Mql53ShGr7MzNoPCgLwlmqNVR5AS1hohYo8Z/xX311VfTsWPHKp3Ts2dPVq1axYgRI8jMzOTrr79mx44d3Hbbbfz6668EBgZWeL7NZise0A6OcSNFM1Gd7o477uDLL7+kT58+bN26ldmzZ5Obm8u0adN49913q5T7dFOnTuWtt94iMTGR1atX88033+Dr68uMGTN4/PHHz+raruCBNm3wLOd9FbFC7zY29tkzrI4hUmUH8rM5nOxGB3uE1VEEtYaIWKXK0/dKwzZ5zRqm7dCc+GI9dwOiex9nrz3d6igi1ebr5kHbKBur3TXrm1USiWINN1odQ6RBUqd/qZKH27XDTzNoiQvo1camIkTqvCx7Ab/tz6RPQTOrozRYj5JkdQSRBkuFiFRJpM3Gna1aWR1DGjh3A/aEHLI6hkiNKMBkafJRBuTFWx2lwUkkiku0boiIZVSISJXd27o1jbw0F75Yp1drH3bb06yOIVKDDH45eJikHE2V7kz/4lyrI4g0aCpEpMoCPT158MSUyyLO5mbAvlC1hkj9tDAllf6ZCbiZGjhd2wYRz3DUwi9iJRUiUi23JCTQzFeLconz9Wrlwy77catjiNSaRUdS6Jkej5ep8Xi1xQ2D5xhqdQyRBk+FiFSLt7s7/2rf3uoY0sAYmBwIU2uI1H+/Hk+lw7Gm+JvqBlsbJnAOnYmyOoZIg6dCRKrt6thYOpxhjReRmtSrlS9/qjVEGog1GUdodiSSUNPH6ij1ii+ePEHpRY9FxPlUiEi1uRkGT1Zx8UqR6jNJaZRidQgRp9qcdZyglBBizACro9Qb99KHGPR+irgCFSJyVi6OiWFwhFYGltrXq6Uv2+3HrI4h4nQ7czMwD/rS3AyxOkqdF40/99LH6hgicoIKETlrLyUm4mlohhepTSZHwlOtDiFimeT8bI4ecKe9Xb/4ORv/ZhB+aNyNiKtQISJnrW1gILe1bGl1DKnHerbw5Q/7UatjiFjqaEEeu5IL6FIYY3WUOukcIrmGzlbHEJFTqBCRGvFou3ZE2WxWx5B66ljEYasjiLiETHsBG/Zn0bugqdVR6pznGIobar0XcSUqRKRGBHp6MkUD16UW9EjwYav9iNUxRFxGPnaWJR+nf3681VHqjBG0ZjBatV7E1agQkRpzdWwsfcPCrI4h9Ux6pIoQkdOZwKIDh0nK0cP1mfjhyUtcaHUMESmDChGpMYZh8L8uXfRDJTWmW7yN3+3qliVSnoUpqQzISsAwrU7iuv7JQJoRZHUMESmDnhmlRnUODubGhASrY0g9kR19zOoIIi7vl8Mp9Mpojqep/9JP15ko7qCX1TFEpBz6V0tq3L87dCDMS9MjytnpEmdjk11T9opUxq/HUul0vBl+pqfVUVyGGwavMRx3PeqIuCz97ZQaF+rlxZROnayOIXVcXsxxqyOI1Cmr048QdzSaEFMzGALcTDd60NjqGCJSARUiUiuui49niFZcl2pKjLWx0Z5idQyROmdT5jFCU0OJNv2tjmKpaPx5ksFWxxCRM1AhIrXmjW7d8HN3tzqG1EGFjdOsjiBSZ+3IycA45Ee8GWx1FMv8lwsIxNvqGCJyBipEpNbE+fnxpNYWkSo6p6mN9fZDVscQqdP252Vz/IAnbe3hVkdxugtpwWW0tzqGiFSCChGpVbe1aEG/Ro2sjiF1iNEk3eoIIvXCkYJcdicXklgYbXUUp/HFk5e5yOoYIlJJKkSkVhmGwVvdumFz04+anFmnJjbWmQetjiFSb2TaC9i4P5teBU2tjuIUTzCIOIKtjiEilWSYpqllkKTWTdmyhfs3bLA6hri4xN75rFUhUr78Qli+AxZugV93wK4UyMqDED84pxlc2RsGtyv//EV/wJsLYN0eyMqFJqFwYSe4dTD4ldGfvqAQ/vs9fLYSDqdDfDjcPhSGdy77+pv2wcVTYWwPmHJZTbxiqSEG0C8qlEWeu6yOUmvOJY75TMDAsDqKiFSSChFxikLTpNf8+aw6etTqKOKiOjS2sbHpdqtjuLZFf8CVrzq+Dg+Ajk3B1wu2HYCtBxzbr+gFT40F47SHsTcXwr++cmzvEQ+NAmDFn5CSDgkRMHMyhJ4209K/v4bXF0CzMGgXA0u3Q1o2vDIRLjqn5LGFdrjkBUg+Bj/dD0E+tfEOyFlKCg9noW2H1TFqXBDerOdmraAuUsd4WB1AGgZ3w+Dt7t3p+sMP5Kv2lTJ4NcsA/WhUzM1wtGBcOwB6Ni+57+u1cPuH8NEy6BYPl3Y/uW/jXnj8a3B3g7evg3PbOrZn58G1b8GSbfDA5/DaNSfPSU2H6YugZSTMuRN8vGD7QTj/WZg6r3Qh8s4iWL8HXp6gIsSFLUxJYUBYAot8dmDWo4aDF7hARYhIHaSO++I0HYOCeLhdBd1GpMFqH2NjjXnA6hiur29LR7FwehECMCIRxp4oPmauKrlv2nwwTcf+oiIEHMXFM+McBc636x2FRpEtyZBXCKO6Oo4DaBEJPRPgjwOQnnPy2H1H4dlvHd3Cyuu2JS7jl8Mp9M5ojqdZPx4BRtGGiXS2OoaIVEP9+FdI6owH27alb1iY1THExfjEZlodoX5of2IV6eRjJ7flFcBPvzu+Html9DlNQh0tKADfnTKO62iW43OQb8njQ078OTP35LZ/zHR0+XpiTLWji3MtPZbKOWnN8DU9rY5yViLx4zWGWx1DRKpJhYg4lbth8GHPngR71u3//KTmtI3yZpWZbHWM+mHnidXoIwJLbsvOc3zdqZyZk4q2b9p3clvTEMfn7adNHrD9IHi5Q6if48+z18H8zXDvhRATclbxxblWpR2h+dFogk2b1VGq7XUuJhw/q2OISDWpEBGni/Xz49WuXa2OIS7CPy7b6gj1w6E0+Hyl4+sLO53cvvuI43OgD/iX88AZE+z4vOfIyW3tGkOTEPhsBfyy1dEV640F8HsyJLUBLw84ng2PfQGdm8E1/Wr6FYkTbMw8RqPDYUSZ/mc+2MVMojMjaG11DBE5CypExBLjmjZlUlyc1THEYq0jvVnJfqtj1H0FhY6B6mk50CbaMY1vkcwTYzl8vco/v2hfxinjPrw84J+jIScfrnoN2j/oGPAeEQiPjHQc89RsOJoJT18Gp64VVNQCI3XC9ux03A/5E2cGWx2l0uII5gUusDqGiJwlzZollnkpMZElqan8kZFhdRSxSFB8zpkPkjN78HPHzFchfvDqREcRURPOaw/f3gNfrYHDGdA8HMb1gGA/x9S/Hy+HWwZBmxjH9L3/nQfvL4UjmRBgcwx0f+jik4PdxWXty8si7IA3bSIbscUt1eo4FXLH4F1GEkAZa9+ISJ2iQkQs4+fhwUe9etF7/nxN6dsAtYzwZiX1bz0Dp3v0C5ix3DFl7oc3QvOIkvv9TnTHyqqglaJoX1ldt1pHwX3DSm7LK4D7P4PYMMcChwBPzHasVXJ5Tzivg6NQeX0BpKTBa5Oq9dLEuQ4X5JKb7EHnqGjWubvuuK1/cS4DiLU6hojUAHXNEkt1DQnhiY4drY4hFghrnqtlQ87W41851u8I9IEPboIOTUofUzToPC27ZNerU+0/5vjcJLRy95023zFo/amxYPN0XPe9xdA1Dp4e52hJeehiGH4OfLsB/jxU1VcmFsmwF7B5fzY9C8qZ2MBiw2jJA2g8kkh9oUJELHdPq1YMiYg484FSbySEe7GcvVbHqNuemA1vLIRAm6Ml5JxyHhybR5zsGrV+T9nHFG3v0PjM991xCF6e71iTpG9Lx7ZtBx1rjnSLK3ls9xPTAm/SOKC6JA87K5OP0z8/zuooJTQjiPcZhUE9WolRpIFTISKWMwyD93r0IMpWd6eQlKqJaJ6n1pCz8dQceO3nE0XITXBOs/KP9fKAQScWMfxyTen9e4/A6l2Ory84Q+ukacIDnznGfzw84uT2oufC07t/Ff1Zz411jh1YdOAISbllLJ5pAU/c+IRLCcXH6igiUoNUiIhLiPbx4dNevfA09MRS3zUP82K5se/MB0rZnvkGXvnJ0R3rTEVIkVsGOxYc/GwlLPj95PbsPLj3E8dA8ws7OVZOr8iM5bBsBzxyiWPAepGWUeDt4VgQ8VjmyWt/sdrxdWVaWsQlLTyUSlJWAobFvzl4mvPoRRldD0WkTjNMU6OExXW8uG0bt69bZ3UMqUV9ehosNcrpIiQV+34jXP+24+tOTaFVVNnHhfrBP0aU3PbmQvjXV46CpFdzCAtwDCg/lAYJETBzMoRWsJZESjoM+g8kxsJ7N5TeP2WuY+xIeIBjpfaNex3rklySCC9dXb3XKy6jb3AjlvvvosCwO/3eo2nLTC5z+n1FpPapEBGXc/Xy5Xywe7fVMaQWxIV6safVTgrVMat6PlsBd88483FNQmDpw6W3L/rDsSjhut2OFouYEBjWCW4dXP5ih0Umvw8/boIf7oOmZQxqN01Hd7EPf4V9R6FRgGP63rsvqLnphMVS3QPD2Bi4h2yjwGn3TCCE1dxAEOq6K1IfqRARl5NdWEifn35i3bFjVkeRGta3h8ESN7WGiNRVHf2C2R1ykONGbq3fy4YHS7mWRKJr/V4iYg2NERGX4+Puzqw+fQjx9LQ6itSgZiGeLHPTTFkiddmGzGNEHA4n0vQ788Fn6SUuVBEiUs+pEBGXFO/nx0e9eukHtB5p2rJQXbJE6oFt2Wl4Hgog1gyqtXv8jR5cT5dau76IuAY954nLuiAqin+2b291DKkBTYI9Wa7WEJF6Y29eFpkHvGhtb1Tj1z6fBJ7n/Bq/roi4HhUi4tIeatuWkTExVseQsxTXyk4Bzp9tR0RqT2pBLvuT7ZxjL2f2tmpoSyM+4VLc9Xgi0iDob7q4NMMweL9nTzoHB1sdRaopJsiT5RqgLlIvpdsL2LI/hx6FZ7/GRxg+zGa8ZsgSaUBUiIjL8/fwYE6/fjT20Yq6dVFCKzv5ag0RqbdyTTur9qfRLz+u2tfwxI2ZXEYCZUwNLSL1lgoRqRMa+/gwt18/Ajy0HkFdEhXowXJ3jQ0Rqe/swOIDR0jKbV6t81/hIpKIq9FMIuL6VIhInXFOcDCf9OqFu2FYHUUqqWVryKPQ6hgi4iQLD6WSlJ2AUYUJ8u6kF9dphiyRBkmFiNQpF0ZHMy0x0eoYUgmR/h6scNfYEJGGZmFqCn0ym+NhnvkRYxgteZahTkglIq5IhYjUOTcmJHBv69ZWx5AzaN0GctUaItIgLTmaSmJaLDaz/O605xDJx4zBDbVyizRUhmmaWmFM6hzTNLls2TI+36vxB64o3N+DjI57yTYLrI4iIhbq5B/CruADpBm5JbbHEcxSriWaAIuSiYgrUIuI1EmGYfB+jx70CtUMK66oXWtDRYiIsD7jKFGHw4kw/Yq3hePL91ylIkRE1CIidVtqbi79f/6ZLenpVkeRExr5uZPVaR9ZKkRE5ISmXn4YEVkcNrL4mYl0p7HVkUTEBahFROq0Rt7e/JiURJyvr9VR5IT2rd1UhIhICXvyMik86MMX5jgVISJSTIWI1HmNfXz4MSmJaJtW47VaqI87q7w1bkdESnLD4LnAgZxnJFgdRURciAoRqRcS/P35YcAAwry8rI7SoHVs60ammW91DBFxMS+HDGKcr2Y7FJGSVIhIvdE+KIjv+vcnUKuvWyLYx501ag0RkdM8GdSXG/07WR1DRFyQChGpV7qFhjKnXz983N2tjtLgnNPGnXS1hojIKR4I6M4DgT2sjiEiLkqFiNQ7/cPDmdWnD15u+vF2lkCbG2ttag0RkZPuD+jOk8H9rI4hIi5MT2pSL10QFcWHPXvibmjFXmdIbOtBmplndQwRcRH3BXTjKRUhInIGKkSk3rq0SRPe79EDDxUjtSrQ2511tn1WxxARF3FvQFemBPe3OoaI1AEqRKReG9+sGTN69cJTxUitSWzrwXEz1+oYIuIC7gnoytPBA6yOISJ1hAoRqffGNGnCrD598NaYkRrn7+XGeh+NDRERuMu/C8+oCBGRKtCTmTQIw2Ni+KpvX82mVcO6tvXkqFpDRBq8O/278FxIktUxRKSOUSEiDcb5UVHM7dcPPxUjNcLPy40NvhobItLQ3RvQledVhIhINagQkQbl3IgI5g0YoEUPa0C3Nl4cMXOsjiEiFvpPUD+NCRGRalMhIg1O30aN+DEpiRBPT6uj1Fk+ngab/NQaItJQuWHwesgQ/h7Y3eooIlKHqRCRBql7aCg/DRxIuLe31VHqpO5tvUk1s62OISIW8MKdGWHD+D//jlZHEZE6ToWINFidg4NZOmgQCX5+VkepU2weBr+rNUSkQfIzPJkdfgljfVtZHUVE6gEVItKgtfD3Z+mgQXQPCbE6Sp3Ro603KWoNEWlwQt1s/Bg+hqG2WKujiEg9oUJEGrwIm42fBw7kouhoq6O4PG93g60B+62OISJOFuPuxy8RY+nlrX8nRaTmqBARAfw8PPiqb1+uj4+3OopL69nWm4P2LKtjiIgTtfcIY2nE5bT3bGR1FBGpZ1SIiJzgbhi80a0b/2zf3uooLsnL3eCPwGSrY4iIEw21xbI0chyxHoFWRxGRekiFiMhpHmnXjre6dcPDMKyO4lJ6tvHmgD3T6hgi4iQ3+XVibqORBLppdkERqR0qRETKcG18PF/37Yu/Fj4EwNPd4M+gA1bHEBEncMPgueABvBI6GA9DjwkiUnsM0zRNq0OIuKr1x45xyZIl7Mpq2OMi+rWzsThwu9UxRKSW+RoefBQ2jEt8EqyOIiINgH7VIVKBTsHBrBoyhEEREVZHsYy7AbuCD1odQ0RqWbSbH79EXKYiREScRoWIyBmEeXszr39//taihdVRLNG7jY299nSrY4hILUr0jGB55Hi6ekVaHUVEGhAVIiKV4OHmxguJibzTvTvebg3nr427AbtD1BoiUp9N9G3H0shxNPUIsDqKiDQwGiMiUkXLDx9m1NKlJOfkWB2l1vVt48OS4G1WxxCRWuCJG/8NHsgtAedYHUVEGigVIiLVsD87m9FLl7L8yBGro9QaNwOa9U5jlz3N6igiUsNi3P34PGw4vb1jrI4iIg1Yw+ljIlKDYnx8WDhwIJPi4qyOUmt6tfJRESJSD/X3bsyayCtVhIiI5VSIiFSTt7s7b3fvzjvdu+Pn7m51nBplYHIg7JDVMUSkht3un8hP4ZcS6e5ndRQREXXNEqkJv6elMW7ZMjYcP251lBrRu5UPv4ZqbIhIfeFvePJayBCu8GtjdRQRkWIqRERqSE5hIXesW8drf/5pdZSzZJLQJ5Md9mNWBxGRGtDVM4KPw4bR0jPE6igiIiWoEBGpYZ/u2cP/rVpFWkGB1VGqpVdLH5aFqTVEpK4zgLsDuvJkUF88jfrVfVRE6gcVIiK14M+MDMYtW8aqo0etjlJFJi37ZLHNXtdyi8ipIt18eS/sAobaYq2OIiJSLhUiIrUkz27n/vXrmbqt7rQu9Gjhw4pGdSeviJR2oS2O6aHnE+Hua3UUEZEKqRARqWXfJCdz/apVdWIBxNZ9sthqr79ro4jUZ16485/gftzhn4hhGFbHERE5IxUiIk5wNC+P29au5cPdu62OUq4eCT6sCFdriEhd1MEzjPdCLyDRK8LqKCIilaZCRMSJvti3j5tWr+ZQbq7VUUpp2yeb3+2HrY4hIlXggRt/D+zGI4G98NKAdBGpY1SIiDhZam4ut6xZw2d791odpVi3eBurIrdbHUNEqqCjZyPeCR1KV69Iq6OIiFSLChERi3y6Zw+3rllDal6e1VFo3yeHTfZUq2OISCV44Mb9gd15OLCnWkFEpE5TISJioUM5Ody0Zg1f7NtnWYYucTbWRKk1RKQu6HSiFaSLWkFEpB5wszqASEMWYbMxq08fPuzZkwhvb0sy5MUct+S+IlJ5nrjxSGBPVkVeoSJEROoNtYiIuIhjeXk8tHEjr+7Ygd1J90yMtbE2Wq0hIq4sybsJL4cMop1nmNVRRERqlAoRERez6sgRbl6zximrsnfqk8d6+6Fav4+IVF2kmy/PBPfnar92VkcREakVKkREXJDdNHl1xw4e2riRY/n5tXKPzk1trGus1hARV+OGwc3+nfh3UB+C3WxWxxERqTUqRERc2KGcHO5Zv573//qrxq99Tu88fjPVGiLiSnp4RfFyyCBNySsiDYIKEZE6YGFKCresWcPmtLQauV6nJjbWN1FriIirCHHz5smgvtzg1wk3w7A6joiIU6gQEakj8u12Xt6xg8c3b+bwWa49ktg7n7XmwRpKJiLV5YkbN/l34tHAXoS5+1gdR0TEqVSIiNQxx/PzefL333lx2zZy7FWfX6tjYxsbmqo1RMRqo3xaMCWoHy09Q6yOIiJiCRUiInXU7qwsHtqwgQ9376Yqf4m79C5gjXmg1nKJSMV6eEXxXPAA+nk3tjqKiIilVIiI1HFrjx7l3vXrmX/ozAPP28fY2NRMrSEiVohzD+Sp4H6M82mFoXEgIiIqRETqi2+Tk7lv/Xo2VjCgvVvvQlaZyU5MJSIhbt48GNCD2wI64214WB1HRMRlqBARqUcKTZPpu3bx+ObN/JWVVWJf2yhvfo/bYVEykYYn2PDmzoAu3B6QSJCbt9VxRERcjgoRkXoo327n7Z07eXLLFnafKEh69LKzgv0WJxOp/4IMb+4ISOSOgEQtSCgiUgEVIiL1WN6JgmTG4R0sjN5kdRyRei3Q8OL2gETuCuiiAkREpBJUiIg0AHlmIdMzN/GftJXsLKyZRRFFxCHA8OJvAZ25O6ArISpAREQqTYWISANSYNr5MOt3nkpbydaCo1bHEanTwt18uNX/HG7zTyTUXQWIiEhVqRARaYDspsmX2dt5Pn0NS/I0bkSkKlp6BHN3QFcm+rXDplmwRESqTYWISAO3IvcAUzPW8HnWNgqo+krtIg1FH69o7g3oxgifBNy0DoiIyFlTISIiAOwpSOfFjLW8kbGR42au1XFEXIIbBiN9ErgnoCu9vWOsjiMiUq+oEBGREjLsebyduYkX0tfyZ+Fxq+OIWCLEzZuJvu241b8zLTyDrY4jIlIvqRARkTLZTZO5OX/yesYGvs3ZRSH6p0Lqv55eUdzs34nLfFrj46bxHyIitUmFiIic0d6CdN7O3MRbmRvZXZhudRyRGuVveHKlbxtu8u9EZ68Iq+OIiDQYKkREpNLspsm8nF28nrmBOdk7Nbhd6rROno242b8TV/q2JcDNy+o4IiINjgoREamW5MIM3snczFsZGzWWROqMCDdfLvdtxdV+benmFWV1HBGRBk2FiIictWW5yXyUtYVPs/7goD3L6jgiJfgaHlzik8DVvm05zxaLh+FmdSQREUGFiIjUoELTzvzcPXyUuYUvsreTZuZZHUkaKDcMBnk35Wq/toz2aYG/ul6JiLgcFSIiUityzALmZu/ko6wtzM3eSS6FVkeSes4Ngz5e0YzybcHlvq2Jcfe3OpKIiFRAhYiI1Lo0ey7f5Ozi6+wdfJO9SwsmSo3xwp3BtqaM8mnBCJ/mRLr7WR1JREQqSYWIiDhVvlnIL7n7+Dp7B19n/8muwjSrI0kdE2B4McwWx0jfFgyzxRHo5m11JBERqQYVIiJiqfV5KXyd/Sdf5+xgVd5BLZsoZWrpEcxQWyzDbPEMtjXF29BigyIidZ0KERFxGYcKs5ifs5v5uXuYn7NbrSUNWIibN4O9m3GerRlDbbHEeQRZHUlERGqYChERcVk7Co45CpOcPfyUu4dUe7bVkaSWeOBGL68ohtpiGWqLpbtXFG6GYXUsERGpRSpERKROME2T3/JTmJ+zh8V5+1iWm8wBrVlSZwUZ3vTyjqKvVwx9vWPo6RWNn5un1bFERMSJVIiISJ21q+A4y/IOsCw3mV/zklmXl0Kepgl2Sc3dg+jrHUMf72j6ejWmvWeYWjxERBo4FSIiUm/kmAWsyTvEsrxkluce4Lf8FLYXHKNQQ+CdqrG7P4me4XTxiiDRM4Je3tFEaVpdERE5jQoREanXsu0FbC44zPq8VNbnp7A+P5X1+akab1IDvHCnjWcI53iG08mzEZ28wunsGU6Eu6/V0UREpA5QISIiDdKBwkzW56eyOf8wOwqOs6PgGNsLjrGrII187FbHcxkG0MQ9gJYewbTyCKGlZzAtPYJp6RFCgkcQnoa71RFFRKSOUiEiInKKQtPOnsL0EsXJjoLj7ClMJ7kwk4OFWfWqUHHHINLdl8bu/sS4+9PY3Z9mpxQeCR7B+LhpzQ4REal5KkRERKrANE1S7dkcKMwi2Z5JcmEGyYWZxR9H7bkcN3NJs+dx3J5LmplHllngtHyeuBHs5k2wmzchbjbH14Y3IW7ehLn5EOPuR+MTBUeMuz9R7r64G25OyyciIlJEhYiISC0rMO2OwuREgZJm5pJn2ikw7eTj+FyAnQJM8s1CCkyTAuwUYscTd7wMN7wMd7zK+dpmuBNsOIoOTYErIiJ1hQoRERERERFxOrXHi4iIiIiI06kQERERERERp1MhIiIiIiIiTqdCREREREREnE6FiIiIiIiIOJ0KERERERERcToVIiIiIiIi4nQqRERERERExOlUiIiIiIiIiNOpEBEREafYtm0bkydPpl27dvj5+WGz2WjSpAndu3dn8uTJzJw50+qIFXrssccwDIPHHnvM6ihlOuecczAMA29vbw4fPlzhsQMHDsQwDBYsWOCccGcQFxeHYRjs2rXL6igi4kQqREREpNbNmjWLjh07Mm3aNA4dOkTfvn0ZM2YMnTp1Yt++fUybNo0bb7zR6phOVZPFwMqVK1m/fj0AeXl5fPDBB2d9TRGR2uZhdQAREanfDh48yMSJE8nNzeXuu+/m3//+NzabrcQxq1ev5vPPP7coYd331ltvAdC4cWP27dvHW2+9xe23325xKhGRiqlFREREatWcOXPIyMggJiaGZ599tlQRAtC1a1eeeuopC9LVfVlZWXz88ccAvP/++/j7+7NhwwZWrlxpcTIRkYqpEBERkVp18OBBAMLDw6t87ubNm3n00Ufp27cvjRs3xsvLi7CwMIYMGcKnn35a7nmzZs3i+uuvp0OHDoSEhGCz2YiPj+faa69l69at5Z6XnZ3NY489RsuWLfH29iY6OpqJEyeye/fucs9JT0/njTfeYPTo0bRs2RI/Pz/8/Pzo2LEjDz30EMeOHStx/IIFCzAMg4ULFwJw7rnnYhhG8cf06dOr9B599tlnpKWl0aFDB84991zGjRsHnGwlOZOFCxcydOhQQkND8fX1pUePHrz//vtlHpuSksKLL77IsGHDiI+Px8fHh8DAQLp168aUKVPIyckp9z6bN29m7NixNGrUCB8fHzp06MCzzz5LYWFhlV6viNQjpoiISC16//33TcB0d3c3f/zxxyqde91115mA2aZNG/P88883x40bZ/bu3dt0c3MzAfPOO+8s8zx3d3fT19fX7Natmzl69GhzxIgRZvPmzU3A9PPzM5csWVLqnMzMTLNXr17FxwwfPtwcO3asGRkZaYaFhZkTJkwwAfPRRx8tcd6iRYtMwAwPDzf79etnjhs3zhw6dKgZFhZmAmaLFi3M1NTU4uN///13c+LEiWZkZKQJmOeff745ceLE4o9FixZV6T3q37+/CZjPP/+8aZqmuWTJEhMwg4KCzKysrDLPSUpKMgHzb3/7m+nm5ma2a9fOvPzyy80BAwYUv7d33XVXqfOKvpeNGzc2k5KSzMsvv9wcPHiw6e/vbwJm7969zZycnFLnLVq0yPTz8zMBs3nz5ubll19uDhkyxPT09DTHjBljxsbGmoC5c+fOKr12EanbVIiIiEitSk9PNxs3bmwCpmEY5sCBA83HH3/cnDt3rnno0KEKz12wYIG5Y8eOUtu3bNliNmnSxATM5cuXl9o/Y8YMMyMjo8Q2u91uTps2zQTM9u3bm3a7vcT+e+65p7jo2bdvX/H2zMxM85JLLjGBMguRPXv2mD/++KNZWFhYYntmZmZx8XLLLbeUylhUDPz8888VvgcV2bp1qwmYnp6eJd7LNm3amID53nvvlXle0b0B88knnyyxb8GCBaaPj48JmN99912JfZs3bzZ//fXXUtc7cuSIOXToUBMwn3766RL7srOzzaZNm5qAeccdd5gFBQXF+3777TezUaNGxVlUiIg0LCpERESk1m3ZssXs2bNn8QPnqR+dO3c2X3nllRIPqJXx2muvmYB57733Vum83r17m4C5adOm4m1ZWVlmQECACZjffvttqXOSk5NNm81WZiFSkczMTNPDw8MMDw8vta8mCpG///3vJmCOGTOmxPann37aBMykpKQyzyu6d2JiYpn77777bhMwzzvvvEpnKSqKunfvXmL7Bx98YAJm06ZNzby8vFLnTZ06VYWISAOlWbNERKTWtW7dmmXLlrFixQrmzp3L8uXLWbNmDSkpKaxbt46bb76ZmTNnMnfuXLy8vEqcm5GRwbfffsvatWtJTU0lLy8PgOTkZIByx3xs376d7777ju3bt5Oenl48FqFozMrWrVtp164dAGvWrCE9PZ1GjRpxwQUXlLpWVFQUQ4cO5euvvy73NS5dupRFixaxe/dusrKyME0TAC8vL1JSUjh69CghISFVedsqVFBQwLvvvgvAtddeW2LfhAkTePDBB/nll1/YsWMHCQkJZV5jwoQJZW6fOHEizz33HIsXL6awsBB3d/fifYWFhSxYsIClS5eSnJxMdnY2puMXm0Dp70fR9MSXXXYZnp6eZd7rzjvvrNyLFpF6RYWIiIg4TY8ePejRowcApmmydu1annnmGWbMmMGPP/7ICy+8wL333lt8/OzZs5k0aVKFC/SlpaWV+HNhYSGTJ0/mtddeK344PtN5e/fuBRwL65UnPj6+zO2HDh1izJgxLF68uNxzi+5Xk4XI3LlzOXDgAI0bN+b8888vsS8yMpJhw4bx9ddf8/bbb/PEE0+UeY3yXlPR9uzsbA4fPkxERATgWJRy1KhRbNq0qdxcp38/it7b8u4VEhJCUFAQx48fL/eaIlI/adYsERGxhGEYdOnShY8//pgRI0YA8OWXXxbv37dvH+PGjePw4cPcd999/Pbbbxw/fpzCwkJM02TevHkApYqNF154gVdffZXIyEg++ugjdu3aVeK39uPHjy/zvOq6/vrrWbx4Mb179+b777/n4MGD5OXlFd8vOjq6Ru9XpGhWrJycHJKSkujXr1+Jj6IFDqdPn35WM1OdmvvSSy9l06ZNDB8+nF9++aW4hco0TXJzc8/uBYlIg6MWERERsVxRt6fU1NTibbNnzyY7O5tRo0YxZcqUUuds27atzGsVTev72muvFRc4ZzqvcePGAOzatavcjGXty8zM5JtvvsHNzY1vvvmG4ODgUvsPHDhQ7jWrKzk5mW+++QaAw4cPs2TJknKP3b9/P9999x0XXXRRqX07d+4s85yi12qz2QgLCwNgy5YtrF+/noiICL744gs8PEo+QpT3/TjTe3vs2DG1hog0UGoRERGRWlWZloCidTqaNGlSvO3IkSMAxMbGlnnNjz76qMxrVXTepk2bWLduXantXbt2xd/fn9TUVL7//vtS+w8ePFjm9qIWmsDAwFJFCMAHH3xQ7usvGgtTUFBQ5v6KFLVy9OzZs7jlpayP++67Dyh/TZEPPvigzO3vvfceAP369SsuOIre15iYmFJFSEXXSkpKAhwFYn5+frn3EpGGR4WIiIjUqpdffpmJEyeydOnSUvtM02TWrFn873//A+Dyyy8v3te2bVsAPv/88+KB6eAYA/LII4+Ueb1Tz5s2bRp2u714e3JyMhMmTCjzwd/Hx4cbbrgBgDvvvLPE/bKzs7n55pvJzs4udV5kZCQhISEcO3as1CKAy5Yt44EHHigzI5wsuioab1Get99+G3AM9K5I0WD0OXPmkJKSUmr/6tWrefrpp0tsW7x4MdOmTQMoMYi8VatWuLu7s2HDhuIB6EVmz57N1KlTy8xw6aWX0rhxY3bv3s0DDzxQ4nuyceNG/v3vf1f4GkSkHnPW9FwiItIwnTo9a3h4uDl06FDziiuuMIcNG2bGxcUV77vqqqtKrMWRn59vdu3a1QRMf39/86KLLjIvu+wyMzY21vT09Cyeuvb0KWqXLVtmenl5FS8meNlll5kXXHCB6ePjY7Zv394cNWqUCZjvvPNOifMyMjLMHj16FN/v4osvNseOHWtGRUVVuKDhqa+vZ8+e5vjx482+ffuahmGYV199dbmL9c2ZM8cETC8vL3P48OHmtddea1533XVlLrZ4qgULFpiA6e3tbR45cuSM73+XLl1MwHz22WeLt52+oGH79u3N8ePHm0lJScULGt5+++2lrnX77bebgOnm5mYmJSWZ48ePL77+P/7xj+L3oazMvr6+JmAmJCSYl19+uXneeeeZnp6e5ujRo7WgoUgDpUJERERqVVpamvnll1+at912m9mjRw+zSZMmpqenp+nj42MmJCSY48ePL3PtDtN0LIb44IMPmq1btzZtNpsZERFhjhw50ly1apX5888/l7tWxvr1680RI0aY0dHRps1mM1u2bGned999Zlpamjlx4sQyCxHTdKz78fDDD5sJCQmml5eXGRkZaV555ZXmzp07zUcffbTcdUS+/PJLs0+fPmZwcLDp7+9vduvWzXz55ZdNu91e4UP2G2+8YXbp0qX4Ib28XKe6+uqrTcC89NJLKzyuyH//+18TMNu2bVu87dQ1TObPn28OHjzYDAoKMn18fMxu3bqZ06dPL/NadrvdfOutt8yuXbua/v7+ZlBQkNmvXz9zxowZpmma5RYipmmaGzZsMEePHm2Ghoaa3t7eZtu2bc2nnnrKzM/PVyEi0kAZplnD03iIiIiIiIicgcaIiIiIiIiI06kQERERERERp1MhIiIiIiIiTqdCREREREREnE6FiIiIiIiIOJ0KERERERERcToVIiIiIiIi4nQqRERERERExOlUiIiIiIiIiNOpEBEREREREadTISIiIiIiIk6nQkRERERERJxOhYiIiIiIiDidChEREREREXE6FSIiIiIiIuJ0KkRERERERMTpVIiIiIiIiIjTqRARERERERGnUyEiIiIiIiJOp0JEREREREScToWIiIiIiIg4nQoRERERERFxOhUiIiIiIiLidCpERERERETE6VSIiIiIiIiI06kQERERERERp1MhIiIiIiIiTqdCREREREREnE6FiIiIiIiIOJ0KERERERERcToVIiIiIiIi4nQqRERERERExOlUiIiIiIiIiNOpEBEREREREadTISIiIiIiIk6nQkRERERERJxOhYiIiIiIiDidChEREREREXE6FSIiIiIiIuJ0KkRERERERMTpVIiIiIiIiIjTqRARERERERGnUyEiIiIiIiJOp0JERERERESc7v8BU6wxpf8SOicAAAAASUVORK5CYII=",
      "text/plain": [
       "<Figure size 800x800 with 1 Axes>"
      ]
     },
     "metadata": {},
     "output_type": "display_data"
    }
   ],
   "source": [
    "five_most_exp.groupby(['Address']).sum().plot(kind='pie', y='Price(USD)_2023', autopct='%1.0f%%',\n",
    "                                colors = ['#00C69C' ,'#0071C6','#00AAAA', '#00E28E', '#00FF80'],\n",
    "                                title='Address of 5 Most Expensive House' , figsize=(8,8) , fontsize=16)"
   ]
  },
  {
   "cell_type": "code",
   "execution_count": 23,
   "metadata": {},
   "outputs": [
    {
     "name": "stderr",
     "output_type": "stream",
     "text": [
      "C:\\Users\\Lenovo\\AppData\\Local\\Temp\\ipykernel_20776\\2627137660.py:1: FutureWarning: The default value of numeric_only in DataFrame.corr is deprecated. In a future version, it will default to False. Select only valid columns or specify the value of numeric_only to silence this warning.\n",
      "  data.corr()\n"
     ]
    },
    {
     "data": {
      "text/html": [
       "<div>\n",
       "<style scoped>\n",
       "    .dataframe tbody tr th:only-of-type {\n",
       "        vertical-align: middle;\n",
       "    }\n",
       "\n",
       "    .dataframe tbody tr th {\n",
       "        vertical-align: top;\n",
       "    }\n",
       "\n",
       "    .dataframe thead th {\n",
       "        text-align: right;\n",
       "    }\n",
       "</style>\n",
       "<table border=\"1\" class=\"dataframe\">\n",
       "  <thead>\n",
       "    <tr style=\"text-align: right;\">\n",
       "      <th></th>\n",
       "      <th>Area</th>\n",
       "      <th>Room</th>\n",
       "      <th>Parking</th>\n",
       "      <th>Warehouse</th>\n",
       "      <th>Elevator</th>\n",
       "      <th>Price(USD)</th>\n",
       "      <th>Price(USD)_2023</th>\n",
       "    </tr>\n",
       "  </thead>\n",
       "  <tbody>\n",
       "    <tr>\n",
       "      <th>Area</th>\n",
       "      <td>1.000000</td>\n",
       "      <td>0.672959</td>\n",
       "      <td>0.197698</td>\n",
       "      <td>0.076829</td>\n",
       "      <td>0.052384</td>\n",
       "      <td>0.722647</td>\n",
       "      <td>0.722647</td>\n",
       "    </tr>\n",
       "    <tr>\n",
       "      <th>Room</th>\n",
       "      <td>0.672959</td>\n",
       "      <td>1.000000</td>\n",
       "      <td>0.274952</td>\n",
       "      <td>0.129956</td>\n",
       "      <td>0.181718</td>\n",
       "      <td>0.567610</td>\n",
       "      <td>0.567610</td>\n",
       "    </tr>\n",
       "    <tr>\n",
       "      <th>Parking</th>\n",
       "      <td>0.197698</td>\n",
       "      <td>0.274952</td>\n",
       "      <td>1.000000</td>\n",
       "      <td>0.430804</td>\n",
       "      <td>0.430893</td>\n",
       "      <td>0.190532</td>\n",
       "      <td>0.190532</td>\n",
       "    </tr>\n",
       "    <tr>\n",
       "      <th>Warehouse</th>\n",
       "      <td>0.076829</td>\n",
       "      <td>0.129956</td>\n",
       "      <td>0.430804</td>\n",
       "      <td>1.000000</td>\n",
       "      <td>0.201921</td>\n",
       "      <td>0.109971</td>\n",
       "      <td>0.109971</td>\n",
       "    </tr>\n",
       "    <tr>\n",
       "      <th>Elevator</th>\n",
       "      <td>0.052384</td>\n",
       "      <td>0.181718</td>\n",
       "      <td>0.430893</td>\n",
       "      <td>0.201921</td>\n",
       "      <td>1.000000</td>\n",
       "      <td>0.111861</td>\n",
       "      <td>0.111861</td>\n",
       "    </tr>\n",
       "    <tr>\n",
       "      <th>Price(USD)</th>\n",
       "      <td>0.722647</td>\n",
       "      <td>0.567610</td>\n",
       "      <td>0.190532</td>\n",
       "      <td>0.109971</td>\n",
       "      <td>0.111861</td>\n",
       "      <td>1.000000</td>\n",
       "      <td>1.000000</td>\n",
       "    </tr>\n",
       "    <tr>\n",
       "      <th>Price(USD)_2023</th>\n",
       "      <td>0.722647</td>\n",
       "      <td>0.567610</td>\n",
       "      <td>0.190532</td>\n",
       "      <td>0.109971</td>\n",
       "      <td>0.111861</td>\n",
       "      <td>1.000000</td>\n",
       "      <td>1.000000</td>\n",
       "    </tr>\n",
       "  </tbody>\n",
       "</table>\n",
       "</div>"
      ],
      "text/plain": [
       "                     Area      Room   Parking  Warehouse  Elevator  \\\n",
       "Area             1.000000  0.672959  0.197698   0.076829  0.052384   \n",
       "Room             0.672959  1.000000  0.274952   0.129956  0.181718   \n",
       "Parking          0.197698  0.274952  1.000000   0.430804  0.430893   \n",
       "Warehouse        0.076829  0.129956  0.430804   1.000000  0.201921   \n",
       "Elevator         0.052384  0.181718  0.430893   0.201921  1.000000   \n",
       "Price(USD)       0.722647  0.567610  0.190532   0.109971  0.111861   \n",
       "Price(USD)_2023  0.722647  0.567610  0.190532   0.109971  0.111861   \n",
       "\n",
       "                 Price(USD)  Price(USD)_2023  \n",
       "Area               0.722647         0.722647  \n",
       "Room               0.567610         0.567610  \n",
       "Parking            0.190532         0.190532  \n",
       "Warehouse          0.109971         0.109971  \n",
       "Elevator           0.111861         0.111861  \n",
       "Price(USD)         1.000000         1.000000  \n",
       "Price(USD)_2023    1.000000         1.000000  "
      ]
     },
     "execution_count": 23,
     "metadata": {},
     "output_type": "execute_result"
    }
   ],
   "source": [
    "data.corr()"
   ]
  },
  {
   "cell_type": "code",
   "execution_count": 24,
   "metadata": {},
   "outputs": [
    {
     "data": {
      "text/plain": [
       "((3473, 4), (3473, 1))"
      ]
     },
     "execution_count": 24,
     "metadata": {},
     "output_type": "execute_result"
    }
   ],
   "source": [
    "X = np.array((data[\"Area\"] , data[\"Room\"] , data[\"Parking\"] , data[\"Elevator\"])).T\n",
    "Y = np.array(data[[\"Price(USD)_2023\"]])\n",
    "X.shape , Y.shape"
   ]
  },
  {
   "cell_type": "markdown",
   "metadata": {},
   "source": [
    "# Train :"
   ]
  },
  {
   "cell_type": "code",
   "execution_count": 25,
   "metadata": {},
   "outputs": [
    {
     "data": {
      "text/plain": [
       "((2778, 4), (2778, 1), (695, 4), (695, 1))"
      ]
     },
     "execution_count": 25,
     "metadata": {},
     "output_type": "execute_result"
    }
   ],
   "source": [
    "x_train , x_test , y_train , y_test = train_test_split(X,Y , test_size=0.2 , random_state=40)\n",
    "x_train.shape , y_train.shape , x_test.shape , y_test.shape "
   ]
  },
  {
   "cell_type": "code",
   "execution_count": 26,
   "metadata": {},
   "outputs": [],
   "source": [
    "lls = LinearLeastSquare()\n",
    "lls.fit(x_train , y_train)\n",
    "y_pred = lls.predict(x_test)\n"
   ]
  },
  {
   "cell_type": "code",
   "execution_count": 34,
   "metadata": {},
   "outputs": [
    {
     "name": "stdout",
     "output_type": "stream",
     "text": [
      "LLS MAE = 164786.0465257594\n",
      "LLS MSE = 93382490835.12518\n",
      "LLS RMSE = 305585.48858727765\n"
     ]
    }
   ],
   "source": [
    "MAE_lls = lls.evaluate(x_test , y_test , \"mae\")\n",
    "MSE_lls = lls.evaluate(x_test , y_test , \"mse\")\n",
    "RMSE_lls = lls.evaluate(x_test , y_test , \"rmse\")\n",
    "\n",
    "print(\"LLS MAE =\" , MAE_lls)\n",
    "print(\"LLS MSE =\" , MSE_lls)\n",
    "print(\"LLS RMSE =\" , RMSE_lls)\n"
   ]
  },
  {
   "cell_type": "markdown",
   "metadata": {},
   "source": [
    "## Compare result with Scikit-Learn's results"
   ]
  },
  {
   "cell_type": "code",
   "execution_count": 28,
   "metadata": {},
   "outputs": [],
   "source": [
    "from sklearn.linear_model import LinearRegression\n",
    "from sklearn.metrics import mean_absolute_error\n",
    "from sklearn.metrics import mean_squared_error"
   ]
  },
  {
   "cell_type": "code",
   "execution_count": 29,
   "metadata": {},
   "outputs": [
    {
     "data": {
      "text/plain": [
       "((2778, 4), (2778, 1), (695, 4), (695, 1))"
      ]
     },
     "execution_count": 29,
     "metadata": {},
     "output_type": "execute_result"
    }
   ],
   "source": [
    "x_train , x_test , y_train , y_test = train_test_split(X,Y , test_size=0.2 , random_state=40)\n",
    "x_train.shape , y_train.shape , x_test.shape , y_test.shape "
   ]
  },
  {
   "cell_type": "code",
   "execution_count": 30,
   "metadata": {},
   "outputs": [],
   "source": [
    "linear_linreg = LinearRegression()\n",
    "linear_linreg.fit(x_train , y_train)\n",
    "y_pred_linreg = linear_linreg.predict(x_test)"
   ]
  },
  {
   "cell_type": "code",
   "execution_count": 31,
   "metadata": {},
   "outputs": [
    {
     "name": "stdout",
     "output_type": "stream",
     "text": [
      "LinearRegression MAE = 154189.771756036\n",
      "LinearRegression MSE = 82752993809.59225\n",
      "LinearRegression RMSE = 287668.20090095507\n"
     ]
    }
   ],
   "source": [
    "MAE_linreg = mean_absolute_error(y_test , y_pred_linreg)\n",
    "MSE_linreg = mean_squared_error(y_test , y_pred_linreg)\n",
    "RMSE_linreg = np.sqrt(MSE_linreg)\n",
    "\n",
    "print(\"LinearRegression MAE =\" , MAE_linreg)\n",
    "print(\"LinearRegression MSE =\" , MSE_linreg)\n",
    "print(\"LinearRegression RMSE =\" , RMSE_linreg)"
   ]
  },
  {
   "cell_type": "markdown",
   "metadata": {},
   "source": [
    "## RidgeCV"
   ]
  },
  {
   "cell_type": "code",
   "execution_count": 33,
   "metadata": {},
   "outputs": [
    {
     "name": "stdout",
     "output_type": "stream",
     "text": [
      "RidgeCV MAE = 153915.16499182864\n",
      "RidgeCV MSE = 82695756380.29773\n",
      "RidgeCV RMSE = 287568.6985405361\n"
     ]
    }
   ],
   "source": [
    "from sklearn.linear_model import RidgeCV  # Linear least squares with l2 regularization\n",
    "\n",
    "rg = RidgeCV()\n",
    "rg.fit(x_train , y_train)\n",
    "y_pred_rg= rg.predict(x_test)\n",
    "\n",
    "MAE_ridge = mean_absolute_error(y_test , y_pred_rg)\n",
    "MSE_ridge = mean_squared_error(y_test , y_pred_rg)\n",
    "RMSE_ridge = np.sqrt(MSE_ridge)\n",
    "\n",
    "\n",
<<<<<<< HEAD
    "print(\"RidgeCV MAE =\" , MAE_ridge)\n",
    "print(\"RidgeCV MSE =\" , MSE_ridge)\n",
    "print(\"RidgeCV RMSE =\" , RMSE_ridge)"
=======
    "print(\" RidgeCV MAE =\" , MAE_ridge)\n",
    "print(\" RidgeCV MSE =\" , MSE_ridge)\n",
    "print(\" RidgeCV RMSE =\" , RMSE_ridge)"
>>>>>>> dd33b06228f1682cc6719274b81605fa4d1ca67c
   ]
  },
  {
   "cell_type": "markdown",
   "metadata": {},
   "source": [
    "|ERROR | MeanAbsoluteError | MeanSquaredError | RootMeanSquaredError |\n",
    "| :---          |     :---:      |     :---:     |          ---: |\n",
    "|LinearLeastSquare| 164786.0465257594    | 93382490835.12518    | 305585.48858727765    |\n",
    "|LinearRegression | 154189.771756036     | 82752993809.59225    | 287668.20090095507    |\n",
    "|RidgeCV          | 153915.16499182864     | 82695756380.29773    | 287568.6985405361    |"
   ]
  }
 ],
 "metadata": {
  "kernelspec": {
   "display_name": "Python 3",
   "language": "python",
   "name": "python3"
  },
  "language_info": {
   "codemirror_mode": {
    "name": "ipython",
    "version": 3
   },
   "file_extension": ".py",
   "mimetype": "text/x-python",
   "name": "python",
   "nbconvert_exporter": "python",
   "pygments_lexer": "ipython3",
   "version": "3.10.1"
  },
  "orig_nbformat": 4
 },
 "nbformat": 4,
 "nbformat_minor": 2
}
